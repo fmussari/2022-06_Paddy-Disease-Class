{
 "cells": [
  {
   "cell_type": "markdown",
   "id": "fa97ec1b",
   "metadata": {
    "papermill": {
     "duration": 0.008652,
     "end_time": "2022-07-18T03:46:48.034944",
     "exception": false,
     "start_time": "2022-07-18T03:46:48.026292",
     "status": "completed"
    },
    "tags": []
   },
   "source": [
    "## Stratified K-Fold Cross-Validation and Resnet34 with fast.ai"
   ]
  },
  {
   "cell_type": "markdown",
   "id": "66ce9750",
   "metadata": {
    "papermill": {
     "duration": 0.007373,
     "end_time": "2022-07-18T03:46:48.049548",
     "exception": false,
     "start_time": "2022-07-18T03:46:48.042175",
     "status": "completed"
    },
    "tags": []
   },
   "source": [
    "- The first notebook of this serie was a simple baseline using resnet34: [Fast Resnet34 with Fastai](https://www.kaggle.com/code/fmussari/fast-resnet34-with-fastai)  \n",
    "- In this notebook we are going to explore that same model, ensembling the trainings of 5 folds to see how much that improves the accuracy.\n",
    "  \n"
   ]
  },
  {
   "cell_type": "markdown",
   "id": "b14eedd6",
   "metadata": {
    "papermill": {
     "duration": 0.006802,
     "end_time": "2022-07-18T03:46:48.064088",
     "exception": false,
     "start_time": "2022-07-18T03:46:48.057286",
     "status": "completed"
    },
    "tags": []
   },
   "source": [
    "<img src=\"https://drive.google.com/uc?export=view&id=1EucGY8cJYJiuAZHBp95UdS22zVeWvyjl\" width=\"500\">"
   ]
  },
  {
   "cell_type": "markdown",
   "id": "9e973ab6",
   "metadata": {
    "papermill": {
     "duration": 0.007205,
     "end_time": "2022-07-18T03:46:48.078352",
     "exception": false,
     "start_time": "2022-07-18T03:46:48.071147",
     "status": "completed"
    },
    "tags": []
   },
   "source": [
    "## Acknowledgements\n",
    "\n",
    "- [Fast Resnet34 with Fastai](https://www.kaggle.com/code/fmussari/fast-resnet34-with-fastai)\n",
    "\n",
    "**fastai course:**\n",
    "- [Practical Deep Learning for Coders (a UQ collaboration with fast.ai)](https://itee.uq.edu.au/event/2022/practical-deep-learning-coders-uq-fastai)  \n",
    "\n",
    "**Jeremy's Notebook Series:**\n",
    "- [First Steps: Road to the Top, Part 1](https://www.kaggle.com/code/jhoward/first-steps-road-to-the-top-part-1)\n",
    "- [Small models: Road to the Top, Part 2](https://www.kaggle.com/code/jhoward/small-models-road-to-the-top-part-2)\n",
    "- [Scaling Up: Road to the Top, Part 3](https://www.kaggle.com/code/jhoward/scaling-up-road-to-the-top-part-3)\n",
    "- [Multi-target: Road to the Top, Part 4](https://www.kaggle.com/code/jhoward/multi-target-road-to-the-top-part-4)"
   ]
  },
  {
   "cell_type": "markdown",
   "id": "d16c36e4",
   "metadata": {
    "papermill": {
     "duration": 0.007284,
     "end_time": "2022-07-18T03:46:48.092874",
     "exception": false,
     "start_time": "2022-07-18T03:46:48.085590",
     "status": "completed"
    },
    "tags": []
   },
   "source": [
    "## K-Fold"
   ]
  },
  {
   "cell_type": "markdown",
   "id": "d759bcff",
   "metadata": {
    "papermill": {
     "duration": 0.007003,
     "end_time": "2022-07-18T03:46:48.106918",
     "exception": false,
     "start_time": "2022-07-18T03:46:48.099915",
     "status": "completed"
    },
    "tags": []
   },
   "source": [
    "- K-Fold is a technique in which data is divided into K parts. In this case we are going to use K=5.\n",
    "- We will do 5 trainings, each one with a different validation set (in each experiment we are going to take one fold for validation and the other four for training).\n",
    "- This way we'll end up with 5 models trained in slightly different data, but with completely different validations.\n",
    "- We don't know wich of them is the best model, but we could assume that taking the mean of them would be the best for generalization.\n",
    "- We are going to use [KFold from sklearn](https://scikit-learn.org/stable/modules/generated/sklearn.model_selection.KFold.html)."
   ]
  },
  {
   "cell_type": "markdown",
   "id": "4ed4b358",
   "metadata": {
    "papermill": {
     "duration": 0.007397,
     "end_time": "2022-07-18T03:46:48.121477",
     "exception": false,
     "start_time": "2022-07-18T03:46:48.114080",
     "status": "completed"
    },
    "tags": []
   },
   "source": [
    "## Installing the libraries\n"
   ]
  },
  {
   "cell_type": "code",
   "execution_count": 1,
   "id": "d34d7516",
   "metadata": {
    "_kg_hide-input": true,
    "execution": {
     "iopub.execute_input": "2022-07-18T03:46:48.137601Z",
     "iopub.status.busy": "2022-07-18T03:46:48.137084Z",
     "iopub.status.idle": "2022-07-18T03:47:03.316787Z",
     "shell.execute_reply": "2022-07-18T03:47:03.315795Z"
    },
    "papermill": {
     "duration": 15.190543,
     "end_time": "2022-07-18T03:47:03.319334",
     "exception": false,
     "start_time": "2022-07-18T03:46:48.128791",
     "status": "completed"
    },
    "tags": []
   },
   "outputs": [
    {
     "name": "stdout",
     "output_type": "stream",
     "text": [
      "\u001b[33mWARNING: Running pip as the 'root' user can result in broken permissions and conflicting behaviour with the system package manager. It is recommended to use a virtual environment instead: https://pip.pypa.io/warnings/venv\u001b[0m\u001b[33m\r\n",
      "\u001b[0m"
     ]
    }
   ],
   "source": [
    "# fastkaggle allows you to work locally and then submit the results and notebook to Kaggle\n",
    "\n",
    "try: import fastkaggle\n",
    "\n",
    "except ModuleNotFoundError:\n",
    "    !pip install -Uq fastkaggle\n",
    "\n",
    "from fastkaggle import *\n",
    "from sklearn.model_selection import KFold\n",
    "import plotly.express as px\n",
    "from datetime import datetime as dt"
   ]
  },
  {
   "cell_type": "code",
   "execution_count": 2,
   "id": "6e520a02",
   "metadata": {
    "execution": {
     "iopub.execute_input": "2022-07-18T03:47:03.335962Z",
     "iopub.status.busy": "2022-07-18T03:47:03.335601Z",
     "iopub.status.idle": "2022-07-18T03:47:17.254594Z",
     "shell.execute_reply": "2022-07-18T03:47:17.253468Z"
    },
    "papermill": {
     "duration": 13.929959,
     "end_time": "2022-07-18T03:47:17.257001",
     "exception": false,
     "start_time": "2022-07-18T03:47:03.327042",
     "status": "completed"
    },
    "tags": []
   },
   "outputs": [],
   "source": [
    "competition = 'paddy-disease-classification'\n",
    "path = setup_comp(competition, install='fastai \"timm>=0.6.2.dev0\"')\n",
    "\n",
    "from fastai.vision.all import *\n",
    "#from scipy.special import softmax, log_softmax\n",
    "import gc"
   ]
  },
  {
   "cell_type": "markdown",
   "id": "38634bcb",
   "metadata": {
    "papermill": {
     "duration": 0.007104,
     "end_time": "2022-07-18T03:47:17.272540",
     "exception": false,
     "start_time": "2022-07-18T03:47:17.265436",
     "status": "completed"
    },
    "tags": []
   },
   "source": [
    "## Setting data paths"
   ]
  },
  {
   "cell_type": "code",
   "execution_count": 3,
   "id": "89d61890",
   "metadata": {
    "execution": {
     "iopub.execute_input": "2022-07-18T03:47:17.289984Z",
     "iopub.status.busy": "2022-07-18T03:47:17.288979Z",
     "iopub.status.idle": "2022-07-18T03:47:20.072854Z",
     "shell.execute_reply": "2022-07-18T03:47:20.071861Z"
    },
    "papermill": {
     "duration": 2.795314,
     "end_time": "2022-07-18T03:47:20.075364",
     "exception": false,
     "start_time": "2022-07-18T03:47:17.280050",
     "status": "completed"
    },
    "tags": []
   },
   "outputs": [],
   "source": [
    "# train images\n",
    "train_path = path / 'train_images'\n",
    "train_files = get_image_files(train_path)\n",
    "\n",
    "# test images\n",
    "test_path = path/'test_images'\n",
    "test_files = get_image_files(test_path).sorted()\n",
    "\n",
    "# sample submission\n",
    "sample_submission = pd.read_csv(path/'sample_submission.csv')\n",
    "\n",
    "# train labels\n",
    "train_df = pd.read_csv(path / 'train.csv')\n"
   ]
  },
  {
   "cell_type": "markdown",
   "id": "fb9c5841",
   "metadata": {
    "papermill": {
     "duration": 0.007433,
     "end_time": "2022-07-18T03:47:20.090520",
     "exception": false,
     "start_time": "2022-07-18T03:47:20.083087",
     "status": "completed"
    },
    "tags": []
   },
   "source": [
    "### target distribution"
   ]
  },
  {
   "cell_type": "code",
   "execution_count": 4,
   "id": "3abc4404",
   "metadata": {
    "execution": {
     "iopub.execute_input": "2022-07-18T03:47:20.106797Z",
     "iopub.status.busy": "2022-07-18T03:47:20.106482Z",
     "iopub.status.idle": "2022-07-18T03:47:20.128521Z",
     "shell.execute_reply": "2022-07-18T03:47:20.127350Z"
    },
    "papermill": {
     "duration": 0.032549,
     "end_time": "2022-07-18T03:47:20.130789",
     "exception": false,
     "start_time": "2022-07-18T03:47:20.098240",
     "status": "completed"
    },
    "tags": []
   },
   "outputs": [
    {
     "data": {
      "text/plain": [
       "normal                      16.950130\n",
       "blast                       16.700298\n",
       "hispa                       15.316614\n",
       "dead_heart                  13.856058\n",
       "tungro                      10.454502\n",
       "brown_spot                   9.272605\n",
       "downy_mildew                 5.957529\n",
       "bacterial_leaf_blight        4.602671\n",
       "bacterial_leaf_streak        3.651388\n",
       "bacterial_panicle_blight     3.238205\n",
       "Name: label, dtype: float64"
      ]
     },
     "execution_count": 4,
     "metadata": {},
     "output_type": "execute_result"
    }
   ],
   "source": [
    "train_df.label.value_counts() * 100 / len(train_df)"
   ]
  },
  {
   "cell_type": "markdown",
   "id": "b4c13812",
   "metadata": {
    "papermill": {
     "duration": 0.007482,
     "end_time": "2022-07-18T03:47:20.146191",
     "exception": false,
     "start_time": "2022-07-18T03:47:20.138709",
     "status": "completed"
    },
    "tags": []
   },
   "source": [
    "## Stratified Folding\n",
    "- If we apply sklearn KFold to all the dataset, we could end up with 5 folds that don't have the same distributions by targets as our full dataset.\n",
    "- There is a sklearn function called [StratifiedKFold](https://scikit-learn.org/stable/modules/generated/sklearn.model_selection.StratifiedKFold.html#sklearn.model_selection.StratifiedKFold) to assure that each fold preserves the percentage of samples for each target class.\n",
    "- Or, as we are going to do here, we can apply K-Fold individually to each of the labels. If we divide each class in 5 randomly, we are sure that at the end, when we join the pieces, we are going to have the same distribution.\n",
    "- To keep track of which image belongs to what fold, we can create a field called `kfold` and initializa it with"
   ]
  },
  {
   "cell_type": "code",
   "execution_count": 5,
   "id": "0db615d7",
   "metadata": {
    "execution": {
     "iopub.execute_input": "2022-07-18T03:47:20.163028Z",
     "iopub.status.busy": "2022-07-18T03:47:20.162505Z",
     "iopub.status.idle": "2022-07-18T03:47:20.221447Z",
     "shell.execute_reply": "2022-07-18T03:47:20.220635Z"
    },
    "papermill": {
     "duration": 0.069452,
     "end_time": "2022-07-18T03:47:20.223422",
     "exception": false,
     "start_time": "2022-07-18T03:47:20.153970",
     "status": "completed"
    },
    "tags": []
   },
   "outputs": [],
   "source": [
    "train_df['kfold'] = -1\n",
    "\n",
    "# Number of Splits\n",
    "n_folds=5\n",
    "reversed = False\n",
    "\n",
    "# For each label we are going to create n_folds folds\n",
    "for label in train_df.label.unique():\n",
    "    \n",
    "    # Assign fold number from 0 to n_folds or from n_folds to 0\n",
    "    # Because KFold assigns less data for last fold (we assign it to fold 0 or n_folds)\n",
    "    folds = list(range(n_folds))\n",
    "    if reversed: folds.reverse()\n",
    "    \n",
    "    kf = KFold(n_splits=n_folds, random_state=42, shuffle=True)\n",
    "    \n",
    "    # Indices for each label\n",
    "    label_idxs = train_df[train_df.label==label].index\n",
    "    \n",
    "    # Creating folds for those indices\n",
    "    kf.get_n_splits(label_idxs)\n",
    "\n",
    "    for _, valid_index in kf.split(label_idxs):\n",
    "\n",
    "        actual_fold = folds.pop(0)\n",
    "        df_index = label_idxs[valid_index]\n",
    "        train_df.loc[df_index, 'kfold'] = actual_fold\n",
    "    reversed = not reversed\n",
    "        "
   ]
  },
  {
   "cell_type": "code",
   "execution_count": 6,
   "id": "4e0f49f5",
   "metadata": {
    "execution": {
     "iopub.execute_input": "2022-07-18T03:47:20.240501Z",
     "iopub.status.busy": "2022-07-18T03:47:20.239808Z",
     "iopub.status.idle": "2022-07-18T03:47:20.254008Z",
     "shell.execute_reply": "2022-07-18T03:47:20.252961Z"
    },
    "papermill": {
     "duration": 0.024852,
     "end_time": "2022-07-18T03:47:20.255989",
     "exception": false,
     "start_time": "2022-07-18T03:47:20.231137",
     "status": "completed"
    },
    "tags": []
   },
   "outputs": [
    {
     "data": {
      "text/html": [
       "<div>\n",
       "<style scoped>\n",
       "    .dataframe tbody tr th:only-of-type {\n",
       "        vertical-align: middle;\n",
       "    }\n",
       "\n",
       "    .dataframe tbody tr th {\n",
       "        vertical-align: top;\n",
       "    }\n",
       "\n",
       "    .dataframe thead th {\n",
       "        text-align: right;\n",
       "    }\n",
       "</style>\n",
       "<table border=\"1\" class=\"dataframe\">\n",
       "  <thead>\n",
       "    <tr style=\"text-align: right;\">\n",
       "      <th></th>\n",
       "      <th>image_id</th>\n",
       "      <th>label</th>\n",
       "      <th>variety</th>\n",
       "      <th>age</th>\n",
       "      <th>kfold</th>\n",
       "    </tr>\n",
       "  </thead>\n",
       "  <tbody>\n",
       "    <tr>\n",
       "      <th>6165</th>\n",
       "      <td>106728.jpg</td>\n",
       "      <td>hispa</td>\n",
       "      <td>ADT45</td>\n",
       "      <td>50</td>\n",
       "      <td>2</td>\n",
       "    </tr>\n",
       "    <tr>\n",
       "      <th>6892</th>\n",
       "      <td>105414.jpg</td>\n",
       "      <td>hispa</td>\n",
       "      <td>AndraPonni</td>\n",
       "      <td>65</td>\n",
       "      <td>2</td>\n",
       "    </tr>\n",
       "    <tr>\n",
       "      <th>4639</th>\n",
       "      <td>108404.jpg</td>\n",
       "      <td>dead_heart</td>\n",
       "      <td>ADT45</td>\n",
       "      <td>72</td>\n",
       "      <td>1</td>\n",
       "    </tr>\n",
       "    <tr>\n",
       "      <th>1931</th>\n",
       "      <td>109459.jpg</td>\n",
       "      <td>blast</td>\n",
       "      <td>ADT45</td>\n",
       "      <td>70</td>\n",
       "      <td>1</td>\n",
       "    </tr>\n",
       "    <tr>\n",
       "      <th>4290</th>\n",
       "      <td>104517.jpg</td>\n",
       "      <td>dead_heart</td>\n",
       "      <td>ADT45</td>\n",
       "      <td>70</td>\n",
       "      <td>0</td>\n",
       "    </tr>\n",
       "  </tbody>\n",
       "</table>\n",
       "</div>"
      ],
      "text/plain": [
       "        image_id       label     variety  age  kfold\n",
       "6165  106728.jpg       hispa       ADT45   50      2\n",
       "6892  105414.jpg       hispa  AndraPonni   65      2\n",
       "4639  108404.jpg  dead_heart       ADT45   72      1\n",
       "1931  109459.jpg       blast       ADT45   70      1\n",
       "4290  104517.jpg  dead_heart       ADT45   70      0"
      ]
     },
     "execution_count": 6,
     "metadata": {},
     "output_type": "execute_result"
    }
   ],
   "source": [
    "train_df.sample(5)"
   ]
  },
  {
   "cell_type": "markdown",
   "id": "6d66ce94",
   "metadata": {
    "papermill": {
     "duration": 0.007567,
     "end_time": "2022-07-18T03:47:20.271387",
     "exception": false,
     "start_time": "2022-07-18T03:47:20.263820",
     "status": "completed"
    },
    "tags": []
   },
   "source": [
    "### plot distributions by fold"
   ]
  },
  {
   "cell_type": "code",
   "execution_count": 7,
   "id": "f9b25cfa",
   "metadata": {
    "_kg_hide-input": true,
    "execution": {
     "iopub.execute_input": "2022-07-18T03:47:20.288529Z",
     "iopub.status.busy": "2022-07-18T03:47:20.288260Z",
     "iopub.status.idle": "2022-07-18T03:47:21.235032Z",
     "shell.execute_reply": "2022-07-18T03:47:21.234184Z"
    },
    "papermill": {
     "duration": 0.957519,
     "end_time": "2022-07-18T03:47:21.237012",
     "exception": false,
     "start_time": "2022-07-18T03:47:20.279493",
     "status": "completed"
    },
    "tags": []
   },
   "outputs": [
    {
     "data": {
      "text/html": [
       "        <script type=\"text/javascript\">\n",
       "        window.PlotlyConfig = {MathJaxConfig: 'local'};\n",
       "        if (window.MathJax && window.MathJax.Hub && window.MathJax.Hub.Config) {window.MathJax.Hub.Config({SVG: {font: \"STIX-Web\"}});}\n",
       "        if (typeof require !== 'undefined') {\n",
       "        require.undef(\"plotly\");\n",
       "        requirejs.config({\n",
       "            paths: {\n",
       "                'plotly': ['https://cdn.plot.ly/plotly-2.12.1.min']\n",
       "            }\n",
       "        });\n",
       "        require(['plotly'], function(Plotly) {\n",
       "            window._Plotly = Plotly;\n",
       "        });\n",
       "        }\n",
       "        </script>\n",
       "        "
      ]
     },
     "metadata": {},
     "output_type": "display_data"
    },
    {
     "data": {
      "text/html": [
       "<div>                            <div id=\"893f33c7-3089-4426-9470-fb9162ba3d40\" class=\"plotly-graph-div\" style=\"height:400px; width:100%;\"></div>            <script type=\"text/javascript\">                require([\"plotly\"], function(Plotly) {                    window.PLOTLYENV=window.PLOTLYENV || {};                                    if (document.getElementById(\"893f33c7-3089-4426-9470-fb9162ba3d40\")) {                    Plotly.newPlot(                        \"893f33c7-3089-4426-9470-fb9162ba3d40\",                        [{\"alignmentgroup\":\"True\",\"hovertemplate\":\"label=bacterial_leaf_blight<br>kfold=%{x}<br>count=%{y}<extra></extra>\",\"legendgroup\":\"bacterial_leaf_blight\",\"marker\":{\"color\":\"#636efa\",\"pattern\":{\"shape\":\"\"}},\"name\":\"bacterial_leaf_blight\",\"offsetgroup\":\"bacterial_leaf_blight\",\"orientation\":\"v\",\"showlegend\":true,\"textposition\":\"auto\",\"x\":[0,1,2,3,4],\"xaxis\":\"x\",\"y\":[96,96,96,96,95],\"yaxis\":\"y\",\"type\":\"bar\"},{\"alignmentgroup\":\"True\",\"hovertemplate\":\"label=bacterial_leaf_streak<br>kfold=%{x}<br>count=%{y}<extra></extra>\",\"legendgroup\":\"bacterial_leaf_streak\",\"marker\":{\"color\":\"#EF553B\",\"pattern\":{\"shape\":\"\"}},\"name\":\"bacterial_leaf_streak\",\"offsetgroup\":\"bacterial_leaf_streak\",\"orientation\":\"v\",\"showlegend\":true,\"textposition\":\"auto\",\"x\":[0,1,2,3,4],\"xaxis\":\"x\",\"y\":[76,76,76,76,76],\"yaxis\":\"y\",\"type\":\"bar\"},{\"alignmentgroup\":\"True\",\"hovertemplate\":\"label=bacterial_panicle_blight<br>kfold=%{x}<br>count=%{y}<extra></extra>\",\"legendgroup\":\"bacterial_panicle_blight\",\"marker\":{\"color\":\"#00cc96\",\"pattern\":{\"shape\":\"\"}},\"name\":\"bacterial_panicle_blight\",\"offsetgroup\":\"bacterial_panicle_blight\",\"orientation\":\"v\",\"showlegend\":true,\"textposition\":\"auto\",\"x\":[0,1,2,3,4],\"xaxis\":\"x\",\"y\":[68,68,67,67,67],\"yaxis\":\"y\",\"type\":\"bar\"},{\"alignmentgroup\":\"True\",\"hovertemplate\":\"label=blast<br>kfold=%{x}<br>count=%{y}<extra></extra>\",\"legendgroup\":\"blast\",\"marker\":{\"color\":\"#ab63fa\",\"pattern\":{\"shape\":\"\"}},\"name\":\"blast\",\"offsetgroup\":\"blast\",\"orientation\":\"v\",\"showlegend\":true,\"textposition\":\"auto\",\"x\":[0,1,2,3,4],\"xaxis\":\"x\",\"y\":[347,347,348,348,348],\"yaxis\":\"y\",\"type\":\"bar\"},{\"alignmentgroup\":\"True\",\"hovertemplate\":\"label=brown_spot<br>kfold=%{x}<br>count=%{y}<extra></extra>\",\"legendgroup\":\"brown_spot\",\"marker\":{\"color\":\"#FFA15A\",\"pattern\":{\"shape\":\"\"}},\"name\":\"brown_spot\",\"offsetgroup\":\"brown_spot\",\"orientation\":\"v\",\"showlegend\":true,\"textposition\":\"auto\",\"x\":[0,1,2,3,4],\"xaxis\":\"x\",\"y\":[193,193,193,193,193],\"yaxis\":\"y\",\"type\":\"bar\"},{\"alignmentgroup\":\"True\",\"hovertemplate\":\"label=dead_heart<br>kfold=%{x}<br>count=%{y}<extra></extra>\",\"legendgroup\":\"dead_heart\",\"marker\":{\"color\":\"#19d3f3\",\"pattern\":{\"shape\":\"\"}},\"name\":\"dead_heart\",\"offsetgroup\":\"dead_heart\",\"orientation\":\"v\",\"showlegend\":true,\"textposition\":\"auto\",\"x\":[0,1,2,3,4],\"xaxis\":\"x\",\"y\":[288,288,288,289,289],\"yaxis\":\"y\",\"type\":\"bar\"},{\"alignmentgroup\":\"True\",\"hovertemplate\":\"label=downy_mildew<br>kfold=%{x}<br>count=%{y}<extra></extra>\",\"legendgroup\":\"downy_mildew\",\"marker\":{\"color\":\"#FF6692\",\"pattern\":{\"shape\":\"\"}},\"name\":\"downy_mildew\",\"offsetgroup\":\"downy_mildew\",\"orientation\":\"v\",\"showlegend\":true,\"textposition\":\"auto\",\"x\":[0,1,2,3,4],\"xaxis\":\"x\",\"y\":[124,124,124,124,124],\"yaxis\":\"y\",\"type\":\"bar\"},{\"alignmentgroup\":\"True\",\"hovertemplate\":\"label=hispa<br>kfold=%{x}<br>count=%{y}<extra></extra>\",\"legendgroup\":\"hispa\",\"marker\":{\"color\":\"#B6E880\",\"pattern\":{\"shape\":\"\"}},\"name\":\"hispa\",\"offsetgroup\":\"hispa\",\"orientation\":\"v\",\"showlegend\":true,\"textposition\":\"auto\",\"x\":[0,1,2,3,4],\"xaxis\":\"x\",\"y\":[318,319,319,319,319],\"yaxis\":\"y\",\"type\":\"bar\"},{\"alignmentgroup\":\"True\",\"hovertemplate\":\"label=normal<br>kfold=%{x}<br>count=%{y}<extra></extra>\",\"legendgroup\":\"normal\",\"marker\":{\"color\":\"#FF97FF\",\"pattern\":{\"shape\":\"\"}},\"name\":\"normal\",\"offsetgroup\":\"normal\",\"orientation\":\"v\",\"showlegend\":true,\"textposition\":\"auto\",\"x\":[0,1,2,3,4],\"xaxis\":\"x\",\"y\":[353,353,353,353,352],\"yaxis\":\"y\",\"type\":\"bar\"},{\"alignmentgroup\":\"True\",\"hovertemplate\":\"label=tungro<br>kfold=%{x}<br>count=%{y}<extra></extra>\",\"legendgroup\":\"tungro\",\"marker\":{\"color\":\"#FECB52\",\"pattern\":{\"shape\":\"\"}},\"name\":\"tungro\",\"offsetgroup\":\"tungro\",\"orientation\":\"v\",\"showlegend\":true,\"textposition\":\"auto\",\"x\":[0,1,2,3,4],\"xaxis\":\"x\",\"y\":[217,217,218,218,218],\"yaxis\":\"y\",\"type\":\"bar\"}],                        {\"template\":{\"data\":{\"histogram2dcontour\":[{\"type\":\"histogram2dcontour\",\"colorbar\":{\"outlinewidth\":0,\"ticks\":\"\"},\"colorscale\":[[0.0,\"#0d0887\"],[0.1111111111111111,\"#46039f\"],[0.2222222222222222,\"#7201a8\"],[0.3333333333333333,\"#9c179e\"],[0.4444444444444444,\"#bd3786\"],[0.5555555555555556,\"#d8576b\"],[0.6666666666666666,\"#ed7953\"],[0.7777777777777778,\"#fb9f3a\"],[0.8888888888888888,\"#fdca26\"],[1.0,\"#f0f921\"]]}],\"choropleth\":[{\"type\":\"choropleth\",\"colorbar\":{\"outlinewidth\":0,\"ticks\":\"\"}}],\"histogram2d\":[{\"type\":\"histogram2d\",\"colorbar\":{\"outlinewidth\":0,\"ticks\":\"\"},\"colorscale\":[[0.0,\"#0d0887\"],[0.1111111111111111,\"#46039f\"],[0.2222222222222222,\"#7201a8\"],[0.3333333333333333,\"#9c179e\"],[0.4444444444444444,\"#bd3786\"],[0.5555555555555556,\"#d8576b\"],[0.6666666666666666,\"#ed7953\"],[0.7777777777777778,\"#fb9f3a\"],[0.8888888888888888,\"#fdca26\"],[1.0,\"#f0f921\"]]}],\"heatmap\":[{\"type\":\"heatmap\",\"colorbar\":{\"outlinewidth\":0,\"ticks\":\"\"},\"colorscale\":[[0.0,\"#0d0887\"],[0.1111111111111111,\"#46039f\"],[0.2222222222222222,\"#7201a8\"],[0.3333333333333333,\"#9c179e\"],[0.4444444444444444,\"#bd3786\"],[0.5555555555555556,\"#d8576b\"],[0.6666666666666666,\"#ed7953\"],[0.7777777777777778,\"#fb9f3a\"],[0.8888888888888888,\"#fdca26\"],[1.0,\"#f0f921\"]]}],\"heatmapgl\":[{\"type\":\"heatmapgl\",\"colorbar\":{\"outlinewidth\":0,\"ticks\":\"\"},\"colorscale\":[[0.0,\"#0d0887\"],[0.1111111111111111,\"#46039f\"],[0.2222222222222222,\"#7201a8\"],[0.3333333333333333,\"#9c179e\"],[0.4444444444444444,\"#bd3786\"],[0.5555555555555556,\"#d8576b\"],[0.6666666666666666,\"#ed7953\"],[0.7777777777777778,\"#fb9f3a\"],[0.8888888888888888,\"#fdca26\"],[1.0,\"#f0f921\"]]}],\"contourcarpet\":[{\"type\":\"contourcarpet\",\"colorbar\":{\"outlinewidth\":0,\"ticks\":\"\"}}],\"contour\":[{\"type\":\"contour\",\"colorbar\":{\"outlinewidth\":0,\"ticks\":\"\"},\"colorscale\":[[0.0,\"#0d0887\"],[0.1111111111111111,\"#46039f\"],[0.2222222222222222,\"#7201a8\"],[0.3333333333333333,\"#9c179e\"],[0.4444444444444444,\"#bd3786\"],[0.5555555555555556,\"#d8576b\"],[0.6666666666666666,\"#ed7953\"],[0.7777777777777778,\"#fb9f3a\"],[0.8888888888888888,\"#fdca26\"],[1.0,\"#f0f921\"]]}],\"surface\":[{\"type\":\"surface\",\"colorbar\":{\"outlinewidth\":0,\"ticks\":\"\"},\"colorscale\":[[0.0,\"#0d0887\"],[0.1111111111111111,\"#46039f\"],[0.2222222222222222,\"#7201a8\"],[0.3333333333333333,\"#9c179e\"],[0.4444444444444444,\"#bd3786\"],[0.5555555555555556,\"#d8576b\"],[0.6666666666666666,\"#ed7953\"],[0.7777777777777778,\"#fb9f3a\"],[0.8888888888888888,\"#fdca26\"],[1.0,\"#f0f921\"]]}],\"mesh3d\":[{\"type\":\"mesh3d\",\"colorbar\":{\"outlinewidth\":0,\"ticks\":\"\"}}],\"scatter\":[{\"fillpattern\":{\"fillmode\":\"overlay\",\"size\":10,\"solidity\":0.2},\"type\":\"scatter\"}],\"parcoords\":[{\"type\":\"parcoords\",\"line\":{\"colorbar\":{\"outlinewidth\":0,\"ticks\":\"\"}}}],\"scatterpolargl\":[{\"type\":\"scatterpolargl\",\"marker\":{\"colorbar\":{\"outlinewidth\":0,\"ticks\":\"\"}}}],\"bar\":[{\"error_x\":{\"color\":\"#2a3f5f\"},\"error_y\":{\"color\":\"#2a3f5f\"},\"marker\":{\"line\":{\"color\":\"#E5ECF6\",\"width\":0.5},\"pattern\":{\"fillmode\":\"overlay\",\"size\":10,\"solidity\":0.2}},\"type\":\"bar\"}],\"scattergeo\":[{\"type\":\"scattergeo\",\"marker\":{\"colorbar\":{\"outlinewidth\":0,\"ticks\":\"\"}}}],\"scatterpolar\":[{\"type\":\"scatterpolar\",\"marker\":{\"colorbar\":{\"outlinewidth\":0,\"ticks\":\"\"}}}],\"histogram\":[{\"marker\":{\"pattern\":{\"fillmode\":\"overlay\",\"size\":10,\"solidity\":0.2}},\"type\":\"histogram\"}],\"scattergl\":[{\"type\":\"scattergl\",\"marker\":{\"colorbar\":{\"outlinewidth\":0,\"ticks\":\"\"}}}],\"scatter3d\":[{\"type\":\"scatter3d\",\"line\":{\"colorbar\":{\"outlinewidth\":0,\"ticks\":\"\"}},\"marker\":{\"colorbar\":{\"outlinewidth\":0,\"ticks\":\"\"}}}],\"scattermapbox\":[{\"type\":\"scattermapbox\",\"marker\":{\"colorbar\":{\"outlinewidth\":0,\"ticks\":\"\"}}}],\"scatterternary\":[{\"type\":\"scatterternary\",\"marker\":{\"colorbar\":{\"outlinewidth\":0,\"ticks\":\"\"}}}],\"scattercarpet\":[{\"type\":\"scattercarpet\",\"marker\":{\"colorbar\":{\"outlinewidth\":0,\"ticks\":\"\"}}}],\"carpet\":[{\"aaxis\":{\"endlinecolor\":\"#2a3f5f\",\"gridcolor\":\"white\",\"linecolor\":\"white\",\"minorgridcolor\":\"white\",\"startlinecolor\":\"#2a3f5f\"},\"baxis\":{\"endlinecolor\":\"#2a3f5f\",\"gridcolor\":\"white\",\"linecolor\":\"white\",\"minorgridcolor\":\"white\",\"startlinecolor\":\"#2a3f5f\"},\"type\":\"carpet\"}],\"table\":[{\"cells\":{\"fill\":{\"color\":\"#EBF0F8\"},\"line\":{\"color\":\"white\"}},\"header\":{\"fill\":{\"color\":\"#C8D4E3\"},\"line\":{\"color\":\"white\"}},\"type\":\"table\"}],\"barpolar\":[{\"marker\":{\"line\":{\"color\":\"#E5ECF6\",\"width\":0.5},\"pattern\":{\"fillmode\":\"overlay\",\"size\":10,\"solidity\":0.2}},\"type\":\"barpolar\"}],\"pie\":[{\"automargin\":true,\"type\":\"pie\"}]},\"layout\":{\"autotypenumbers\":\"strict\",\"colorway\":[\"#636efa\",\"#EF553B\",\"#00cc96\",\"#ab63fa\",\"#FFA15A\",\"#19d3f3\",\"#FF6692\",\"#B6E880\",\"#FF97FF\",\"#FECB52\"],\"font\":{\"color\":\"#2a3f5f\"},\"hovermode\":\"closest\",\"hoverlabel\":{\"align\":\"left\"},\"paper_bgcolor\":\"white\",\"plot_bgcolor\":\"#E5ECF6\",\"polar\":{\"bgcolor\":\"#E5ECF6\",\"angularaxis\":{\"gridcolor\":\"white\",\"linecolor\":\"white\",\"ticks\":\"\"},\"radialaxis\":{\"gridcolor\":\"white\",\"linecolor\":\"white\",\"ticks\":\"\"}},\"ternary\":{\"bgcolor\":\"#E5ECF6\",\"aaxis\":{\"gridcolor\":\"white\",\"linecolor\":\"white\",\"ticks\":\"\"},\"baxis\":{\"gridcolor\":\"white\",\"linecolor\":\"white\",\"ticks\":\"\"},\"caxis\":{\"gridcolor\":\"white\",\"linecolor\":\"white\",\"ticks\":\"\"}},\"coloraxis\":{\"colorbar\":{\"outlinewidth\":0,\"ticks\":\"\"}},\"colorscale\":{\"sequential\":[[0.0,\"#0d0887\"],[0.1111111111111111,\"#46039f\"],[0.2222222222222222,\"#7201a8\"],[0.3333333333333333,\"#9c179e\"],[0.4444444444444444,\"#bd3786\"],[0.5555555555555556,\"#d8576b\"],[0.6666666666666666,\"#ed7953\"],[0.7777777777777778,\"#fb9f3a\"],[0.8888888888888888,\"#fdca26\"],[1.0,\"#f0f921\"]],\"sequentialminus\":[[0.0,\"#0d0887\"],[0.1111111111111111,\"#46039f\"],[0.2222222222222222,\"#7201a8\"],[0.3333333333333333,\"#9c179e\"],[0.4444444444444444,\"#bd3786\"],[0.5555555555555556,\"#d8576b\"],[0.6666666666666666,\"#ed7953\"],[0.7777777777777778,\"#fb9f3a\"],[0.8888888888888888,\"#fdca26\"],[1.0,\"#f0f921\"]],\"diverging\":[[0,\"#8e0152\"],[0.1,\"#c51b7d\"],[0.2,\"#de77ae\"],[0.3,\"#f1b6da\"],[0.4,\"#fde0ef\"],[0.5,\"#f7f7f7\"],[0.6,\"#e6f5d0\"],[0.7,\"#b8e186\"],[0.8,\"#7fbc41\"],[0.9,\"#4d9221\"],[1,\"#276419\"]]},\"xaxis\":{\"gridcolor\":\"white\",\"linecolor\":\"white\",\"ticks\":\"\",\"title\":{\"standoff\":15},\"zerolinecolor\":\"white\",\"automargin\":true,\"zerolinewidth\":2},\"yaxis\":{\"gridcolor\":\"white\",\"linecolor\":\"white\",\"ticks\":\"\",\"title\":{\"standoff\":15},\"zerolinecolor\":\"white\",\"automargin\":true,\"zerolinewidth\":2},\"scene\":{\"xaxis\":{\"backgroundcolor\":\"#E5ECF6\",\"gridcolor\":\"white\",\"linecolor\":\"white\",\"showbackground\":true,\"ticks\":\"\",\"zerolinecolor\":\"white\",\"gridwidth\":2},\"yaxis\":{\"backgroundcolor\":\"#E5ECF6\",\"gridcolor\":\"white\",\"linecolor\":\"white\",\"showbackground\":true,\"ticks\":\"\",\"zerolinecolor\":\"white\",\"gridwidth\":2},\"zaxis\":{\"backgroundcolor\":\"#E5ECF6\",\"gridcolor\":\"white\",\"linecolor\":\"white\",\"showbackground\":true,\"ticks\":\"\",\"zerolinecolor\":\"white\",\"gridwidth\":2}},\"shapedefaults\":{\"line\":{\"color\":\"#2a3f5f\"}},\"annotationdefaults\":{\"arrowcolor\":\"#2a3f5f\",\"arrowhead\":0,\"arrowwidth\":1},\"geo\":{\"bgcolor\":\"white\",\"landcolor\":\"#E5ECF6\",\"subunitcolor\":\"white\",\"showland\":true,\"showlakes\":true,\"lakecolor\":\"white\"},\"title\":{\"x\":0.05},\"mapbox\":{\"style\":\"light\"}}},\"xaxis\":{\"anchor\":\"y\",\"domain\":[0.0,1.0],\"title\":{\"text\":\"kfold\"}},\"yaxis\":{\"anchor\":\"x\",\"domain\":[0.0,1.0],\"title\":{\"text\":\"count\"}},\"legend\":{\"title\":{\"text\":\"label\"},\"tracegroupgap\":0},\"margin\":{\"t\":60},\"barmode\":\"group\",\"height\":400},                        {\"responsive\": true}                    ).then(function(){\n",
       "                            \n",
       "var gd = document.getElementById('893f33c7-3089-4426-9470-fb9162ba3d40');\n",
       "var x = new MutationObserver(function (mutations, observer) {{\n",
       "        var display = window.getComputedStyle(gd).display;\n",
       "        if (!display || display === 'none') {{\n",
       "            console.log([gd, 'removed!']);\n",
       "            Plotly.purge(gd);\n",
       "            observer.disconnect();\n",
       "        }}\n",
       "}});\n",
       "\n",
       "// Listen for the removal of the full notebook cells\n",
       "var notebookContainer = gd.closest('#notebook-container');\n",
       "if (notebookContainer) {{\n",
       "    x.observe(notebookContainer, {childList: true});\n",
       "}}\n",
       "\n",
       "// Listen for the clearing of the current output cell\n",
       "var outputEl = gd.closest('.output');\n",
       "if (outputEl) {{\n",
       "    x.observe(outputEl, {childList: true});\n",
       "}}\n",
       "\n",
       "                        })                };                });            </script>        </div>"
      ]
     },
     "metadata": {},
     "output_type": "display_data"
    }
   ],
   "source": [
    "df = train_df.groupby(['label', 'kfold']).size().reset_index()\n",
    "df.columns = ['label', 'kfold', 'count']\n",
    "#df.kfold = df.kfold.astype('str')\n",
    "\n",
    "fig = px.bar(\n",
    "    df, x=\"kfold\", y=\"count\",\n",
    "    color='label', barmode='group',\n",
    "    height=400\n",
    ")\n",
    "fig.show()"
   ]
  },
  {
   "cell_type": "markdown",
   "id": "0d023935",
   "metadata": {
    "papermill": {
     "duration": 0.008098,
     "end_time": "2022-07-18T03:47:21.253638",
     "exception": false,
     "start_time": "2022-07-18T03:47:21.245540",
     "status": "completed"
    },
    "tags": []
   },
   "source": [
    "## Custom Split Function\n",
    "- In the first notebook we passed the following splitter to the `DataBlock`:\n",
    "```\n",
    "splitter=RandomSplitter(0.2, seed=42),\n",
    "```\n",
    "- In this case we are going to use a custom function as splitter."
   ]
  },
  {
   "cell_type": "markdown",
   "id": "bb455b76",
   "metadata": {
    "papermill": {
     "duration": 0.007996,
     "end_time": "2022-07-18T03:47:21.269987",
     "exception": false,
     "start_time": "2022-07-18T03:47:21.261991",
     "status": "completed"
    },
    "tags": []
   },
   "source": [
    "### FuncSplitter\n",
    "- fast.ai `FuncSplitter` needs a function to be passed that returns `True` for items that belongs to validation set.\n",
    "- So we are going to create a list of dictionaries (one for each fold) containing that information.\n"
   ]
  },
  {
   "cell_type": "code",
   "execution_count": 8,
   "id": "75854089",
   "metadata": {
    "execution": {
     "iopub.execute_input": "2022-07-18T03:47:21.288199Z",
     "iopub.status.busy": "2022-07-18T03:47:21.287386Z",
     "iopub.status.idle": "2022-07-18T03:47:24.927174Z",
     "shell.execute_reply": "2022-07-18T03:47:24.926178Z"
    },
    "papermill": {
     "duration": 3.651421,
     "end_time": "2022-07-18T03:47:24.929707",
     "exception": false,
     "start_time": "2022-07-18T03:47:21.278286",
     "status": "completed"
    },
    "tags": []
   },
   "outputs": [],
   "source": [
    "img2valid = []\n",
    "\n",
    "for fold in range(n_folds):\n",
    "    train_df['is_valid'] = False\n",
    "    idxs = train_df[train_df.kfold == fold].index\n",
    "    train_df.loc[idxs, 'is_valid'] = True\n",
    "    \n",
    "    img2valid.append({ r.image_id: r.is_valid for _, r in train_df.iterrows() })"
   ]
  },
  {
   "cell_type": "markdown",
   "id": "29eed62b",
   "metadata": {
    "papermill": {
     "duration": 0.008033,
     "end_time": "2022-07-18T03:47:24.946938",
     "exception": false,
     "start_time": "2022-07-18T03:47:24.938905",
     "status": "completed"
    },
    "tags": []
   },
   "source": [
    "- There we are, a list of dictionaries that for each fold, has `True` for each validation image, and now it is easy to retrieve, for each fold, if an image belong to the validation set or not."
   ]
  },
  {
   "cell_type": "markdown",
   "id": "ef3ad4fb",
   "metadata": {
    "papermill": {
     "duration": 0.008088,
     "end_time": "2022-07-18T03:47:24.963440",
     "exception": false,
     "start_time": "2022-07-18T03:47:24.955352",
     "status": "completed"
    },
    "tags": []
   },
   "source": [
    "## Dataloaders for fastai training\n"
   ]
  },
  {
   "cell_type": "code",
   "execution_count": 9,
   "id": "99ece1b1",
   "metadata": {
    "execution": {
     "iopub.execute_input": "2022-07-18T03:47:24.982338Z",
     "iopub.status.busy": "2022-07-18T03:47:24.981514Z",
     "iopub.status.idle": "2022-07-18T03:47:24.988574Z",
     "shell.execute_reply": "2022-07-18T03:47:24.987587Z"
    },
    "papermill": {
     "duration": 0.018635,
     "end_time": "2022-07-18T03:47:24.990514",
     "exception": false,
     "start_time": "2022-07-18T03:47:24.971879",
     "status": "completed"
    },
    "tags": []
   },
   "outputs": [],
   "source": [
    "def get_datablock(i_fold, size, item_tfms, accum):\n",
    "    \n",
    "    def get_split(p):\n",
    "        # For each fold, return if an image is in valid set or not\n",
    "        return img2valid[i_fold][p.name]\n",
    "    \n",
    "    dblock = DataBlock(\n",
    "        blocks=(ImageBlock, CategoryBlock),\n",
    "        get_items=get_image_files,\n",
    "        get_y=parent_label,\n",
    "        # Custom Splitter\n",
    "        splitter = FuncSplitter(get_split),\n",
    "        item_tfms=item_tfms,\n",
    "        batch_tfms=aug_transforms(size=size, min_scale=0.75)\n",
    "    )\n",
    "    return dblock.dataloaders(train_path, bs=64//accum)"
   ]
  },
  {
   "cell_type": "markdown",
   "id": "cf06ad9c",
   "metadata": {
    "papermill": {
     "duration": 0.008087,
     "end_time": "2022-07-18T03:47:25.006941",
     "exception": false,
     "start_time": "2022-07-18T03:47:24.998854",
     "status": "completed"
    },
    "tags": []
   },
   "source": [
    "## Training Function"
   ]
  },
  {
   "cell_type": "code",
   "execution_count": 10,
   "id": "720b4a0c",
   "metadata": {
    "execution": {
     "iopub.execute_input": "2022-07-18T03:47:25.024771Z",
     "iopub.status.busy": "2022-07-18T03:47:25.024503Z",
     "iopub.status.idle": "2022-07-18T03:47:25.032502Z",
     "shell.execute_reply": "2022-07-18T03:47:25.031650Z"
    },
    "papermill": {
     "duration": 0.019005,
     "end_time": "2022-07-18T03:47:25.034434",
     "exception": false,
     "start_time": "2022-07-18T03:47:25.015429",
     "status": "completed"
    },
    "tags": []
   },
   "outputs": [],
   "source": [
    "def train(i_fold, arch, size=224, item_tfms=Resize(480, method='squish'), accum=1, epochs=16, lr=0.005):\n",
    "    \n",
    "    dls = get_datablock(i_fold=i_fold, size=size, item_tfms=item_tfms, accum=accum)\n",
    "    print('- First 5 validation images:')\n",
    "    print([each.name for each in dls.valid.items[:5]])\n",
    "    \n",
    "    cbs = GradientAccumulation(64) if accum!=1 else []\n",
    "    \n",
    "    # Force torchvision models instead of TIMM, when possible\n",
    "    try: arch = eval(arch)\n",
    "    except: arch = arch\n",
    "        \n",
    "    learn = vision_learner(dls, arch, metrics=error_rate, cbs=cbs).to_fp16()\n",
    "    print('- Fine Tuning')\n",
    "    learn.fine_tune(epochs, lr)\n",
    "    #print('- Getting predictions')\n",
    "    #probs, _ = learn.get_preds(dl=dls.test_dl(test_files))\n",
    "    probs = None # Return only tta_preds\n",
    "    print('- Getting tta_predictions')\n",
    "    preds, _ = learn.tta(dl=dls.test_dl(test_files))\n",
    "    \n",
    "    return probs, preds, dls.vocab"
   ]
  },
  {
   "cell_type": "markdown",
   "id": "07631a0a",
   "metadata": {
    "papermill": {
     "duration": 0.008177,
     "end_time": "2022-07-18T03:47:25.050964",
     "exception": false,
     "start_time": "2022-07-18T03:47:25.042787",
     "status": "completed"
    },
    "tags": []
   },
   "source": [
    "## Running the Model(s) on Selected Fold\n",
    "- In this notebook, as in ([Fast Resnet34 with Fastai](https://www.kaggle.com/code/fmussari/fast-resnet34-with-fastai)) notebook, we are going to experiment with resnet34.\n",
    "- You can create a copy of this notebook and, just as Jeremy did in his notebook ([Scaling Up: Road to the Top, Part 3](https://www.kaggle.com/code/jhoward/scaling-up-road-to-the-top-part-3)), try different models with control over the validation sets you want to use for each model or experiment. Remeber to set `accum` according to model size and available GPU memory."
   ]
  },
  {
   "cell_type": "markdown",
   "id": "19ae0e0f",
   "metadata": {
    "papermill": {
     "duration": 0.008242,
     "end_time": "2022-07-18T03:47:25.067631",
     "exception": false,
     "start_time": "2022-07-18T03:47:25.059389",
     "status": "completed"
    },
    "tags": []
   },
   "source": [
    "### resnet34 in each fold"
   ]
  },
  {
   "cell_type": "code",
   "execution_count": 11,
   "id": "e8cf0cf3",
   "metadata": {
    "execution": {
     "iopub.execute_input": "2022-07-18T03:47:25.086498Z",
     "iopub.status.busy": "2022-07-18T03:47:25.086249Z",
     "iopub.status.idle": "2022-07-18T03:47:25.091840Z",
     "shell.execute_reply": "2022-07-18T03:47:25.090834Z"
    },
    "papermill": {
     "duration": 0.017468,
     "end_time": "2022-07-18T03:47:25.094029",
     "exception": false,
     "start_time": "2022-07-18T03:47:25.076561",
     "status": "completed"
    },
    "tags": []
   },
   "outputs": [],
   "source": [
    "models = {\n",
    "    'resnet34': {\n",
    "        (0, Resize(480, method='squish'), 224),\n",
    "        (1, Resize(480, method='squish'), 224),\n",
    "        (2, Resize(480, method='squish'), 224),\n",
    "        (3, Resize(480, method='squish'), 224),\n",
    "        (4, Resize(480, method='squish'), 224)\n",
    "    }\n",
    "    \n",
    "}"
   ]
  },
  {
   "cell_type": "code",
   "execution_count": 12,
   "id": "666d1222",
   "metadata": {
    "execution": {
     "iopub.execute_input": "2022-07-18T03:47:25.112021Z",
     "iopub.status.busy": "2022-07-18T03:47:25.111782Z",
     "iopub.status.idle": "2022-07-18T03:47:25.115605Z",
     "shell.execute_reply": "2022-07-18T03:47:25.114701Z"
    },
    "papermill": {
     "duration": 0.014862,
     "end_time": "2022-07-18T03:47:25.117528",
     "exception": false,
     "start_time": "2022-07-18T03:47:25.102666",
     "status": "completed"
    },
    "tags": []
   },
   "outputs": [],
   "source": [
    "predictions = []\n",
    "tta_predictions = []"
   ]
  },
  {
   "cell_type": "markdown",
   "id": "d81d4770",
   "metadata": {
    "papermill": {
     "duration": 0.008706,
     "end_time": "2022-07-18T03:47:25.134933",
     "exception": false,
     "start_time": "2022-07-18T03:47:25.126227",
     "status": "completed"
    },
    "tags": []
   },
   "source": [
    "### run the experiments"
   ]
  },
  {
   "cell_type": "code",
   "execution_count": 13,
   "id": "5d07c6ff",
   "metadata": {
    "execution": {
     "iopub.execute_input": "2022-07-18T03:47:25.152765Z",
     "iopub.status.busy": "2022-07-18T03:47:25.152490Z",
     "iopub.status.idle": "2022-07-18T07:11:10.658341Z",
     "shell.execute_reply": "2022-07-18T07:11:10.657095Z"
    },
    "papermill": {
     "duration": 12225.517285,
     "end_time": "2022-07-18T07:11:10.660720",
     "exception": false,
     "start_time": "2022-07-18T03:47:25.143435",
     "status": "completed"
    },
    "tags": []
   },
   "outputs": [
    {
     "name": "stdout",
     "output_type": "stream",
     "text": [
      "////////////////////////////////////////\n",
      "---Experiment 1 -- resnet34\n",
      "fold:  3\n",
      "Resize -- {'size': (480, 480), 'method': 'squish', 'pad_mode': 'reflection', 'resamples': (<Resampling.BILINEAR: 2>, <Resampling.NEAREST: 0>), 'p': 1.0}\n",
      "- First 5 validation images:\n",
      "['106433.jpg', '107860.jpg', '107042.jpg', '100886.jpg', '105098.jpg']\n"
     ]
    },
    {
     "name": "stderr",
     "output_type": "stream",
     "text": [
      "Downloading: \"https://download.pytorch.org/models/resnet34-b627a593.pth\" to /root/.cache/torch/hub/checkpoints/resnet34-b627a593.pth\n"
     ]
    },
    {
     "data": {
      "application/vnd.jupyter.widget-view+json": {
       "model_id": "ac6e204be53c4fb596cd1219e92336c2",
       "version_major": 2,
       "version_minor": 0
      },
      "text/plain": [
       "  0%|          | 0.00/83.3M [00:00<?, ?B/s]"
      ]
     },
     "metadata": {},
     "output_type": "display_data"
    },
    {
     "name": "stdout",
     "output_type": "stream",
     "text": [
      "- Fine Tuning\n"
     ]
    },
    {
     "data": {
      "text/html": [
       "\n",
       "<style>\n",
       "    /* Turns off some styling */\n",
       "    progress {\n",
       "        /* gets rid of default border in Firefox and Opera. */\n",
       "        border: none;\n",
       "        /* Needs to be in here for Safari polyfill so background images work as expected. */\n",
       "        background-size: auto;\n",
       "    }\n",
       "    .progress-bar-interrupted, .progress-bar-interrupted::-webkit-progress-bar {\n",
       "        background: #F44336;\n",
       "    }\n",
       "</style>\n"
      ],
      "text/plain": [
       "<IPython.core.display.HTML object>"
      ]
     },
     "metadata": {},
     "output_type": "display_data"
    },
    {
     "data": {
      "text/html": [
       "<table border=\"1\" class=\"dataframe\">\n",
       "  <thead>\n",
       "    <tr style=\"text-align: left;\">\n",
       "      <th>epoch</th>\n",
       "      <th>train_loss</th>\n",
       "      <th>valid_loss</th>\n",
       "      <th>error_rate</th>\n",
       "      <th>time</th>\n",
       "    </tr>\n",
       "  </thead>\n",
       "  <tbody>\n",
       "    <tr>\n",
       "      <td>0</td>\n",
       "      <td>1.821060</td>\n",
       "      <td>1.007575</td>\n",
       "      <td>0.330773</td>\n",
       "      <td>01:59</td>\n",
       "    </tr>\n",
       "  </tbody>\n",
       "</table>"
      ],
      "text/plain": [
       "<IPython.core.display.HTML object>"
      ]
     },
     "metadata": {},
     "output_type": "display_data"
    },
    {
     "data": {
      "text/html": [
       "\n",
       "<style>\n",
       "    /* Turns off some styling */\n",
       "    progress {\n",
       "        /* gets rid of default border in Firefox and Opera. */\n",
       "        border: none;\n",
       "        /* Needs to be in here for Safari polyfill so background images work as expected. */\n",
       "        background-size: auto;\n",
       "    }\n",
       "    .progress-bar-interrupted, .progress-bar-interrupted::-webkit-progress-bar {\n",
       "        background: #F44336;\n",
       "    }\n",
       "</style>\n"
      ],
      "text/plain": [
       "<IPython.core.display.HTML object>"
      ]
     },
     "metadata": {},
     "output_type": "display_data"
    },
    {
     "data": {
      "text/html": [
       "<table border=\"1\" class=\"dataframe\">\n",
       "  <thead>\n",
       "    <tr style=\"text-align: left;\">\n",
       "      <th>epoch</th>\n",
       "      <th>train_loss</th>\n",
       "      <th>valid_loss</th>\n",
       "      <th>error_rate</th>\n",
       "      <th>time</th>\n",
       "    </tr>\n",
       "  </thead>\n",
       "  <tbody>\n",
       "    <tr>\n",
       "      <td>0</td>\n",
       "      <td>0.762712</td>\n",
       "      <td>0.411636</td>\n",
       "      <td>0.126740</td>\n",
       "      <td>01:47</td>\n",
       "    </tr>\n",
       "    <tr>\n",
       "      <td>1</td>\n",
       "      <td>0.465117</td>\n",
       "      <td>0.326431</td>\n",
       "      <td>0.111858</td>\n",
       "      <td>01:47</td>\n",
       "    </tr>\n",
       "    <tr>\n",
       "      <td>2</td>\n",
       "      <td>0.353640</td>\n",
       "      <td>0.322618</td>\n",
       "      <td>0.088814</td>\n",
       "      <td>01:47</td>\n",
       "    </tr>\n",
       "    <tr>\n",
       "      <td>3</td>\n",
       "      <td>0.324914</td>\n",
       "      <td>0.378107</td>\n",
       "      <td>0.113298</td>\n",
       "      <td>01:47</td>\n",
       "    </tr>\n",
       "    <tr>\n",
       "      <td>4</td>\n",
       "      <td>0.301681</td>\n",
       "      <td>0.259770</td>\n",
       "      <td>0.076812</td>\n",
       "      <td>01:47</td>\n",
       "    </tr>\n",
       "    <tr>\n",
       "      <td>5</td>\n",
       "      <td>0.303149</td>\n",
       "      <td>0.260858</td>\n",
       "      <td>0.083053</td>\n",
       "      <td>01:48</td>\n",
       "    </tr>\n",
       "    <tr>\n",
       "      <td>6</td>\n",
       "      <td>0.253609</td>\n",
       "      <td>0.310548</td>\n",
       "      <td>0.090735</td>\n",
       "      <td>01:47</td>\n",
       "    </tr>\n",
       "    <tr>\n",
       "      <td>7</td>\n",
       "      <td>0.234559</td>\n",
       "      <td>0.203551</td>\n",
       "      <td>0.056169</td>\n",
       "      <td>01:47</td>\n",
       "    </tr>\n",
       "    <tr>\n",
       "      <td>8</td>\n",
       "      <td>0.193365</td>\n",
       "      <td>0.181542</td>\n",
       "      <td>0.046567</td>\n",
       "      <td>01:48</td>\n",
       "    </tr>\n",
       "    <tr>\n",
       "      <td>9</td>\n",
       "      <td>0.171235</td>\n",
       "      <td>0.184694</td>\n",
       "      <td>0.057129</td>\n",
       "      <td>01:49</td>\n",
       "    </tr>\n",
       "    <tr>\n",
       "      <td>10</td>\n",
       "      <td>0.127246</td>\n",
       "      <td>0.151780</td>\n",
       "      <td>0.036966</td>\n",
       "      <td>01:47</td>\n",
       "    </tr>\n",
       "    <tr>\n",
       "      <td>11</td>\n",
       "      <td>0.124294</td>\n",
       "      <td>0.179835</td>\n",
       "      <td>0.049448</td>\n",
       "      <td>01:48</td>\n",
       "    </tr>\n",
       "    <tr>\n",
       "      <td>12</td>\n",
       "      <td>0.084193</td>\n",
       "      <td>0.133688</td>\n",
       "      <td>0.036006</td>\n",
       "      <td>01:48</td>\n",
       "    </tr>\n",
       "    <tr>\n",
       "      <td>13</td>\n",
       "      <td>0.061516</td>\n",
       "      <td>0.104032</td>\n",
       "      <td>0.025444</td>\n",
       "      <td>01:47</td>\n",
       "    </tr>\n",
       "    <tr>\n",
       "      <td>14</td>\n",
       "      <td>0.040868</td>\n",
       "      <td>0.119086</td>\n",
       "      <td>0.027364</td>\n",
       "      <td>01:47</td>\n",
       "    </tr>\n",
       "    <tr>\n",
       "      <td>15</td>\n",
       "      <td>0.041764</td>\n",
       "      <td>0.109690</td>\n",
       "      <td>0.026404</td>\n",
       "      <td>01:48</td>\n",
       "    </tr>\n",
       "    <tr>\n",
       "      <td>16</td>\n",
       "      <td>0.029295</td>\n",
       "      <td>0.104398</td>\n",
       "      <td>0.024964</td>\n",
       "      <td>01:48</td>\n",
       "    </tr>\n",
       "    <tr>\n",
       "      <td>17</td>\n",
       "      <td>0.025141</td>\n",
       "      <td>0.086211</td>\n",
       "      <td>0.018723</td>\n",
       "      <td>01:47</td>\n",
       "    </tr>\n",
       "    <tr>\n",
       "      <td>18</td>\n",
       "      <td>0.018397</td>\n",
       "      <td>0.092710</td>\n",
       "      <td>0.021123</td>\n",
       "      <td>01:47</td>\n",
       "    </tr>\n",
       "    <tr>\n",
       "      <td>19</td>\n",
       "      <td>0.019240</td>\n",
       "      <td>0.092426</td>\n",
       "      <td>0.020163</td>\n",
       "      <td>01:48</td>\n",
       "    </tr>\n",
       "  </tbody>\n",
       "</table>"
      ],
      "text/plain": [
       "<IPython.core.display.HTML object>"
      ]
     },
     "metadata": {},
     "output_type": "display_data"
    },
    {
     "name": "stdout",
     "output_type": "stream",
     "text": [
      "- Getting tta_predictions\n"
     ]
    },
    {
     "data": {
      "text/html": [
       "\n",
       "<style>\n",
       "    /* Turns off some styling */\n",
       "    progress {\n",
       "        /* gets rid of default border in Firefox and Opera. */\n",
       "        border: none;\n",
       "        /* Needs to be in here for Safari polyfill so background images work as expected. */\n",
       "        background-size: auto;\n",
       "    }\n",
       "    .progress-bar-interrupted, .progress-bar-interrupted::-webkit-progress-bar {\n",
       "        background: #F44336;\n",
       "    }\n",
       "</style>\n"
      ],
      "text/plain": [
       "<IPython.core.display.HTML object>"
      ]
     },
     "metadata": {},
     "output_type": "display_data"
    },
    {
     "data": {
      "text/html": [
       "\n",
       "    <div>\n",
       "      <progress value='0' class='' max='20' style='width:300px; height:20px; vertical-align: middle;'></progress>\n",
       "      \n",
       "    </div>\n",
       "    \n"
      ],
      "text/plain": [
       "<IPython.core.display.HTML object>"
      ]
     },
     "metadata": {},
     "output_type": "display_data"
    },
    {
     "data": {
      "text/html": [
       "\n",
       "<style>\n",
       "    /* Turns off some styling */\n",
       "    progress {\n",
       "        /* gets rid of default border in Firefox and Opera. */\n",
       "        border: none;\n",
       "        /* Needs to be in here for Safari polyfill so background images work as expected. */\n",
       "        background-size: auto;\n",
       "    }\n",
       "    .progress-bar-interrupted, .progress-bar-interrupted::-webkit-progress-bar {\n",
       "        background: #F44336;\n",
       "    }\n",
       "</style>\n"
      ],
      "text/plain": [
       "<IPython.core.display.HTML object>"
      ]
     },
     "metadata": {},
     "output_type": "display_data"
    },
    {
     "data": {
      "text/html": [],
      "text/plain": [
       "<IPython.core.display.HTML object>"
      ]
     },
     "metadata": {},
     "output_type": "display_data"
    },
    {
     "name": "stdout",
     "output_type": "stream",
     "text": [
      "Saving 20220718-exp1-resnet34-Fold3.csv\n",
      "////////////////////////////////////////\n",
      "---Experiment 2 -- resnet34\n",
      "fold:  1\n",
      "Resize -- {'size': (480, 480), 'method': 'squish', 'pad_mode': 'reflection', 'resamples': (<Resampling.BILINEAR: 2>, <Resampling.NEAREST: 0>), 'p': 1.0}\n",
      "- First 5 validation images:\n",
      "['104765.jpg', '102416.jpg', '101046.jpg', '108310.jpg', '104555.jpg']\n",
      "- Fine Tuning\n"
     ]
    },
    {
     "data": {
      "text/html": [
       "\n",
       "<style>\n",
       "    /* Turns off some styling */\n",
       "    progress {\n",
       "        /* gets rid of default border in Firefox and Opera. */\n",
       "        border: none;\n",
       "        /* Needs to be in here for Safari polyfill so background images work as expected. */\n",
       "        background-size: auto;\n",
       "    }\n",
       "    .progress-bar-interrupted, .progress-bar-interrupted::-webkit-progress-bar {\n",
       "        background: #F44336;\n",
       "    }\n",
       "</style>\n"
      ],
      "text/plain": [
       "<IPython.core.display.HTML object>"
      ]
     },
     "metadata": {},
     "output_type": "display_data"
    },
    {
     "data": {
      "text/html": [
       "<table border=\"1\" class=\"dataframe\">\n",
       "  <thead>\n",
       "    <tr style=\"text-align: left;\">\n",
       "      <th>epoch</th>\n",
       "      <th>train_loss</th>\n",
       "      <th>valid_loss</th>\n",
       "      <th>error_rate</th>\n",
       "      <th>time</th>\n",
       "    </tr>\n",
       "  </thead>\n",
       "  <tbody>\n",
       "    <tr>\n",
       "      <td>0</td>\n",
       "      <td>1.789822</td>\n",
       "      <td>1.030524</td>\n",
       "      <td>0.343104</td>\n",
       "      <td>01:44</td>\n",
       "    </tr>\n",
       "  </tbody>\n",
       "</table>"
      ],
      "text/plain": [
       "<IPython.core.display.HTML object>"
      ]
     },
     "metadata": {},
     "output_type": "display_data"
    },
    {
     "data": {
      "text/html": [
       "\n",
       "<style>\n",
       "    /* Turns off some styling */\n",
       "    progress {\n",
       "        /* gets rid of default border in Firefox and Opera. */\n",
       "        border: none;\n",
       "        /* Needs to be in here for Safari polyfill so background images work as expected. */\n",
       "        background-size: auto;\n",
       "    }\n",
       "    .progress-bar-interrupted, .progress-bar-interrupted::-webkit-progress-bar {\n",
       "        background: #F44336;\n",
       "    }\n",
       "</style>\n"
      ],
      "text/plain": [
       "<IPython.core.display.HTML object>"
      ]
     },
     "metadata": {},
     "output_type": "display_data"
    },
    {
     "data": {
      "text/html": [
       "<table border=\"1\" class=\"dataframe\">\n",
       "  <thead>\n",
       "    <tr style=\"text-align: left;\">\n",
       "      <th>epoch</th>\n",
       "      <th>train_loss</th>\n",
       "      <th>valid_loss</th>\n",
       "      <th>error_rate</th>\n",
       "      <th>time</th>\n",
       "    </tr>\n",
       "  </thead>\n",
       "  <tbody>\n",
       "    <tr>\n",
       "      <td>0</td>\n",
       "      <td>0.749005</td>\n",
       "      <td>0.437849</td>\n",
       "      <td>0.145123</td>\n",
       "      <td>01:47</td>\n",
       "    </tr>\n",
       "    <tr>\n",
       "      <td>1</td>\n",
       "      <td>0.434743</td>\n",
       "      <td>0.308224</td>\n",
       "      <td>0.099471</td>\n",
       "      <td>01:48</td>\n",
       "    </tr>\n",
       "    <tr>\n",
       "      <td>2</td>\n",
       "      <td>0.352224</td>\n",
       "      <td>0.293205</td>\n",
       "      <td>0.092744</td>\n",
       "      <td>01:47</td>\n",
       "    </tr>\n",
       "    <tr>\n",
       "      <td>3</td>\n",
       "      <td>0.331259</td>\n",
       "      <td>0.258127</td>\n",
       "      <td>0.079289</td>\n",
       "      <td>01:47</td>\n",
       "    </tr>\n",
       "    <tr>\n",
       "      <td>4</td>\n",
       "      <td>0.322140</td>\n",
       "      <td>0.312620</td>\n",
       "      <td>0.091302</td>\n",
       "      <td>01:47</td>\n",
       "    </tr>\n",
       "    <tr>\n",
       "      <td>5</td>\n",
       "      <td>0.318279</td>\n",
       "      <td>0.394702</td>\n",
       "      <td>0.112926</td>\n",
       "      <td>01:47</td>\n",
       "    </tr>\n",
       "    <tr>\n",
       "      <td>6</td>\n",
       "      <td>0.237401</td>\n",
       "      <td>0.252605</td>\n",
       "      <td>0.077367</td>\n",
       "      <td>01:47</td>\n",
       "    </tr>\n",
       "    <tr>\n",
       "      <td>7</td>\n",
       "      <td>0.231810</td>\n",
       "      <td>0.248449</td>\n",
       "      <td>0.067275</td>\n",
       "      <td>01:49</td>\n",
       "    </tr>\n",
       "    <tr>\n",
       "      <td>8</td>\n",
       "      <td>0.200864</td>\n",
       "      <td>0.204255</td>\n",
       "      <td>0.055262</td>\n",
       "      <td>01:47</td>\n",
       "    </tr>\n",
       "    <tr>\n",
       "      <td>9</td>\n",
       "      <td>0.156640</td>\n",
       "      <td>0.185162</td>\n",
       "      <td>0.051418</td>\n",
       "      <td>01:48</td>\n",
       "    </tr>\n",
       "    <tr>\n",
       "      <td>10</td>\n",
       "      <td>0.125157</td>\n",
       "      <td>0.164916</td>\n",
       "      <td>0.048534</td>\n",
       "      <td>01:47</td>\n",
       "    </tr>\n",
       "    <tr>\n",
       "      <td>11</td>\n",
       "      <td>0.119972</td>\n",
       "      <td>0.142898</td>\n",
       "      <td>0.040365</td>\n",
       "      <td>01:47</td>\n",
       "    </tr>\n",
       "    <tr>\n",
       "      <td>12</td>\n",
       "      <td>0.093086</td>\n",
       "      <td>0.171704</td>\n",
       "      <td>0.042287</td>\n",
       "      <td>01:48</td>\n",
       "    </tr>\n",
       "    <tr>\n",
       "      <td>13</td>\n",
       "      <td>0.062070</td>\n",
       "      <td>0.112190</td>\n",
       "      <td>0.033157</td>\n",
       "      <td>01:47</td>\n",
       "    </tr>\n",
       "    <tr>\n",
       "      <td>14</td>\n",
       "      <td>0.043107</td>\n",
       "      <td>0.105183</td>\n",
       "      <td>0.028832</td>\n",
       "      <td>01:46</td>\n",
       "    </tr>\n",
       "    <tr>\n",
       "      <td>15</td>\n",
       "      <td>0.043919</td>\n",
       "      <td>0.101041</td>\n",
       "      <td>0.027871</td>\n",
       "      <td>01:49</td>\n",
       "    </tr>\n",
       "    <tr>\n",
       "      <td>16</td>\n",
       "      <td>0.029111</td>\n",
       "      <td>0.090214</td>\n",
       "      <td>0.022105</td>\n",
       "      <td>01:47</td>\n",
       "    </tr>\n",
       "    <tr>\n",
       "      <td>17</td>\n",
       "      <td>0.026269</td>\n",
       "      <td>0.084753</td>\n",
       "      <td>0.021624</td>\n",
       "      <td>01:47</td>\n",
       "    </tr>\n",
       "    <tr>\n",
       "      <td>18</td>\n",
       "      <td>0.022085</td>\n",
       "      <td>0.079415</td>\n",
       "      <td>0.022105</td>\n",
       "      <td>01:47</td>\n",
       "    </tr>\n",
       "    <tr>\n",
       "      <td>19</td>\n",
       "      <td>0.018504</td>\n",
       "      <td>0.082055</td>\n",
       "      <td>0.021144</td>\n",
       "      <td>01:48</td>\n",
       "    </tr>\n",
       "  </tbody>\n",
       "</table>"
      ],
      "text/plain": [
       "<IPython.core.display.HTML object>"
      ]
     },
     "metadata": {},
     "output_type": "display_data"
    },
    {
     "name": "stdout",
     "output_type": "stream",
     "text": [
      "- Getting tta_predictions\n"
     ]
    },
    {
     "data": {
      "text/html": [
       "\n",
       "<style>\n",
       "    /* Turns off some styling */\n",
       "    progress {\n",
       "        /* gets rid of default border in Firefox and Opera. */\n",
       "        border: none;\n",
       "        /* Needs to be in here for Safari polyfill so background images work as expected. */\n",
       "        background-size: auto;\n",
       "    }\n",
       "    .progress-bar-interrupted, .progress-bar-interrupted::-webkit-progress-bar {\n",
       "        background: #F44336;\n",
       "    }\n",
       "</style>\n"
      ],
      "text/plain": [
       "<IPython.core.display.HTML object>"
      ]
     },
     "metadata": {},
     "output_type": "display_data"
    },
    {
     "data": {
      "text/html": [
       "\n",
       "    <div>\n",
       "      <progress value='0' class='' max='20' style='width:300px; height:20px; vertical-align: middle;'></progress>\n",
       "      \n",
       "    </div>\n",
       "    \n"
      ],
      "text/plain": [
       "<IPython.core.display.HTML object>"
      ]
     },
     "metadata": {},
     "output_type": "display_data"
    },
    {
     "data": {
      "text/html": [
       "\n",
       "<style>\n",
       "    /* Turns off some styling */\n",
       "    progress {\n",
       "        /* gets rid of default border in Firefox and Opera. */\n",
       "        border: none;\n",
       "        /* Needs to be in here for Safari polyfill so background images work as expected. */\n",
       "        background-size: auto;\n",
       "    }\n",
       "    .progress-bar-interrupted, .progress-bar-interrupted::-webkit-progress-bar {\n",
       "        background: #F44336;\n",
       "    }\n",
       "</style>\n"
      ],
      "text/plain": [
       "<IPython.core.display.HTML object>"
      ]
     },
     "metadata": {},
     "output_type": "display_data"
    },
    {
     "data": {
      "text/html": [],
      "text/plain": [
       "<IPython.core.display.HTML object>"
      ]
     },
     "metadata": {},
     "output_type": "display_data"
    },
    {
     "name": "stdout",
     "output_type": "stream",
     "text": [
      "Saving 20220718-exp2-resnet34-Fold1.csv\n",
      "////////////////////////////////////////\n",
      "---Experiment 3 -- resnet34\n",
      "fold:  0\n",
      "Resize -- {'size': (480, 480), 'method': 'squish', 'pad_mode': 'reflection', 'resamples': (<Resampling.BILINEAR: 2>, <Resampling.NEAREST: 0>), 'p': 1.0}\n",
      "- First 5 validation images:\n",
      "['100098.jpg', '102484.jpg', '107136.jpg', '105430.jpg', '101813.jpg']\n",
      "- Fine Tuning\n"
     ]
    },
    {
     "data": {
      "text/html": [
       "\n",
       "<style>\n",
       "    /* Turns off some styling */\n",
       "    progress {\n",
       "        /* gets rid of default border in Firefox and Opera. */\n",
       "        border: none;\n",
       "        /* Needs to be in here for Safari polyfill so background images work as expected. */\n",
       "        background-size: auto;\n",
       "    }\n",
       "    .progress-bar-interrupted, .progress-bar-interrupted::-webkit-progress-bar {\n",
       "        background: #F44336;\n",
       "    }\n",
       "</style>\n"
      ],
      "text/plain": [
       "<IPython.core.display.HTML object>"
      ]
     },
     "metadata": {},
     "output_type": "display_data"
    },
    {
     "data": {
      "text/html": [
       "<table border=\"1\" class=\"dataframe\">\n",
       "  <thead>\n",
       "    <tr style=\"text-align: left;\">\n",
       "      <th>epoch</th>\n",
       "      <th>train_loss</th>\n",
       "      <th>valid_loss</th>\n",
       "      <th>error_rate</th>\n",
       "      <th>time</th>\n",
       "    </tr>\n",
       "  </thead>\n",
       "  <tbody>\n",
       "    <tr>\n",
       "      <td>0</td>\n",
       "      <td>1.759520</td>\n",
       "      <td>1.068310</td>\n",
       "      <td>0.339423</td>\n",
       "      <td>01:45</td>\n",
       "    </tr>\n",
       "  </tbody>\n",
       "</table>"
      ],
      "text/plain": [
       "<IPython.core.display.HTML object>"
      ]
     },
     "metadata": {},
     "output_type": "display_data"
    },
    {
     "data": {
      "text/html": [
       "\n",
       "<style>\n",
       "    /* Turns off some styling */\n",
       "    progress {\n",
       "        /* gets rid of default border in Firefox and Opera. */\n",
       "        border: none;\n",
       "        /* Needs to be in here for Safari polyfill so background images work as expected. */\n",
       "        background-size: auto;\n",
       "    }\n",
       "    .progress-bar-interrupted, .progress-bar-interrupted::-webkit-progress-bar {\n",
       "        background: #F44336;\n",
       "    }\n",
       "</style>\n"
      ],
      "text/plain": [
       "<IPython.core.display.HTML object>"
      ]
     },
     "metadata": {},
     "output_type": "display_data"
    },
    {
     "data": {
      "text/html": [
       "<table border=\"1\" class=\"dataframe\">\n",
       "  <thead>\n",
       "    <tr style=\"text-align: left;\">\n",
       "      <th>epoch</th>\n",
       "      <th>train_loss</th>\n",
       "      <th>valid_loss</th>\n",
       "      <th>error_rate</th>\n",
       "      <th>time</th>\n",
       "    </tr>\n",
       "  </thead>\n",
       "  <tbody>\n",
       "    <tr>\n",
       "      <td>0</td>\n",
       "      <td>0.771473</td>\n",
       "      <td>0.420047</td>\n",
       "      <td>0.131250</td>\n",
       "      <td>01:48</td>\n",
       "    </tr>\n",
       "    <tr>\n",
       "      <td>1</td>\n",
       "      <td>0.451689</td>\n",
       "      <td>0.284835</td>\n",
       "      <td>0.094231</td>\n",
       "      <td>01:49</td>\n",
       "    </tr>\n",
       "    <tr>\n",
       "      <td>2</td>\n",
       "      <td>0.350093</td>\n",
       "      <td>0.271084</td>\n",
       "      <td>0.087500</td>\n",
       "      <td>01:48</td>\n",
       "    </tr>\n",
       "    <tr>\n",
       "      <td>3</td>\n",
       "      <td>0.346398</td>\n",
       "      <td>0.356776</td>\n",
       "      <td>0.108173</td>\n",
       "      <td>01:47</td>\n",
       "    </tr>\n",
       "    <tr>\n",
       "      <td>4</td>\n",
       "      <td>0.290721</td>\n",
       "      <td>0.303694</td>\n",
       "      <td>0.088942</td>\n",
       "      <td>01:48</td>\n",
       "    </tr>\n",
       "    <tr>\n",
       "      <td>5</td>\n",
       "      <td>0.308513</td>\n",
       "      <td>0.370208</td>\n",
       "      <td>0.099038</td>\n",
       "      <td>01:48</td>\n",
       "    </tr>\n",
       "    <tr>\n",
       "      <td>6</td>\n",
       "      <td>0.268207</td>\n",
       "      <td>0.216736</td>\n",
       "      <td>0.079327</td>\n",
       "      <td>01:47</td>\n",
       "    </tr>\n",
       "    <tr>\n",
       "      <td>7</td>\n",
       "      <td>0.200613</td>\n",
       "      <td>0.210314</td>\n",
       "      <td>0.065865</td>\n",
       "      <td>01:47</td>\n",
       "    </tr>\n",
       "    <tr>\n",
       "      <td>8</td>\n",
       "      <td>0.196857</td>\n",
       "      <td>0.202242</td>\n",
       "      <td>0.057692</td>\n",
       "      <td>01:48</td>\n",
       "    </tr>\n",
       "    <tr>\n",
       "      <td>9</td>\n",
       "      <td>0.167895</td>\n",
       "      <td>0.149160</td>\n",
       "      <td>0.040385</td>\n",
       "      <td>01:47</td>\n",
       "    </tr>\n",
       "    <tr>\n",
       "      <td>10</td>\n",
       "      <td>0.141464</td>\n",
       "      <td>0.165693</td>\n",
       "      <td>0.045673</td>\n",
       "      <td>01:47</td>\n",
       "    </tr>\n",
       "    <tr>\n",
       "      <td>11</td>\n",
       "      <td>0.103574</td>\n",
       "      <td>0.147906</td>\n",
       "      <td>0.041827</td>\n",
       "      <td>01:48</td>\n",
       "    </tr>\n",
       "    <tr>\n",
       "      <td>12</td>\n",
       "      <td>0.084999</td>\n",
       "      <td>0.102660</td>\n",
       "      <td>0.027404</td>\n",
       "      <td>01:48</td>\n",
       "    </tr>\n",
       "    <tr>\n",
       "      <td>13</td>\n",
       "      <td>0.060111</td>\n",
       "      <td>0.086567</td>\n",
       "      <td>0.022596</td>\n",
       "      <td>01:47</td>\n",
       "    </tr>\n",
       "    <tr>\n",
       "      <td>14</td>\n",
       "      <td>0.052038</td>\n",
       "      <td>0.087318</td>\n",
       "      <td>0.023558</td>\n",
       "      <td>01:47</td>\n",
       "    </tr>\n",
       "    <tr>\n",
       "      <td>15</td>\n",
       "      <td>0.043207</td>\n",
       "      <td>0.081386</td>\n",
       "      <td>0.025481</td>\n",
       "      <td>01:48</td>\n",
       "    </tr>\n",
       "    <tr>\n",
       "      <td>16</td>\n",
       "      <td>0.030938</td>\n",
       "      <td>0.071197</td>\n",
       "      <td>0.022596</td>\n",
       "      <td>01:48</td>\n",
       "    </tr>\n",
       "    <tr>\n",
       "      <td>17</td>\n",
       "      <td>0.025541</td>\n",
       "      <td>0.071355</td>\n",
       "      <td>0.021635</td>\n",
       "      <td>01:48</td>\n",
       "    </tr>\n",
       "    <tr>\n",
       "      <td>18</td>\n",
       "      <td>0.017400</td>\n",
       "      <td>0.065962</td>\n",
       "      <td>0.019712</td>\n",
       "      <td>01:48</td>\n",
       "    </tr>\n",
       "    <tr>\n",
       "      <td>19</td>\n",
       "      <td>0.019758</td>\n",
       "      <td>0.066904</td>\n",
       "      <td>0.019231</td>\n",
       "      <td>01:47</td>\n",
       "    </tr>\n",
       "  </tbody>\n",
       "</table>"
      ],
      "text/plain": [
       "<IPython.core.display.HTML object>"
      ]
     },
     "metadata": {},
     "output_type": "display_data"
    },
    {
     "name": "stdout",
     "output_type": "stream",
     "text": [
      "- Getting tta_predictions\n"
     ]
    },
    {
     "data": {
      "text/html": [
       "\n",
       "<style>\n",
       "    /* Turns off some styling */\n",
       "    progress {\n",
       "        /* gets rid of default border in Firefox and Opera. */\n",
       "        border: none;\n",
       "        /* Needs to be in here for Safari polyfill so background images work as expected. */\n",
       "        background-size: auto;\n",
       "    }\n",
       "    .progress-bar-interrupted, .progress-bar-interrupted::-webkit-progress-bar {\n",
       "        background: #F44336;\n",
       "    }\n",
       "</style>\n"
      ],
      "text/plain": [
       "<IPython.core.display.HTML object>"
      ]
     },
     "metadata": {},
     "output_type": "display_data"
    },
    {
     "data": {
      "text/html": [
       "\n",
       "    <div>\n",
       "      <progress value='0' class='' max='20' style='width:300px; height:20px; vertical-align: middle;'></progress>\n",
       "      \n",
       "    </div>\n",
       "    \n"
      ],
      "text/plain": [
       "<IPython.core.display.HTML object>"
      ]
     },
     "metadata": {},
     "output_type": "display_data"
    },
    {
     "data": {
      "text/html": [
       "\n",
       "<style>\n",
       "    /* Turns off some styling */\n",
       "    progress {\n",
       "        /* gets rid of default border in Firefox and Opera. */\n",
       "        border: none;\n",
       "        /* Needs to be in here for Safari polyfill so background images work as expected. */\n",
       "        background-size: auto;\n",
       "    }\n",
       "    .progress-bar-interrupted, .progress-bar-interrupted::-webkit-progress-bar {\n",
       "        background: #F44336;\n",
       "    }\n",
       "</style>\n"
      ],
      "text/plain": [
       "<IPython.core.display.HTML object>"
      ]
     },
     "metadata": {},
     "output_type": "display_data"
    },
    {
     "data": {
      "text/html": [],
      "text/plain": [
       "<IPython.core.display.HTML object>"
      ]
     },
     "metadata": {},
     "output_type": "display_data"
    },
    {
     "name": "stdout",
     "output_type": "stream",
     "text": [
      "Saving 20220718-exp3-resnet34-Fold0.csv\n",
      "////////////////////////////////////////\n",
      "---Experiment 4 -- resnet34\n",
      "fold:  2\n",
      "Resize -- {'size': (480, 480), 'method': 'squish', 'pad_mode': 'reflection', 'resamples': (<Resampling.BILINEAR: 2>, <Resampling.NEAREST: 0>), 'p': 1.0}\n",
      "- First 5 validation images:\n",
      "['102734.jpg', '108930.jpg', '102019.jpg', '100464.jpg', '101369.jpg']\n",
      "- Fine Tuning\n"
     ]
    },
    {
     "data": {
      "text/html": [
       "\n",
       "<style>\n",
       "    /* Turns off some styling */\n",
       "    progress {\n",
       "        /* gets rid of default border in Firefox and Opera. */\n",
       "        border: none;\n",
       "        /* Needs to be in here for Safari polyfill so background images work as expected. */\n",
       "        background-size: auto;\n",
       "    }\n",
       "    .progress-bar-interrupted, .progress-bar-interrupted::-webkit-progress-bar {\n",
       "        background: #F44336;\n",
       "    }\n",
       "</style>\n"
      ],
      "text/plain": [
       "<IPython.core.display.HTML object>"
      ]
     },
     "metadata": {},
     "output_type": "display_data"
    },
    {
     "data": {
      "text/html": [
       "<table border=\"1\" class=\"dataframe\">\n",
       "  <thead>\n",
       "    <tr style=\"text-align: left;\">\n",
       "      <th>epoch</th>\n",
       "      <th>train_loss</th>\n",
       "      <th>valid_loss</th>\n",
       "      <th>error_rate</th>\n",
       "      <th>time</th>\n",
       "    </tr>\n",
       "  </thead>\n",
       "  <tbody>\n",
       "    <tr>\n",
       "      <td>0</td>\n",
       "      <td>1.758307</td>\n",
       "      <td>0.986137</td>\n",
       "      <td>0.330932</td>\n",
       "      <td>01:46</td>\n",
       "    </tr>\n",
       "  </tbody>\n",
       "</table>"
      ],
      "text/plain": [
       "<IPython.core.display.HTML object>"
      ]
     },
     "metadata": {},
     "output_type": "display_data"
    },
    {
     "data": {
      "text/html": [
       "\n",
       "<style>\n",
       "    /* Turns off some styling */\n",
       "    progress {\n",
       "        /* gets rid of default border in Firefox and Opera. */\n",
       "        border: none;\n",
       "        /* Needs to be in here for Safari polyfill so background images work as expected. */\n",
       "        background-size: auto;\n",
       "    }\n",
       "    .progress-bar-interrupted, .progress-bar-interrupted::-webkit-progress-bar {\n",
       "        background: #F44336;\n",
       "    }\n",
       "</style>\n"
      ],
      "text/plain": [
       "<IPython.core.display.HTML object>"
      ]
     },
     "metadata": {},
     "output_type": "display_data"
    },
    {
     "data": {
      "text/html": [
       "<table border=\"1\" class=\"dataframe\">\n",
       "  <thead>\n",
       "    <tr style=\"text-align: left;\">\n",
       "      <th>epoch</th>\n",
       "      <th>train_loss</th>\n",
       "      <th>valid_loss</th>\n",
       "      <th>error_rate</th>\n",
       "      <th>time</th>\n",
       "    </tr>\n",
       "  </thead>\n",
       "  <tbody>\n",
       "    <tr>\n",
       "      <td>0</td>\n",
       "      <td>0.770776</td>\n",
       "      <td>0.397107</td>\n",
       "      <td>0.126321</td>\n",
       "      <td>01:49</td>\n",
       "    </tr>\n",
       "    <tr>\n",
       "      <td>1</td>\n",
       "      <td>0.447202</td>\n",
       "      <td>0.280368</td>\n",
       "      <td>0.086455</td>\n",
       "      <td>01:49</td>\n",
       "    </tr>\n",
       "    <tr>\n",
       "      <td>2</td>\n",
       "      <td>0.347407</td>\n",
       "      <td>0.269754</td>\n",
       "      <td>0.087896</td>\n",
       "      <td>01:48</td>\n",
       "    </tr>\n",
       "    <tr>\n",
       "      <td>3</td>\n",
       "      <td>0.327556</td>\n",
       "      <td>0.320429</td>\n",
       "      <td>0.104707</td>\n",
       "      <td>01:50</td>\n",
       "    </tr>\n",
       "    <tr>\n",
       "      <td>4</td>\n",
       "      <td>0.323262</td>\n",
       "      <td>0.324849</td>\n",
       "      <td>0.090298</td>\n",
       "      <td>01:48</td>\n",
       "    </tr>\n",
       "    <tr>\n",
       "      <td>5</td>\n",
       "      <td>0.296593</td>\n",
       "      <td>0.258956</td>\n",
       "      <td>0.073967</td>\n",
       "      <td>01:49</td>\n",
       "    </tr>\n",
       "    <tr>\n",
       "      <td>6</td>\n",
       "      <td>0.236839</td>\n",
       "      <td>0.250007</td>\n",
       "      <td>0.069164</td>\n",
       "      <td>01:51</td>\n",
       "    </tr>\n",
       "    <tr>\n",
       "      <td>7</td>\n",
       "      <td>0.217097</td>\n",
       "      <td>0.224519</td>\n",
       "      <td>0.060519</td>\n",
       "      <td>01:50</td>\n",
       "    </tr>\n",
       "    <tr>\n",
       "      <td>8</td>\n",
       "      <td>0.197059</td>\n",
       "      <td>0.148454</td>\n",
       "      <td>0.045149</td>\n",
       "      <td>01:50</td>\n",
       "    </tr>\n",
       "    <tr>\n",
       "      <td>9</td>\n",
       "      <td>0.144682</td>\n",
       "      <td>0.155358</td>\n",
       "      <td>0.040826</td>\n",
       "      <td>01:51</td>\n",
       "    </tr>\n",
       "    <tr>\n",
       "      <td>10</td>\n",
       "      <td>0.130110</td>\n",
       "      <td>0.209617</td>\n",
       "      <td>0.055235</td>\n",
       "      <td>01:48</td>\n",
       "    </tr>\n",
       "    <tr>\n",
       "      <td>11</td>\n",
       "      <td>0.100465</td>\n",
       "      <td>0.112519</td>\n",
       "      <td>0.029299</td>\n",
       "      <td>01:48</td>\n",
       "    </tr>\n",
       "    <tr>\n",
       "      <td>12</td>\n",
       "      <td>0.084491</td>\n",
       "      <td>0.102576</td>\n",
       "      <td>0.029779</td>\n",
       "      <td>01:48</td>\n",
       "    </tr>\n",
       "    <tr>\n",
       "      <td>13</td>\n",
       "      <td>0.067107</td>\n",
       "      <td>0.095663</td>\n",
       "      <td>0.021614</td>\n",
       "      <td>01:48</td>\n",
       "    </tr>\n",
       "    <tr>\n",
       "      <td>14</td>\n",
       "      <td>0.044809</td>\n",
       "      <td>0.093829</td>\n",
       "      <td>0.023055</td>\n",
       "      <td>01:48</td>\n",
       "    </tr>\n",
       "    <tr>\n",
       "      <td>15</td>\n",
       "      <td>0.039318</td>\n",
       "      <td>0.101748</td>\n",
       "      <td>0.024496</td>\n",
       "      <td>01:48</td>\n",
       "    </tr>\n",
       "    <tr>\n",
       "      <td>16</td>\n",
       "      <td>0.035334</td>\n",
       "      <td>0.091830</td>\n",
       "      <td>0.019212</td>\n",
       "      <td>01:48</td>\n",
       "    </tr>\n",
       "    <tr>\n",
       "      <td>17</td>\n",
       "      <td>0.024352</td>\n",
       "      <td>0.094240</td>\n",
       "      <td>0.022094</td>\n",
       "      <td>01:48</td>\n",
       "    </tr>\n",
       "    <tr>\n",
       "      <td>18</td>\n",
       "      <td>0.022343</td>\n",
       "      <td>0.094522</td>\n",
       "      <td>0.020653</td>\n",
       "      <td>01:48</td>\n",
       "    </tr>\n",
       "    <tr>\n",
       "      <td>19</td>\n",
       "      <td>0.020646</td>\n",
       "      <td>0.095517</td>\n",
       "      <td>0.021134</td>\n",
       "      <td>01:49</td>\n",
       "    </tr>\n",
       "  </tbody>\n",
       "</table>"
      ],
      "text/plain": [
       "<IPython.core.display.HTML object>"
      ]
     },
     "metadata": {},
     "output_type": "display_data"
    },
    {
     "name": "stdout",
     "output_type": "stream",
     "text": [
      "- Getting tta_predictions\n"
     ]
    },
    {
     "data": {
      "text/html": [
       "\n",
       "<style>\n",
       "    /* Turns off some styling */\n",
       "    progress {\n",
       "        /* gets rid of default border in Firefox and Opera. */\n",
       "        border: none;\n",
       "        /* Needs to be in here for Safari polyfill so background images work as expected. */\n",
       "        background-size: auto;\n",
       "    }\n",
       "    .progress-bar-interrupted, .progress-bar-interrupted::-webkit-progress-bar {\n",
       "        background: #F44336;\n",
       "    }\n",
       "</style>\n"
      ],
      "text/plain": [
       "<IPython.core.display.HTML object>"
      ]
     },
     "metadata": {},
     "output_type": "display_data"
    },
    {
     "data": {
      "text/html": [
       "\n",
       "    <div>\n",
       "      <progress value='0' class='' max='20' style='width:300px; height:20px; vertical-align: middle;'></progress>\n",
       "      \n",
       "    </div>\n",
       "    \n"
      ],
      "text/plain": [
       "<IPython.core.display.HTML object>"
      ]
     },
     "metadata": {},
     "output_type": "display_data"
    },
    {
     "data": {
      "text/html": [
       "\n",
       "<style>\n",
       "    /* Turns off some styling */\n",
       "    progress {\n",
       "        /* gets rid of default border in Firefox and Opera. */\n",
       "        border: none;\n",
       "        /* Needs to be in here for Safari polyfill so background images work as expected. */\n",
       "        background-size: auto;\n",
       "    }\n",
       "    .progress-bar-interrupted, .progress-bar-interrupted::-webkit-progress-bar {\n",
       "        background: #F44336;\n",
       "    }\n",
       "</style>\n"
      ],
      "text/plain": [
       "<IPython.core.display.HTML object>"
      ]
     },
     "metadata": {},
     "output_type": "display_data"
    },
    {
     "data": {
      "text/html": [],
      "text/plain": [
       "<IPython.core.display.HTML object>"
      ]
     },
     "metadata": {},
     "output_type": "display_data"
    },
    {
     "name": "stdout",
     "output_type": "stream",
     "text": [
      "Saving 20220718-exp4-resnet34-Fold2.csv\n",
      "////////////////////////////////////////\n",
      "---Experiment 5 -- resnet34\n",
      "fold:  4\n",
      "Resize -- {'size': (480, 480), 'method': 'squish', 'pad_mode': 'reflection', 'resamples': (<Resampling.BILINEAR: 2>, <Resampling.NEAREST: 0>), 'p': 1.0}\n",
      "- First 5 validation images:\n",
      "['109629.jpg', '109706.jpg', '104026.jpg', '110365.jpg', '107089.jpg']\n",
      "- Fine Tuning\n"
     ]
    },
    {
     "data": {
      "text/html": [
       "\n",
       "<style>\n",
       "    /* Turns off some styling */\n",
       "    progress {\n",
       "        /* gets rid of default border in Firefox and Opera. */\n",
       "        border: none;\n",
       "        /* Needs to be in here for Safari polyfill so background images work as expected. */\n",
       "        background-size: auto;\n",
       "    }\n",
       "    .progress-bar-interrupted, .progress-bar-interrupted::-webkit-progress-bar {\n",
       "        background: #F44336;\n",
       "    }\n",
       "</style>\n"
      ],
      "text/plain": [
       "<IPython.core.display.HTML object>"
      ]
     },
     "metadata": {},
     "output_type": "display_data"
    },
    {
     "data": {
      "text/html": [
       "<table border=\"1\" class=\"dataframe\">\n",
       "  <thead>\n",
       "    <tr style=\"text-align: left;\">\n",
       "      <th>epoch</th>\n",
       "      <th>train_loss</th>\n",
       "      <th>valid_loss</th>\n",
       "      <th>error_rate</th>\n",
       "      <th>time</th>\n",
       "    </tr>\n",
       "  </thead>\n",
       "  <tbody>\n",
       "    <tr>\n",
       "      <td>0</td>\n",
       "      <td>1.763906</td>\n",
       "      <td>1.049422</td>\n",
       "      <td>0.315233</td>\n",
       "      <td>01:45</td>\n",
       "    </tr>\n",
       "  </tbody>\n",
       "</table>"
      ],
      "text/plain": [
       "<IPython.core.display.HTML object>"
      ]
     },
     "metadata": {},
     "output_type": "display_data"
    },
    {
     "data": {
      "text/html": [
       "\n",
       "<style>\n",
       "    /* Turns off some styling */\n",
       "    progress {\n",
       "        /* gets rid of default border in Firefox and Opera. */\n",
       "        border: none;\n",
       "        /* Needs to be in here for Safari polyfill so background images work as expected. */\n",
       "        background-size: auto;\n",
       "    }\n",
       "    .progress-bar-interrupted, .progress-bar-interrupted::-webkit-progress-bar {\n",
       "        background: #F44336;\n",
       "    }\n",
       "</style>\n"
      ],
      "text/plain": [
       "<IPython.core.display.HTML object>"
      ]
     },
     "metadata": {},
     "output_type": "display_data"
    },
    {
     "data": {
      "text/html": [
       "<table border=\"1\" class=\"dataframe\">\n",
       "  <thead>\n",
       "    <tr style=\"text-align: left;\">\n",
       "      <th>epoch</th>\n",
       "      <th>train_loss</th>\n",
       "      <th>valid_loss</th>\n",
       "      <th>error_rate</th>\n",
       "      <th>time</th>\n",
       "    </tr>\n",
       "  </thead>\n",
       "  <tbody>\n",
       "    <tr>\n",
       "      <td>0</td>\n",
       "      <td>0.741525</td>\n",
       "      <td>0.453382</td>\n",
       "      <td>0.142720</td>\n",
       "      <td>01:48</td>\n",
       "    </tr>\n",
       "    <tr>\n",
       "      <td>1</td>\n",
       "      <td>0.451914</td>\n",
       "      <td>0.354371</td>\n",
       "      <td>0.106199</td>\n",
       "      <td>01:49</td>\n",
       "    </tr>\n",
       "    <tr>\n",
       "      <td>2</td>\n",
       "      <td>0.344301</td>\n",
       "      <td>0.370210</td>\n",
       "      <td>0.101874</td>\n",
       "      <td>01:48</td>\n",
       "    </tr>\n",
       "    <tr>\n",
       "      <td>3</td>\n",
       "      <td>0.335128</td>\n",
       "      <td>0.452625</td>\n",
       "      <td>0.124940</td>\n",
       "      <td>01:48</td>\n",
       "    </tr>\n",
       "    <tr>\n",
       "      <td>4</td>\n",
       "      <td>0.322635</td>\n",
       "      <td>0.322908</td>\n",
       "      <td>0.094666</td>\n",
       "      <td>01:49</td>\n",
       "    </tr>\n",
       "    <tr>\n",
       "      <td>5</td>\n",
       "      <td>0.279385</td>\n",
       "      <td>0.327499</td>\n",
       "      <td>0.089380</td>\n",
       "      <td>01:48</td>\n",
       "    </tr>\n",
       "    <tr>\n",
       "      <td>6</td>\n",
       "      <td>0.226315</td>\n",
       "      <td>0.429295</td>\n",
       "      <td>0.113407</td>\n",
       "      <td>01:48</td>\n",
       "    </tr>\n",
       "    <tr>\n",
       "      <td>7</td>\n",
       "      <td>0.220384</td>\n",
       "      <td>0.255178</td>\n",
       "      <td>0.068236</td>\n",
       "      <td>01:48</td>\n",
       "    </tr>\n",
       "    <tr>\n",
       "      <td>8</td>\n",
       "      <td>0.199664</td>\n",
       "      <td>0.255937</td>\n",
       "      <td>0.066795</td>\n",
       "      <td>01:48</td>\n",
       "    </tr>\n",
       "    <tr>\n",
       "      <td>9</td>\n",
       "      <td>0.178228</td>\n",
       "      <td>0.259380</td>\n",
       "      <td>0.059106</td>\n",
       "      <td>01:48</td>\n",
       "    </tr>\n",
       "    <tr>\n",
       "      <td>10</td>\n",
       "      <td>0.109323</td>\n",
       "      <td>0.201797</td>\n",
       "      <td>0.046132</td>\n",
       "      <td>01:48</td>\n",
       "    </tr>\n",
       "    <tr>\n",
       "      <td>11</td>\n",
       "      <td>0.096161</td>\n",
       "      <td>0.176717</td>\n",
       "      <td>0.041326</td>\n",
       "      <td>01:49</td>\n",
       "    </tr>\n",
       "    <tr>\n",
       "      <td>12</td>\n",
       "      <td>0.076047</td>\n",
       "      <td>0.167885</td>\n",
       "      <td>0.035079</td>\n",
       "      <td>01:48</td>\n",
       "    </tr>\n",
       "    <tr>\n",
       "      <td>13</td>\n",
       "      <td>0.069829</td>\n",
       "      <td>0.169847</td>\n",
       "      <td>0.038924</td>\n",
       "      <td>01:48</td>\n",
       "    </tr>\n",
       "    <tr>\n",
       "      <td>14</td>\n",
       "      <td>0.047372</td>\n",
       "      <td>0.187196</td>\n",
       "      <td>0.042287</td>\n",
       "      <td>01:49</td>\n",
       "    </tr>\n",
       "    <tr>\n",
       "      <td>15</td>\n",
       "      <td>0.036647</td>\n",
       "      <td>0.158025</td>\n",
       "      <td>0.033157</td>\n",
       "      <td>01:48</td>\n",
       "    </tr>\n",
       "    <tr>\n",
       "      <td>16</td>\n",
       "      <td>0.027014</td>\n",
       "      <td>0.154013</td>\n",
       "      <td>0.033638</td>\n",
       "      <td>01:49</td>\n",
       "    </tr>\n",
       "    <tr>\n",
       "      <td>17</td>\n",
       "      <td>0.022186</td>\n",
       "      <td>0.151451</td>\n",
       "      <td>0.033638</td>\n",
       "      <td>01:48</td>\n",
       "    </tr>\n",
       "    <tr>\n",
       "      <td>18</td>\n",
       "      <td>0.017903</td>\n",
       "      <td>0.150000</td>\n",
       "      <td>0.032196</td>\n",
       "      <td>01:48</td>\n",
       "    </tr>\n",
       "    <tr>\n",
       "      <td>19</td>\n",
       "      <td>0.016501</td>\n",
       "      <td>0.149516</td>\n",
       "      <td>0.033157</td>\n",
       "      <td>01:47</td>\n",
       "    </tr>\n",
       "  </tbody>\n",
       "</table>"
      ],
      "text/plain": [
       "<IPython.core.display.HTML object>"
      ]
     },
     "metadata": {},
     "output_type": "display_data"
    },
    {
     "name": "stdout",
     "output_type": "stream",
     "text": [
      "- Getting tta_predictions\n"
     ]
    },
    {
     "data": {
      "text/html": [
       "\n",
       "<style>\n",
       "    /* Turns off some styling */\n",
       "    progress {\n",
       "        /* gets rid of default border in Firefox and Opera. */\n",
       "        border: none;\n",
       "        /* Needs to be in here for Safari polyfill so background images work as expected. */\n",
       "        background-size: auto;\n",
       "    }\n",
       "    .progress-bar-interrupted, .progress-bar-interrupted::-webkit-progress-bar {\n",
       "        background: #F44336;\n",
       "    }\n",
       "</style>\n"
      ],
      "text/plain": [
       "<IPython.core.display.HTML object>"
      ]
     },
     "metadata": {},
     "output_type": "display_data"
    },
    {
     "data": {
      "text/html": [
       "\n",
       "    <div>\n",
       "      <progress value='0' class='' max='20' style='width:300px; height:20px; vertical-align: middle;'></progress>\n",
       "      \n",
       "    </div>\n",
       "    \n"
      ],
      "text/plain": [
       "<IPython.core.display.HTML object>"
      ]
     },
     "metadata": {},
     "output_type": "display_data"
    },
    {
     "data": {
      "text/html": [
       "\n",
       "<style>\n",
       "    /* Turns off some styling */\n",
       "    progress {\n",
       "        /* gets rid of default border in Firefox and Opera. */\n",
       "        border: none;\n",
       "        /* Needs to be in here for Safari polyfill so background images work as expected. */\n",
       "        background-size: auto;\n",
       "    }\n",
       "    .progress-bar-interrupted, .progress-bar-interrupted::-webkit-progress-bar {\n",
       "        background: #F44336;\n",
       "    }\n",
       "</style>\n"
      ],
      "text/plain": [
       "<IPython.core.display.HTML object>"
      ]
     },
     "metadata": {},
     "output_type": "display_data"
    },
    {
     "data": {
      "text/html": [],
      "text/plain": [
       "<IPython.core.display.HTML object>"
      ]
     },
     "metadata": {},
     "output_type": "display_data"
    },
    {
     "name": "stdout",
     "output_type": "stream",
     "text": [
      "Saving 20220718-exp5-resnet34-Fold4.csv\n"
     ]
    }
   ],
   "source": [
    "exp = 1\n",
    "for arch, details in models.items():\n",
    "    \n",
    "    for i_fold, item, size in details:\n",
    "        print('////'*10)\n",
    "        print('---Experiment', exp, '--', arch)\n",
    "        print('fold: ', i_fold)\n",
    "        print(item.name)\n",
    "        \n",
    "        preds, tta_preds, vocab = train(i_fold, arch, size, item_tfms=item, accum=1, epochs=20, lr=0.005)\n",
    "        \n",
    "        predictions.append(preds)\n",
    "        tta_predictions.append(tta_preds)\n",
    "        \n",
    "        now = dt.now().strftime(\"%Y%m%d\")\n",
    "        filename = f'{now}-exp{exp}-{arch}-Fold{i_fold}.csv'\n",
    "        print(f'Saving {filename}')\n",
    "        \n",
    "        sample_submission.label = vocab[tta_preds.argmax(axis=1)]\n",
    "        sample_submission.to_csv(filename, index=False)\n",
    "        \n",
    "        gc.collect()\n",
    "        torch.cuda.empty_cache()\n",
    "        exp += 1"
   ]
  },
  {
   "cell_type": "markdown",
   "id": "2c8100d6",
   "metadata": {
    "papermill": {
     "duration": 0.014966,
     "end_time": "2022-07-18T07:11:10.691837",
     "exception": false,
     "start_time": "2022-07-18T07:11:10.676871",
     "status": "completed"
    },
    "tags": []
   },
   "source": [
    "## Ensembling"
   ]
  },
  {
   "cell_type": "code",
   "execution_count": 14,
   "id": "81002e6a",
   "metadata": {
    "execution": {
     "iopub.execute_input": "2022-07-18T07:11:10.723385Z",
     "iopub.status.busy": "2022-07-18T07:11:10.723093Z",
     "iopub.status.idle": "2022-07-18T07:11:10.729567Z",
     "shell.execute_reply": "2022-07-18T07:11:10.728669Z"
    },
    "papermill": {
     "duration": 0.024558,
     "end_time": "2022-07-18T07:11:10.731659",
     "exception": false,
     "start_time": "2022-07-18T07:11:10.707101",
     "status": "completed"
    },
    "tags": []
   },
   "outputs": [
    {
     "data": {
      "text/plain": [
       "[torch.Size([3469, 10]),\n",
       " torch.Size([3469, 10]),\n",
       " torch.Size([3469, 10]),\n",
       " torch.Size([3469, 10]),\n",
       " torch.Size([3469, 10])]"
      ]
     },
     "execution_count": 14,
     "metadata": {},
     "output_type": "execute_result"
    }
   ],
   "source": [
    "[each.shape for each in tta_predictions]"
   ]
  },
  {
   "cell_type": "code",
   "execution_count": 15,
   "id": "ef45a534",
   "metadata": {
    "execution": {
     "iopub.execute_input": "2022-07-18T07:11:10.763125Z",
     "iopub.status.busy": "2022-07-18T07:11:10.762880Z",
     "iopub.status.idle": "2022-07-18T07:11:10.771431Z",
     "shell.execute_reply": "2022-07-18T07:11:10.770615Z"
    },
    "papermill": {
     "duration": 0.026673,
     "end_time": "2022-07-18T07:11:10.773551",
     "exception": false,
     "start_time": "2022-07-18T07:11:10.746878",
     "status": "completed"
    },
    "tags": []
   },
   "outputs": [
    {
     "data": {
      "text/plain": [
       "torch.Size([3469, 10])"
      ]
     },
     "execution_count": 15,
     "metadata": {},
     "output_type": "execute_result"
    }
   ],
   "source": [
    "avg_tta_predictions = torch.stack(tta_predictions).mean(0)\n",
    "avg_tta_predictions.shape"
   ]
  },
  {
   "cell_type": "markdown",
   "id": "25bbe92b",
   "metadata": {
    "papermill": {
     "duration": 0.01586,
     "end_time": "2022-07-18T07:11:10.805206",
     "exception": false,
     "start_time": "2022-07-18T07:11:10.789346",
     "status": "completed"
    },
    "tags": []
   },
   "source": [
    "## Final Submission"
   ]
  },
  {
   "cell_type": "code",
   "execution_count": 16,
   "id": "23be7cda",
   "metadata": {
    "execution": {
     "iopub.execute_input": "2022-07-18T07:11:10.837100Z",
     "iopub.status.busy": "2022-07-18T07:11:10.836850Z",
     "iopub.status.idle": "2022-07-18T07:11:10.900068Z",
     "shell.execute_reply": "2022-07-18T07:11:10.899137Z"
    },
    "papermill": {
     "duration": 0.081488,
     "end_time": "2022-07-18T07:11:10.901981",
     "exception": false,
     "start_time": "2022-07-18T07:11:10.820493",
     "status": "completed"
    },
    "tags": []
   },
   "outputs": [
    {
     "data": {
      "text/plain": [
       "(#3469) ['hispa','normal','blast','blast','blast','brown_spot','dead_heart','brown_spot','hispa','normal'...]"
      ]
     },
     "execution_count": 16,
     "metadata": {},
     "output_type": "execute_result"
    }
   ],
   "source": [
    "vocab[avg_tta_predictions.argmax(dim=1)]"
   ]
  },
  {
   "cell_type": "code",
   "execution_count": 17,
   "id": "c1148711",
   "metadata": {
    "execution": {
     "iopub.execute_input": "2022-07-18T07:11:10.934572Z",
     "iopub.status.busy": "2022-07-18T07:11:10.934318Z",
     "iopub.status.idle": "2022-07-18T07:11:11.002614Z",
     "shell.execute_reply": "2022-07-18T07:11:11.001707Z"
    },
    "papermill": {
     "duration": 0.087088,
     "end_time": "2022-07-18T07:11:11.005031",
     "exception": false,
     "start_time": "2022-07-18T07:11:10.917943",
     "status": "completed"
    },
    "tags": []
   },
   "outputs": [],
   "source": [
    "sample_submission.label = vocab[avg_tta_predictions.argmax(dim=1)]\n",
    "\n",
    "sample_submission.to_csv('submission.csv', index=False)"
   ]
  },
  {
   "cell_type": "markdown",
   "id": "95fc3af9",
   "metadata": {
    "papermill": {
     "duration": 0.015746,
     "end_time": "2022-07-18T07:11:11.036686",
     "exception": false,
     "start_time": "2022-07-18T07:11:11.020940",
     "status": "completed"
    },
    "tags": []
   },
   "source": [
    "## Conclusions"
   ]
  },
  {
   "cell_type": "markdown",
   "id": "ca327d43",
   "metadata": {
    "papermill": {
     "duration": 0.015264,
     "end_time": "2022-07-18T07:11:11.067827",
     "exception": false,
     "start_time": "2022-07-18T07:11:11.052563",
     "status": "completed"
    },
    "tags": []
   },
   "source": [
    "- Maybe it is more useful to try different models with different random splits as Jeremy did in his [Scaling Up: Road to the Top, Part 3](https://www.kaggle.com/code/jhoward/scaling-up-road-to-the-top-part-3), instead of using cross-validation (different validations for each training).\n",
    "- The results when running it locally were the following for 16 epochs: "
   ]
  },
  {
   "cell_type": "markdown",
   "id": "9a4e65d1",
   "metadata": {
    "papermill": {
     "duration": 0.015193,
     "end_time": "2022-07-18T07:11:11.099088",
     "exception": false,
     "start_time": "2022-07-18T07:11:11.083895",
     "status": "completed"
    },
    "tags": []
   },
   "source": [
    "<img src=\"https://drive.google.com/uc?export=view&id=1EucGY8cJYJiuAZHBp95UdS22zVeWvyjl\" width=\"500\">"
   ]
  },
  {
   "cell_type": "markdown",
   "id": "57728869",
   "metadata": {
    "papermill": {
     "duration": 0.015305,
     "end_time": "2022-07-18T07:11:11.129905",
     "exception": false,
     "start_time": "2022-07-18T07:11:11.114600",
     "status": "completed"
    },
    "tags": []
   },
   "source": [
    "- The ensembled model had a score of **0.98615** which is better than the best score for an individual fold (0.98269)."
   ]
  },
  {
   "cell_type": "code",
   "execution_count": 18,
   "id": "dc2c7626",
   "metadata": {
    "execution": {
     "iopub.execute_input": "2022-07-18T07:11:11.162497Z",
     "iopub.status.busy": "2022-07-18T07:11:11.162227Z",
     "iopub.status.idle": "2022-07-18T07:11:11.167477Z",
     "shell.execute_reply": "2022-07-18T07:11:11.166529Z"
    },
    "papermill": {
     "duration": 0.023855,
     "end_time": "2022-07-18T07:11:11.169369",
     "exception": false,
     "start_time": "2022-07-18T07:11:11.145514",
     "status": "completed"
    },
    "tags": []
   },
   "outputs": [],
   "source": [
    "# Pushing the notebook from my home PC to Kaggle\n",
    "\n",
    "if not iskaggle:\n",
    "    push_notebook(\n",
    "        'fmussari', \n",
    "        'Stratified Cross-Validation, Resnet34 & Fastai',\n",
    "        title='Stratified Cross-Validation, Resnet34 & Fastai',\n",
    "        file='2022-07. Cross-validation and Resnet34 with Fastai [Submission].ipynb',\n",
    "        competition=competition, \n",
    "        private=False, \n",
    "        gpu=True\n",
    "    )"
   ]
  },
  {
   "cell_type": "code",
   "execution_count": null,
   "id": "db370d9d",
   "metadata": {
    "papermill": {
     "duration": 0.015226,
     "end_time": "2022-07-18T07:11:11.200145",
     "exception": false,
     "start_time": "2022-07-18T07:11:11.184919",
     "status": "completed"
    },
    "tags": []
   },
   "outputs": [],
   "source": []
  }
 ],
 "metadata": {
  "kernelspec": {
   "display_name": "Python 3",
   "language": "python",
   "name": "python3"
  },
  "language_info": {
   "codemirror_mode": {
    "name": "ipython",
    "version": 3
   },
   "file_extension": ".py",
   "mimetype": "text/x-python",
   "name": "python",
   "nbconvert_exporter": "python",
   "pygments_lexer": "ipython3",
   "version": "3.7.12"
  },
  "papermill": {
   "default_parameters": {},
   "duration": 12274.166514,
   "end_time": "2022-07-18T07:11:13.582776",
   "environment_variables": {},
   "exception": null,
   "input_path": "__notebook__.ipynb",
   "output_path": "__notebook__.ipynb",
   "parameters": {},
   "start_time": "2022-07-18T03:46:39.416262",
   "version": "2.3.4"
  },
  "widgets": {
   "application/vnd.jupyter.widget-state+json": {
    "state": {
     "3545beef24694cb78b3fcd31cc8153c3": {
      "model_module": "@jupyter-widgets/controls",
      "model_module_version": "1.5.0",
      "model_name": "ProgressStyleModel",
      "state": {
       "_model_module": "@jupyter-widgets/controls",
       "_model_module_version": "1.5.0",
       "_model_name": "ProgressStyleModel",
       "_view_count": null,
       "_view_module": "@jupyter-widgets/base",
       "_view_module_version": "1.2.0",
       "_view_name": "StyleView",
       "bar_color": null,
       "description_width": ""
      }
     },
     "4bdff26926e047aa936a8115c4d01b50": {
      "model_module": "@jupyter-widgets/controls",
      "model_module_version": "1.5.0",
      "model_name": "HTMLModel",
      "state": {
       "_dom_classes": [],
       "_model_module": "@jupyter-widgets/controls",
       "_model_module_version": "1.5.0",
       "_model_name": "HTMLModel",
       "_view_count": null,
       "_view_module": "@jupyter-widgets/controls",
       "_view_module_version": "1.5.0",
       "_view_name": "HTMLView",
       "description": "",
       "description_tooltip": null,
       "layout": "IPY_MODEL_de69db51b8f54353bee301d52da13f01",
       "placeholder": "​",
       "style": "IPY_MODEL_e4a7fb64f9fc4323add1d09e99d0215e",
       "value": " 83.3M/83.3M [00:04&lt;00:00, 25.7MB/s]"
      }
     },
     "56f4199296c24937aa9f78efa77ab735": {
      "model_module": "@jupyter-widgets/base",
      "model_module_version": "1.2.0",
      "model_name": "LayoutModel",
      "state": {
       "_model_module": "@jupyter-widgets/base",
       "_model_module_version": "1.2.0",
       "_model_name": "LayoutModel",
       "_view_count": null,
       "_view_module": "@jupyter-widgets/base",
       "_view_module_version": "1.2.0",
       "_view_name": "LayoutView",
       "align_content": null,
       "align_items": null,
       "align_self": null,
       "border": null,
       "bottom": null,
       "display": null,
       "flex": null,
       "flex_flow": null,
       "grid_area": null,
       "grid_auto_columns": null,
       "grid_auto_flow": null,
       "grid_auto_rows": null,
       "grid_column": null,
       "grid_gap": null,
       "grid_row": null,
       "grid_template_areas": null,
       "grid_template_columns": null,
       "grid_template_rows": null,
       "height": null,
       "justify_content": null,
       "justify_items": null,
       "left": null,
       "margin": null,
       "max_height": null,
       "max_width": null,
       "min_height": null,
       "min_width": null,
       "object_fit": null,
       "object_position": null,
       "order": null,
       "overflow": null,
       "overflow_x": null,
       "overflow_y": null,
       "padding": null,
       "right": null,
       "top": null,
       "visibility": null,
       "width": null
      }
     },
     "5a1f170307264bcb83b2fc942bd5933e": {
      "model_module": "@jupyter-widgets/controls",
      "model_module_version": "1.5.0",
      "model_name": "FloatProgressModel",
      "state": {
       "_dom_classes": [],
       "_model_module": "@jupyter-widgets/controls",
       "_model_module_version": "1.5.0",
       "_model_name": "FloatProgressModel",
       "_view_count": null,
       "_view_module": "@jupyter-widgets/controls",
       "_view_module_version": "1.5.0",
       "_view_name": "ProgressView",
       "bar_style": "success",
       "description": "",
       "description_tooltip": null,
       "layout": "IPY_MODEL_5d3c842e079047538387e2fec562033d",
       "max": 87319819.0,
       "min": 0.0,
       "orientation": "horizontal",
       "style": "IPY_MODEL_3545beef24694cb78b3fcd31cc8153c3",
       "value": 87319819.0
      }
     },
     "5d3c842e079047538387e2fec562033d": {
      "model_module": "@jupyter-widgets/base",
      "model_module_version": "1.2.0",
      "model_name": "LayoutModel",
      "state": {
       "_model_module": "@jupyter-widgets/base",
       "_model_module_version": "1.2.0",
       "_model_name": "LayoutModel",
       "_view_count": null,
       "_view_module": "@jupyter-widgets/base",
       "_view_module_version": "1.2.0",
       "_view_name": "LayoutView",
       "align_content": null,
       "align_items": null,
       "align_self": null,
       "border": null,
       "bottom": null,
       "display": null,
       "flex": null,
       "flex_flow": null,
       "grid_area": null,
       "grid_auto_columns": null,
       "grid_auto_flow": null,
       "grid_auto_rows": null,
       "grid_column": null,
       "grid_gap": null,
       "grid_row": null,
       "grid_template_areas": null,
       "grid_template_columns": null,
       "grid_template_rows": null,
       "height": null,
       "justify_content": null,
       "justify_items": null,
       "left": null,
       "margin": null,
       "max_height": null,
       "max_width": null,
       "min_height": null,
       "min_width": null,
       "object_fit": null,
       "object_position": null,
       "order": null,
       "overflow": null,
       "overflow_x": null,
       "overflow_y": null,
       "padding": null,
       "right": null,
       "top": null,
       "visibility": null,
       "width": null
      }
     },
     "92e4cdc0a55643c79fe008e1ad4a1541": {
      "model_module": "@jupyter-widgets/base",
      "model_module_version": "1.2.0",
      "model_name": "LayoutModel",
      "state": {
       "_model_module": "@jupyter-widgets/base",
       "_model_module_version": "1.2.0",
       "_model_name": "LayoutModel",
       "_view_count": null,
       "_view_module": "@jupyter-widgets/base",
       "_view_module_version": "1.2.0",
       "_view_name": "LayoutView",
       "align_content": null,
       "align_items": null,
       "align_self": null,
       "border": null,
       "bottom": null,
       "display": null,
       "flex": null,
       "flex_flow": null,
       "grid_area": null,
       "grid_auto_columns": null,
       "grid_auto_flow": null,
       "grid_auto_rows": null,
       "grid_column": null,
       "grid_gap": null,
       "grid_row": null,
       "grid_template_areas": null,
       "grid_template_columns": null,
       "grid_template_rows": null,
       "height": null,
       "justify_content": null,
       "justify_items": null,
       "left": null,
       "margin": null,
       "max_height": null,
       "max_width": null,
       "min_height": null,
       "min_width": null,
       "object_fit": null,
       "object_position": null,
       "order": null,
       "overflow": null,
       "overflow_x": null,
       "overflow_y": null,
       "padding": null,
       "right": null,
       "top": null,
       "visibility": null,
       "width": null
      }
     },
     "ac6e204be53c4fb596cd1219e92336c2": {
      "model_module": "@jupyter-widgets/controls",
      "model_module_version": "1.5.0",
      "model_name": "HBoxModel",
      "state": {
       "_dom_classes": [],
       "_model_module": "@jupyter-widgets/controls",
       "_model_module_version": "1.5.0",
       "_model_name": "HBoxModel",
       "_view_count": null,
       "_view_module": "@jupyter-widgets/controls",
       "_view_module_version": "1.5.0",
       "_view_name": "HBoxView",
       "box_style": "",
       "children": [
        "IPY_MODEL_faba6eaddb824db0b804d5faaac5411a",
        "IPY_MODEL_5a1f170307264bcb83b2fc942bd5933e",
        "IPY_MODEL_4bdff26926e047aa936a8115c4d01b50"
       ],
       "layout": "IPY_MODEL_92e4cdc0a55643c79fe008e1ad4a1541"
      }
     },
     "c0efcb43795a48ca94d1d65054294909": {
      "model_module": "@jupyter-widgets/controls",
      "model_module_version": "1.5.0",
      "model_name": "DescriptionStyleModel",
      "state": {
       "_model_module": "@jupyter-widgets/controls",
       "_model_module_version": "1.5.0",
       "_model_name": "DescriptionStyleModel",
       "_view_count": null,
       "_view_module": "@jupyter-widgets/base",
       "_view_module_version": "1.2.0",
       "_view_name": "StyleView",
       "description_width": ""
      }
     },
     "de69db51b8f54353bee301d52da13f01": {
      "model_module": "@jupyter-widgets/base",
      "model_module_version": "1.2.0",
      "model_name": "LayoutModel",
      "state": {
       "_model_module": "@jupyter-widgets/base",
       "_model_module_version": "1.2.0",
       "_model_name": "LayoutModel",
       "_view_count": null,
       "_view_module": "@jupyter-widgets/base",
       "_view_module_version": "1.2.0",
       "_view_name": "LayoutView",
       "align_content": null,
       "align_items": null,
       "align_self": null,
       "border": null,
       "bottom": null,
       "display": null,
       "flex": null,
       "flex_flow": null,
       "grid_area": null,
       "grid_auto_columns": null,
       "grid_auto_flow": null,
       "grid_auto_rows": null,
       "grid_column": null,
       "grid_gap": null,
       "grid_row": null,
       "grid_template_areas": null,
       "grid_template_columns": null,
       "grid_template_rows": null,
       "height": null,
       "justify_content": null,
       "justify_items": null,
       "left": null,
       "margin": null,
       "max_height": null,
       "max_width": null,
       "min_height": null,
       "min_width": null,
       "object_fit": null,
       "object_position": null,
       "order": null,
       "overflow": null,
       "overflow_x": null,
       "overflow_y": null,
       "padding": null,
       "right": null,
       "top": null,
       "visibility": null,
       "width": null
      }
     },
     "e4a7fb64f9fc4323add1d09e99d0215e": {
      "model_module": "@jupyter-widgets/controls",
      "model_module_version": "1.5.0",
      "model_name": "DescriptionStyleModel",
      "state": {
       "_model_module": "@jupyter-widgets/controls",
       "_model_module_version": "1.5.0",
       "_model_name": "DescriptionStyleModel",
       "_view_count": null,
       "_view_module": "@jupyter-widgets/base",
       "_view_module_version": "1.2.0",
       "_view_name": "StyleView",
       "description_width": ""
      }
     },
     "faba6eaddb824db0b804d5faaac5411a": {
      "model_module": "@jupyter-widgets/controls",
      "model_module_version": "1.5.0",
      "model_name": "HTMLModel",
      "state": {
       "_dom_classes": [],
       "_model_module": "@jupyter-widgets/controls",
       "_model_module_version": "1.5.0",
       "_model_name": "HTMLModel",
       "_view_count": null,
       "_view_module": "@jupyter-widgets/controls",
       "_view_module_version": "1.5.0",
       "_view_name": "HTMLView",
       "description": "",
       "description_tooltip": null,
       "layout": "IPY_MODEL_56f4199296c24937aa9f78efa77ab735",
       "placeholder": "​",
       "style": "IPY_MODEL_c0efcb43795a48ca94d1d65054294909",
       "value": "100%"
      }
     }
    },
    "version_major": 2,
    "version_minor": 0
   }
  }
 },
 "nbformat": 4,
 "nbformat_minor": 5
}
