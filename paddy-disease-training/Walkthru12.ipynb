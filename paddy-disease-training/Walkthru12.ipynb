{
 "cells": [
  {
   "cell_type": "markdown",
   "id": "1c4d777f",
   "metadata": {},
   "source": [
    "# Walkthru 12\n"
   ]
  },
  {
   "cell_type": "markdown",
   "id": "38a0f48d",
   "metadata": {},
   "source": [
    "## References\n",
    "- [Walkthru 12](https://youtu.be/GuCkpjXHdTc)"
   ]
  },
  {
   "cell_type": "code",
   "execution_count": 1,
   "id": "83100090",
   "metadata": {},
   "outputs": [],
   "source": [
    "from fastai.vision.all import *\n",
    "import timm"
   ]
  },
  {
   "cell_type": "code",
   "execution_count": 2,
   "id": "ad9e1ad1",
   "metadata": {},
   "outputs": [],
   "source": [
    "path = Path('paddy-disease-classification')\n",
    "\n",
    "train_path = path / 'train_images'\n",
    "train_files = get_image_files(train_path)\n",
    "\n",
    "test_path = path/'test_images'\n",
    "test_files = get_image_files(train_path).sorted()"
   ]
  },
  {
   "cell_type": "code",
   "execution_count": 3,
   "id": "603a4cc5",
   "metadata": {},
   "outputs": [
    {
     "name": "stdout",
     "output_type": "stream",
     "text": [
      "bacterial_leaf_blight\t  blast       downy_mildew  tungro\r\n",
      "bacterial_leaf_streak\t  brown_spot  hispa\r\n",
      "bacterial_panicle_blight  dead_heart  normal\r\n"
     ]
    }
   ],
   "source": [
    "! ls {train_path}"
   ]
  },
  {
   "cell_type": "code",
   "execution_count": 4,
   "id": "88a76095",
   "metadata": {},
   "outputs": [],
   "source": [
    "## For walkthru 12\n",
    "\n",
    "def custom_train(epochs, lr, arch, item_tfms, batch_tfms, seed=None, accum=False, floating=16):\n",
    "    kwargs = {'bs': 32} if accum else {}\n",
    "    \n",
    "    dls = ImageDataLoaders.from_folder(\n",
    "        train_path,\n",
    "        seed=seed,\n",
    "        valid_pct=0.2,\n",
    "        item_tfms=item_tfms,\n",
    "        batch_tfms=batch_tfms,\n",
    "        **kwargs\n",
    "    )\n",
    "    cbs = GradientAccumulation(2) if accum else []\n",
    "    \n",
    "    if floating == 16:\n",
    "        learn = vision_learner(dls, arch, metrics=error_rate, cbs=cbs).to_fp16()\n",
    "    else:\n",
    "        learn = vision_learner(dls, arch, metrics=error_rate, cbs=cbs)\n",
    "        \n",
    "    learn.fine_tune(epochs, lr)\n",
    "    \n",
    "    return learn"
   ]
  },
  {
   "cell_type": "code",
   "execution_count": 5,
   "id": "c4b63203",
   "metadata": {},
   "outputs": [],
   "source": [
    "arch = 'convnext_tiny_in22k'\n",
    "\n",
    "item_tfms = Resize(480)\n",
    "batch_tfms = aug_transforms(size=224, min_scale=0.75)\n"
   ]
  },
  {
   "cell_type": "code",
   "execution_count": 6,
   "id": "a126ae9d",
   "metadata": {},
   "outputs": [],
   "source": [
    "#! nvidia-smi --query-gpu=timestamp,power.draw,memory.total,utilization.memory,temperature.gpu,clocks.current.graphics,clocks.current.sm,clocks.current.memory --loop=5 --format=csv --filename=results-file.csv"
   ]
  },
  {
   "cell_type": "markdown",
   "id": "6da10122",
   "metadata": {},
   "source": [
    "/home/fmussari/.cache/torch/hub/checkpoints/"
   ]
  },
  {
   "cell_type": "code",
   "execution_count": 7,
   "id": "aadb4caa",
   "metadata": {},
   "outputs": [
    {
     "data": {
      "text/html": [
       "\n",
       "<style>\n",
       "    /* Turns off some styling */\n",
       "    progress {\n",
       "        /* gets rid of default border in Firefox and Opera. */\n",
       "        border: none;\n",
       "        /* Needs to be in here for Safari polyfill so background images work as expected. */\n",
       "        background-size: auto;\n",
       "    }\n",
       "    .progress-bar-interrupted, .progress-bar-interrupted::-webkit-progress-bar {\n",
       "        background: #F44336;\n",
       "    }\n",
       "</style>\n"
      ],
      "text/plain": [
       "<IPython.core.display.HTML object>"
      ]
     },
     "metadata": {},
     "output_type": "display_data"
    },
    {
     "data": {
      "text/html": [
       "<table border=\"1\" class=\"dataframe\">\n",
       "  <thead>\n",
       "    <tr style=\"text-align: left;\">\n",
       "      <th>epoch</th>\n",
       "      <th>train_loss</th>\n",
       "      <th>valid_loss</th>\n",
       "      <th>error_rate</th>\n",
       "      <th>time</th>\n",
       "    </tr>\n",
       "  </thead>\n",
       "  <tbody>\n",
       "    <tr>\n",
       "      <td>0</td>\n",
       "      <td>1.426843</td>\n",
       "      <td>1.159889</td>\n",
       "      <td>0.298414</td>\n",
       "      <td>03:29</td>\n",
       "    </tr>\n",
       "  </tbody>\n",
       "</table>"
      ],
      "text/plain": [
       "<IPython.core.display.HTML object>"
      ]
     },
     "metadata": {},
     "output_type": "display_data"
    },
    {
     "data": {
      "text/html": [
       "\n",
       "<style>\n",
       "    /* Turns off some styling */\n",
       "    progress {\n",
       "        /* gets rid of default border in Firefox and Opera. */\n",
       "        border: none;\n",
       "        /* Needs to be in here for Safari polyfill so background images work as expected. */\n",
       "        background-size: auto;\n",
       "    }\n",
       "    .progress-bar-interrupted, .progress-bar-interrupted::-webkit-progress-bar {\n",
       "        background: #F44336;\n",
       "    }\n",
       "</style>\n"
      ],
      "text/plain": [
       "<IPython.core.display.HTML object>"
      ]
     },
     "metadata": {},
     "output_type": "display_data"
    },
    {
     "data": {
      "text/html": [
       "<table border=\"1\" class=\"dataframe\">\n",
       "  <thead>\n",
       "    <tr style=\"text-align: left;\">\n",
       "      <th>epoch</th>\n",
       "      <th>train_loss</th>\n",
       "      <th>valid_loss</th>\n",
       "      <th>error_rate</th>\n",
       "      <th>time</th>\n",
       "    </tr>\n",
       "  </thead>\n",
       "  <tbody>\n",
       "    <tr>\n",
       "      <td>0</td>\n",
       "      <td>0.831079</td>\n",
       "      <td>0.591243</td>\n",
       "      <td>0.181643</td>\n",
       "      <td>03:57</td>\n",
       "    </tr>\n",
       "    <tr>\n",
       "      <td>1</td>\n",
       "      <td>0.396642</td>\n",
       "      <td>0.260589</td>\n",
       "      <td>0.079289</td>\n",
       "      <td>04:00</td>\n",
       "    </tr>\n",
       "    <tr>\n",
       "      <td>2</td>\n",
       "      <td>0.219774</td>\n",
       "      <td>0.162865</td>\n",
       "      <td>0.050457</td>\n",
       "      <td>03:59</td>\n",
       "    </tr>\n",
       "  </tbody>\n",
       "</table>"
      ],
      "text/plain": [
       "<IPython.core.display.HTML object>"
      ]
     },
     "metadata": {},
     "output_type": "display_data"
    }
   ],
   "source": [
    "learn = custom_train(3, 0.02, arch, item_tfms, batch_tfms, seed=42, accum=True, floating=16)"
   ]
  },
  {
   "cell_type": "code",
   "execution_count": 8,
   "id": "ba589d16",
   "metadata": {},
   "outputs": [],
   "source": [
    "from copy import deepcopy"
   ]
  },
  {
   "cell_type": "code",
   "execution_count": 9,
   "id": "cdb0e7f0",
   "metadata": {},
   "outputs": [],
   "source": [
    "learn.export('walk12-convnext_tiny_in22k-3ep.pkl')"
   ]
  },
  {
   "cell_type": "code",
   "execution_count": 11,
   "id": "dcc47b6d",
   "metadata": {},
   "outputs": [
    {
     "data": {
      "text/plain": [
       "Sequential(\n",
       "  (0): TimmBody(\n",
       "    (model): ConvNeXt(\n",
       "      (stem): Sequential(\n",
       "        (0): Conv2d(3, 96, kernel_size=(4, 4), stride=(4, 4))\n",
       "        (1): LayerNorm2d((96,), eps=1e-06, elementwise_affine=True)\n",
       "      )\n",
       "      (stages): Sequential(\n",
       "        (0): ConvNeXtStage(\n",
       "          (downsample): Identity()\n",
       "          (blocks): Sequential(\n",
       "            (0): ConvNeXtBlock(\n",
       "              (conv_dw): Conv2d(96, 96, kernel_size=(7, 7), stride=(1, 1), padding=(3, 3), groups=96)\n",
       "              (norm): LayerNorm((96,), eps=1e-06, elementwise_affine=True)\n",
       "              (mlp): Mlp(\n",
       "                (fc1): Linear(in_features=96, out_features=384, bias=True)\n",
       "                (act): GELU()\n",
       "                (drop1): Dropout(p=0.0, inplace=False)\n",
       "                (fc2): Linear(in_features=384, out_features=96, bias=True)\n",
       "                (drop2): Dropout(p=0.0, inplace=False)\n",
       "              )\n",
       "              (drop_path): Identity()\n",
       "            )\n",
       "            (1): ConvNeXtBlock(\n",
       "              (conv_dw): Conv2d(96, 96, kernel_size=(7, 7), stride=(1, 1), padding=(3, 3), groups=96)\n",
       "              (norm): LayerNorm((96,), eps=1e-06, elementwise_affine=True)\n",
       "              (mlp): Mlp(\n",
       "                (fc1): Linear(in_features=96, out_features=384, bias=True)\n",
       "                (act): GELU()\n",
       "                (drop1): Dropout(p=0.0, inplace=False)\n",
       "                (fc2): Linear(in_features=384, out_features=96, bias=True)\n",
       "                (drop2): Dropout(p=0.0, inplace=False)\n",
       "              )\n",
       "              (drop_path): Identity()\n",
       "            )\n",
       "            (2): ConvNeXtBlock(\n",
       "              (conv_dw): Conv2d(96, 96, kernel_size=(7, 7), stride=(1, 1), padding=(3, 3), groups=96)\n",
       "              (norm): LayerNorm((96,), eps=1e-06, elementwise_affine=True)\n",
       "              (mlp): Mlp(\n",
       "                (fc1): Linear(in_features=96, out_features=384, bias=True)\n",
       "                (act): GELU()\n",
       "                (drop1): Dropout(p=0.0, inplace=False)\n",
       "                (fc2): Linear(in_features=384, out_features=96, bias=True)\n",
       "                (drop2): Dropout(p=0.0, inplace=False)\n",
       "              )\n",
       "              (drop_path): Identity()\n",
       "            )\n",
       "          )\n",
       "        )\n",
       "        (1): ConvNeXtStage(\n",
       "          (downsample): Sequential(\n",
       "            (0): LayerNorm2d((96,), eps=1e-06, elementwise_affine=True)\n",
       "            (1): Conv2d(96, 192, kernel_size=(2, 2), stride=(2, 2))\n",
       "          )\n",
       "          (blocks): Sequential(\n",
       "            (0): ConvNeXtBlock(\n",
       "              (conv_dw): Conv2d(192, 192, kernel_size=(7, 7), stride=(1, 1), padding=(3, 3), groups=192)\n",
       "              (norm): LayerNorm((192,), eps=1e-06, elementwise_affine=True)\n",
       "              (mlp): Mlp(\n",
       "                (fc1): Linear(in_features=192, out_features=768, bias=True)\n",
       "                (act): GELU()\n",
       "                (drop1): Dropout(p=0.0, inplace=False)\n",
       "                (fc2): Linear(in_features=768, out_features=192, bias=True)\n",
       "                (drop2): Dropout(p=0.0, inplace=False)\n",
       "              )\n",
       "              (drop_path): Identity()\n",
       "            )\n",
       "            (1): ConvNeXtBlock(\n",
       "              (conv_dw): Conv2d(192, 192, kernel_size=(7, 7), stride=(1, 1), padding=(3, 3), groups=192)\n",
       "              (norm): LayerNorm((192,), eps=1e-06, elementwise_affine=True)\n",
       "              (mlp): Mlp(\n",
       "                (fc1): Linear(in_features=192, out_features=768, bias=True)\n",
       "                (act): GELU()\n",
       "                (drop1): Dropout(p=0.0, inplace=False)\n",
       "                (fc2): Linear(in_features=768, out_features=192, bias=True)\n",
       "                (drop2): Dropout(p=0.0, inplace=False)\n",
       "              )\n",
       "              (drop_path): Identity()\n",
       "            )\n",
       "            (2): ConvNeXtBlock(\n",
       "              (conv_dw): Conv2d(192, 192, kernel_size=(7, 7), stride=(1, 1), padding=(3, 3), groups=192)\n",
       "              (norm): LayerNorm((192,), eps=1e-06, elementwise_affine=True)\n",
       "              (mlp): Mlp(\n",
       "                (fc1): Linear(in_features=192, out_features=768, bias=True)\n",
       "                (act): GELU()\n",
       "                (drop1): Dropout(p=0.0, inplace=False)\n",
       "                (fc2): Linear(in_features=768, out_features=192, bias=True)\n",
       "                (drop2): Dropout(p=0.0, inplace=False)\n",
       "              )\n",
       "              (drop_path): Identity()\n",
       "            )\n",
       "          )\n",
       "        )\n",
       "        (2): ConvNeXtStage(\n",
       "          (downsample): Sequential(\n",
       "            (0): LayerNorm2d((192,), eps=1e-06, elementwise_affine=True)\n",
       "            (1): Conv2d(192, 384, kernel_size=(2, 2), stride=(2, 2))\n",
       "          )\n",
       "          (blocks): Sequential(\n",
       "            (0): ConvNeXtBlock(\n",
       "              (conv_dw): Conv2d(384, 384, kernel_size=(7, 7), stride=(1, 1), padding=(3, 3), groups=384)\n",
       "              (norm): LayerNorm((384,), eps=1e-06, elementwise_affine=True)\n",
       "              (mlp): Mlp(\n",
       "                (fc1): Linear(in_features=384, out_features=1536, bias=True)\n",
       "                (act): GELU()\n",
       "                (drop1): Dropout(p=0.0, inplace=False)\n",
       "                (fc2): Linear(in_features=1536, out_features=384, bias=True)\n",
       "                (drop2): Dropout(p=0.0, inplace=False)\n",
       "              )\n",
       "              (drop_path): Identity()\n",
       "            )\n",
       "            (1): ConvNeXtBlock(\n",
       "              (conv_dw): Conv2d(384, 384, kernel_size=(7, 7), stride=(1, 1), padding=(3, 3), groups=384)\n",
       "              (norm): LayerNorm((384,), eps=1e-06, elementwise_affine=True)\n",
       "              (mlp): Mlp(\n",
       "                (fc1): Linear(in_features=384, out_features=1536, bias=True)\n",
       "                (act): GELU()\n",
       "                (drop1): Dropout(p=0.0, inplace=False)\n",
       "                (fc2): Linear(in_features=1536, out_features=384, bias=True)\n",
       "                (drop2): Dropout(p=0.0, inplace=False)\n",
       "              )\n",
       "              (drop_path): Identity()\n",
       "            )\n",
       "            (2): ConvNeXtBlock(\n",
       "              (conv_dw): Conv2d(384, 384, kernel_size=(7, 7), stride=(1, 1), padding=(3, 3), groups=384)\n",
       "              (norm): LayerNorm((384,), eps=1e-06, elementwise_affine=True)\n",
       "              (mlp): Mlp(\n",
       "                (fc1): Linear(in_features=384, out_features=1536, bias=True)\n",
       "                (act): GELU()\n",
       "                (drop1): Dropout(p=0.0, inplace=False)\n",
       "                (fc2): Linear(in_features=1536, out_features=384, bias=True)\n",
       "                (drop2): Dropout(p=0.0, inplace=False)\n",
       "              )\n",
       "              (drop_path): Identity()\n",
       "            )\n",
       "            (3): ConvNeXtBlock(\n",
       "              (conv_dw): Conv2d(384, 384, kernel_size=(7, 7), stride=(1, 1), padding=(3, 3), groups=384)\n",
       "              (norm): LayerNorm((384,), eps=1e-06, elementwise_affine=True)\n",
       "              (mlp): Mlp(\n",
       "                (fc1): Linear(in_features=384, out_features=1536, bias=True)\n",
       "                (act): GELU()\n",
       "                (drop1): Dropout(p=0.0, inplace=False)\n",
       "                (fc2): Linear(in_features=1536, out_features=384, bias=True)\n",
       "                (drop2): Dropout(p=0.0, inplace=False)\n",
       "              )\n",
       "              (drop_path): Identity()\n",
       "            )\n",
       "            (4): ConvNeXtBlock(\n",
       "              (conv_dw): Conv2d(384, 384, kernel_size=(7, 7), stride=(1, 1), padding=(3, 3), groups=384)\n",
       "              (norm): LayerNorm((384,), eps=1e-06, elementwise_affine=True)\n",
       "              (mlp): Mlp(\n",
       "                (fc1): Linear(in_features=384, out_features=1536, bias=True)\n",
       "                (act): GELU()\n",
       "                (drop1): Dropout(p=0.0, inplace=False)\n",
       "                (fc2): Linear(in_features=1536, out_features=384, bias=True)\n",
       "                (drop2): Dropout(p=0.0, inplace=False)\n",
       "              )\n",
       "              (drop_path): Identity()\n",
       "            )\n",
       "            (5): ConvNeXtBlock(\n",
       "              (conv_dw): Conv2d(384, 384, kernel_size=(7, 7), stride=(1, 1), padding=(3, 3), groups=384)\n",
       "              (norm): LayerNorm((384,), eps=1e-06, elementwise_affine=True)\n",
       "              (mlp): Mlp(\n",
       "                (fc1): Linear(in_features=384, out_features=1536, bias=True)\n",
       "                (act): GELU()\n",
       "                (drop1): Dropout(p=0.0, inplace=False)\n",
       "                (fc2): Linear(in_features=1536, out_features=384, bias=True)\n",
       "                (drop2): Dropout(p=0.0, inplace=False)\n",
       "              )\n",
       "              (drop_path): Identity()\n",
       "            )\n",
       "            (6): ConvNeXtBlock(\n",
       "              (conv_dw): Conv2d(384, 384, kernel_size=(7, 7), stride=(1, 1), padding=(3, 3), groups=384)\n",
       "              (norm): LayerNorm((384,), eps=1e-06, elementwise_affine=True)\n",
       "              (mlp): Mlp(\n",
       "                (fc1): Linear(in_features=384, out_features=1536, bias=True)\n",
       "                (act): GELU()\n",
       "                (drop1): Dropout(p=0.0, inplace=False)\n",
       "                (fc2): Linear(in_features=1536, out_features=384, bias=True)\n",
       "                (drop2): Dropout(p=0.0, inplace=False)\n",
       "              )\n",
       "              (drop_path): Identity()\n",
       "            )\n",
       "            (7): ConvNeXtBlock(\n",
       "              (conv_dw): Conv2d(384, 384, kernel_size=(7, 7), stride=(1, 1), padding=(3, 3), groups=384)\n",
       "              (norm): LayerNorm((384,), eps=1e-06, elementwise_affine=True)\n",
       "              (mlp): Mlp(\n",
       "                (fc1): Linear(in_features=384, out_features=1536, bias=True)\n",
       "                (act): GELU()\n",
       "                (drop1): Dropout(p=0.0, inplace=False)\n",
       "                (fc2): Linear(in_features=1536, out_features=384, bias=True)\n",
       "                (drop2): Dropout(p=0.0, inplace=False)\n",
       "              )\n",
       "              (drop_path): Identity()\n",
       "            )\n",
       "            (8): ConvNeXtBlock(\n",
       "              (conv_dw): Conv2d(384, 384, kernel_size=(7, 7), stride=(1, 1), padding=(3, 3), groups=384)\n",
       "              (norm): LayerNorm((384,), eps=1e-06, elementwise_affine=True)\n",
       "              (mlp): Mlp(\n",
       "                (fc1): Linear(in_features=384, out_features=1536, bias=True)\n",
       "                (act): GELU()\n",
       "                (drop1): Dropout(p=0.0, inplace=False)\n",
       "                (fc2): Linear(in_features=1536, out_features=384, bias=True)\n",
       "                (drop2): Dropout(p=0.0, inplace=False)\n",
       "              )\n",
       "              (drop_path): Identity()\n",
       "            )\n",
       "          )\n",
       "        )\n",
       "        (3): ConvNeXtStage(\n",
       "          (downsample): Sequential(\n",
       "            (0): LayerNorm2d((384,), eps=1e-06, elementwise_affine=True)\n",
       "            (1): Conv2d(384, 768, kernel_size=(2, 2), stride=(2, 2))\n",
       "          )\n",
       "          (blocks): Sequential(\n",
       "            (0): ConvNeXtBlock(\n",
       "              (conv_dw): Conv2d(768, 768, kernel_size=(7, 7), stride=(1, 1), padding=(3, 3), groups=768)\n",
       "              (norm): LayerNorm((768,), eps=1e-06, elementwise_affine=True)\n",
       "              (mlp): Mlp(\n",
       "                (fc1): Linear(in_features=768, out_features=3072, bias=True)\n",
       "                (act): GELU()\n",
       "                (drop1): Dropout(p=0.0, inplace=False)\n",
       "                (fc2): Linear(in_features=3072, out_features=768, bias=True)\n",
       "                (drop2): Dropout(p=0.0, inplace=False)\n",
       "              )\n",
       "              (drop_path): Identity()\n",
       "            )\n",
       "            (1): ConvNeXtBlock(\n",
       "              (conv_dw): Conv2d(768, 768, kernel_size=(7, 7), stride=(1, 1), padding=(3, 3), groups=768)\n",
       "              (norm): LayerNorm((768,), eps=1e-06, elementwise_affine=True)\n",
       "              (mlp): Mlp(\n",
       "                (fc1): Linear(in_features=768, out_features=3072, bias=True)\n",
       "                (act): GELU()\n",
       "                (drop1): Dropout(p=0.0, inplace=False)\n",
       "                (fc2): Linear(in_features=3072, out_features=768, bias=True)\n",
       "                (drop2): Dropout(p=0.0, inplace=False)\n",
       "              )\n",
       "              (drop_path): Identity()\n",
       "            )\n",
       "            (2): ConvNeXtBlock(\n",
       "              (conv_dw): Conv2d(768, 768, kernel_size=(7, 7), stride=(1, 1), padding=(3, 3), groups=768)\n",
       "              (norm): LayerNorm((768,), eps=1e-06, elementwise_affine=True)\n",
       "              (mlp): Mlp(\n",
       "                (fc1): Linear(in_features=768, out_features=3072, bias=True)\n",
       "                (act): GELU()\n",
       "                (drop1): Dropout(p=0.0, inplace=False)\n",
       "                (fc2): Linear(in_features=3072, out_features=768, bias=True)\n",
       "                (drop2): Dropout(p=0.0, inplace=False)\n",
       "              )\n",
       "              (drop_path): Identity()\n",
       "            )\n",
       "          )\n",
       "        )\n",
       "      )\n",
       "      (norm_pre): Identity()\n",
       "      (head): Sequential(\n",
       "        (global_pool): SelectAdaptivePool2d (pool_type=avg, flatten=Identity())\n",
       "        (norm): LayerNorm2d((768,), eps=1e-06, elementwise_affine=True)\n",
       "        (flatten): Flatten(start_dim=1, end_dim=-1)\n",
       "        (drop): Dropout(p=0.0, inplace=False)\n",
       "        (fc): Identity()\n",
       "      )\n",
       "    )\n",
       "  )\n",
       "  (1): Sequential(\n",
       "    (0): AdaptiveConcatPool2d(\n",
       "      (ap): AdaptiveAvgPool2d(output_size=1)\n",
       "      (mp): AdaptiveMaxPool2d(output_size=1)\n",
       "    )\n",
       "    (1): Flatten(full=False)\n",
       "    (2): BatchNorm1d(1536, eps=1e-05, momentum=0.1, affine=True, track_running_stats=True)\n",
       "    (3): Dropout(p=0.25, inplace=False)\n",
       "    (4): Linear(in_features=1536, out_features=512, bias=False)\n",
       "    (5): ReLU(inplace=True)\n",
       "    (6): BatchNorm1d(512, eps=1e-05, momentum=0.1, affine=True, track_running_stats=True)\n",
       "    (7): Dropout(p=0.5, inplace=False)\n",
       "    (8): Linear(in_features=512, out_features=10, bias=False)\n",
       "  )\n",
       ")"
      ]
     },
     "execution_count": 11,
     "metadata": {},
     "output_type": "execute_result"
    }
   ],
   "source": [
    "m = learn.model\n",
    "m"
   ]
  },
  {
   "cell_type": "code",
   "execution_count": 12,
   "id": "35b50e7d",
   "metadata": {},
   "outputs": [
    {
     "data": {
      "text/html": [
       "\n",
       "<style>\n",
       "    /* Turns off some styling */\n",
       "    progress {\n",
       "        /* gets rid of default border in Firefox and Opera. */\n",
       "        border: none;\n",
       "        /* Needs to be in here for Safari polyfill so background images work as expected. */\n",
       "        background-size: auto;\n",
       "    }\n",
       "    .progress-bar-interrupted, .progress-bar-interrupted::-webkit-progress-bar {\n",
       "        background: #F44336;\n",
       "    }\n",
       "</style>\n"
      ],
      "text/plain": [
       "<IPython.core.display.HTML object>"
      ]
     },
     "metadata": {},
     "output_type": "display_data"
    },
    {
     "data": {
      "text/html": [],
      "text/plain": [
       "<IPython.core.display.HTML object>"
      ]
     },
     "metadata": {},
     "output_type": "display_data"
    },
    {
     "data": {
      "text/plain": [
       "Sequential (Input shape: 32 x 3 x 224 x 224)\n",
       "============================================================================\n",
       "Layer (type)         Output Shape         Param #    Trainable \n",
       "============================================================================\n",
       "                     32 x 96 x 56 x 56   \n",
       "Conv2d                                    4704       True      \n",
       "LayerNorm2d                               192        True      \n",
       "Identity                                                       \n",
       "Conv2d                                    4800       True      \n",
       "LayerNorm                                 192        True      \n",
       "____________________________________________________________________________\n",
       "                     32 x 56 x 56 x 384  \n",
       "Linear                                    37248      True      \n",
       "GELU                                                           \n",
       "Dropout                                                        \n",
       "____________________________________________________________________________\n",
       "                     32 x 56 x 56 x 96   \n",
       "Linear                                    36960      True      \n",
       "Dropout                                                        \n",
       "Identity                                                       \n",
       "Conv2d                                    4800       True      \n",
       "LayerNorm                                 192        True      \n",
       "____________________________________________________________________________\n",
       "                     32 x 56 x 56 x 384  \n",
       "Linear                                    37248      True      \n",
       "GELU                                                           \n",
       "Dropout                                                        \n",
       "____________________________________________________________________________\n",
       "                     32 x 56 x 56 x 96   \n",
       "Linear                                    36960      True      \n",
       "Dropout                                                        \n",
       "Identity                                                       \n",
       "Conv2d                                    4800       True      \n",
       "LayerNorm                                 192        True      \n",
       "____________________________________________________________________________\n",
       "                     32 x 56 x 56 x 384  \n",
       "Linear                                    37248      True      \n",
       "GELU                                                           \n",
       "Dropout                                                        \n",
       "____________________________________________________________________________\n",
       "                     32 x 56 x 56 x 96   \n",
       "Linear                                    36960      True      \n",
       "Dropout                                                        \n",
       "Identity                                                       \n",
       "LayerNorm2d                               192        True      \n",
       "____________________________________________________________________________\n",
       "                     32 x 192 x 28 x 28  \n",
       "Conv2d                                    73920      True      \n",
       "Conv2d                                    9600       True      \n",
       "LayerNorm                                 384        True      \n",
       "____________________________________________________________________________\n",
       "                     32 x 28 x 28 x 768  \n",
       "Linear                                    148224     True      \n",
       "GELU                                                           \n",
       "Dropout                                                        \n",
       "____________________________________________________________________________\n",
       "                     32 x 28 x 28 x 192  \n",
       "Linear                                    147648     True      \n",
       "Dropout                                                        \n",
       "Identity                                                       \n",
       "Conv2d                                    9600       True      \n",
       "LayerNorm                                 384        True      \n",
       "____________________________________________________________________________\n",
       "                     32 x 28 x 28 x 768  \n",
       "Linear                                    148224     True      \n",
       "GELU                                                           \n",
       "Dropout                                                        \n",
       "____________________________________________________________________________\n",
       "                     32 x 28 x 28 x 192  \n",
       "Linear                                    147648     True      \n",
       "Dropout                                                        \n",
       "Identity                                                       \n",
       "Conv2d                                    9600       True      \n",
       "LayerNorm                                 384        True      \n",
       "____________________________________________________________________________\n",
       "                     32 x 28 x 28 x 768  \n",
       "Linear                                    148224     True      \n",
       "GELU                                                           \n",
       "Dropout                                                        \n",
       "____________________________________________________________________________\n",
       "                     32 x 28 x 28 x 192  \n",
       "Linear                                    147648     True      \n",
       "Dropout                                                        \n",
       "Identity                                                       \n",
       "LayerNorm2d                               384        True      \n",
       "____________________________________________________________________________\n",
       "                     32 x 384 x 14 x 14  \n",
       "Conv2d                                    295296     True      \n",
       "Conv2d                                    19200      True      \n",
       "LayerNorm                                 768        True      \n",
       "____________________________________________________________________________\n",
       "                     32 x 14 x 14 x 1536 \n",
       "Linear                                    591360     True      \n",
       "GELU                                                           \n",
       "Dropout                                                        \n",
       "____________________________________________________________________________\n",
       "                     32 x 14 x 14 x 384  \n",
       "Linear                                    590208     True      \n",
       "Dropout                                                        \n",
       "Identity                                                       \n",
       "Conv2d                                    19200      True      \n",
       "LayerNorm                                 768        True      \n",
       "____________________________________________________________________________\n",
       "                     32 x 14 x 14 x 1536 \n",
       "Linear                                    591360     True      \n",
       "GELU                                                           \n",
       "Dropout                                                        \n",
       "____________________________________________________________________________\n",
       "                     32 x 14 x 14 x 384  \n",
       "Linear                                    590208     True      \n",
       "Dropout                                                        \n",
       "Identity                                                       \n",
       "Conv2d                                    19200      True      \n",
       "LayerNorm                                 768        True      \n",
       "____________________________________________________________________________\n",
       "                     32 x 14 x 14 x 1536 \n",
       "Linear                                    591360     True      \n",
       "GELU                                                           \n",
       "Dropout                                                        \n",
       "____________________________________________________________________________\n",
       "                     32 x 14 x 14 x 384  \n",
       "Linear                                    590208     True      \n",
       "Dropout                                                        \n",
       "Identity                                                       \n",
       "Conv2d                                    19200      True      \n",
       "LayerNorm                                 768        True      \n",
       "____________________________________________________________________________\n",
       "                     32 x 14 x 14 x 1536 \n",
       "Linear                                    591360     True      \n",
       "GELU                                                           \n",
       "Dropout                                                        \n",
       "____________________________________________________________________________\n",
       "                     32 x 14 x 14 x 384  \n",
       "Linear                                    590208     True      \n",
       "Dropout                                                        \n",
       "Identity                                                       \n",
       "Conv2d                                    19200      True      \n",
       "LayerNorm                                 768        True      \n",
       "____________________________________________________________________________\n",
       "                     32 x 14 x 14 x 1536 \n",
       "Linear                                    591360     True      \n",
       "GELU                                                           \n",
       "Dropout                                                        \n",
       "____________________________________________________________________________\n",
       "                     32 x 14 x 14 x 384  \n",
       "Linear                                    590208     True      \n",
       "Dropout                                                        \n",
       "Identity                                                       \n",
       "Conv2d                                    19200      True      \n",
       "LayerNorm                                 768        True      \n",
       "____________________________________________________________________________\n",
       "                     32 x 14 x 14 x 1536 \n",
       "Linear                                    591360     True      \n",
       "GELU                                                           \n",
       "Dropout                                                        \n",
       "____________________________________________________________________________\n",
       "                     32 x 14 x 14 x 384  \n",
       "Linear                                    590208     True      \n",
       "Dropout                                                        \n",
       "Identity                                                       \n",
       "Conv2d                                    19200      True      \n",
       "LayerNorm                                 768        True      \n",
       "____________________________________________________________________________\n",
       "                     32 x 14 x 14 x 1536 \n",
       "Linear                                    591360     True      \n",
       "GELU                                                           \n",
       "Dropout                                                        \n",
       "____________________________________________________________________________\n",
       "                     32 x 14 x 14 x 384  \n",
       "Linear                                    590208     True      \n",
       "Dropout                                                        \n",
       "Identity                                                       \n",
       "Conv2d                                    19200      True      \n",
       "LayerNorm                                 768        True      \n",
       "____________________________________________________________________________\n",
       "                     32 x 14 x 14 x 1536 \n",
       "Linear                                    591360     True      \n",
       "GELU                                                           \n",
       "Dropout                                                        \n",
       "____________________________________________________________________________\n",
       "                     32 x 14 x 14 x 384  \n",
       "Linear                                    590208     True      \n",
       "Dropout                                                        \n",
       "Identity                                                       \n",
       "Conv2d                                    19200      True      \n",
       "LayerNorm                                 768        True      \n",
       "____________________________________________________________________________\n",
       "                     32 x 14 x 14 x 1536 \n",
       "Linear                                    591360     True      \n",
       "GELU                                                           \n",
       "Dropout                                                        \n",
       "____________________________________________________________________________\n",
       "                     32 x 14 x 14 x 384  \n",
       "Linear                                    590208     True      \n",
       "Dropout                                                        \n",
       "Identity                                                       \n",
       "LayerNorm2d                               768        True      \n",
       "____________________________________________________________________________\n",
       "                     32 x 768 x 7 x 7    \n",
       "Conv2d                                    1180416    True      \n",
       "Conv2d                                    38400      True      \n",
       "LayerNorm                                 1536       True      \n",
       "____________________________________________________________________________\n",
       "                     32 x 7 x 7 x 3072   \n",
       "Linear                                    2362368    True      \n",
       "GELU                                                           \n",
       "Dropout                                                        \n",
       "____________________________________________________________________________\n",
       "                     32 x 7 x 7 x 768    \n",
       "Linear                                    2360064    True      \n",
       "Dropout                                                        \n",
       "Identity                                                       \n",
       "Conv2d                                    38400      True      \n",
       "LayerNorm                                 1536       True      \n",
       "____________________________________________________________________________\n",
       "                     32 x 7 x 7 x 3072   \n",
       "Linear                                    2362368    True      \n",
       "GELU                                                           \n",
       "Dropout                                                        \n",
       "____________________________________________________________________________\n",
       "                     32 x 7 x 7 x 768    \n",
       "Linear                                    2360064    True      \n",
       "Dropout                                                        \n",
       "Identity                                                       \n",
       "Conv2d                                    38400      True      \n",
       "LayerNorm                                 1536       True      \n",
       "____________________________________________________________________________\n",
       "                     32 x 7 x 7 x 3072   \n",
       "Linear                                    2362368    True      \n",
       "GELU                                                           \n",
       "Dropout                                                        \n",
       "____________________________________________________________________________\n",
       "                     32 x 7 x 7 x 768    \n",
       "Linear                                    2360064    True      \n",
       "Dropout                                                        \n",
       "Identity                                                       \n",
       "Identity                                                       \n",
       "____________________________________________________________________________\n",
       "                     32 x 768 x 1 x 1    \n",
       "AdaptiveAvgPool2d                                              \n",
       "AdaptiveMaxPool2d                                              \n",
       "____________________________________________________________________________\n",
       "                     32 x 1536           \n",
       "Flatten                                                        \n",
       "BatchNorm1d                               3072       True      \n",
       "Dropout                                                        \n",
       "____________________________________________________________________________\n",
       "                     32 x 512            \n",
       "Linear                                    786432     True      \n",
       "ReLU                                                           \n",
       "BatchNorm1d                               1024       True      \n",
       "Dropout                                                        \n",
       "____________________________________________________________________________\n",
       "                     32 x 10             \n",
       "Linear                                    5120       True      \n",
       "____________________________________________________________________________\n",
       "\n",
       "Total params: 28,607,616\n",
       "Total trainable params: 28,607,616\n",
       "Total non-trainable params: 0\n",
       "\n",
       "Optimizer used: <function Adam at 0x7efedd3dc9d0>\n",
       "Loss function: FlattenedLoss of CrossEntropyLoss()\n",
       "\n",
       "Model unfrozen\n",
       "\n",
       "Callbacks:\n",
       "  - TrainEvalCallback\n",
       "  - GradientAccumulation\n",
       "  - MixedPrecision\n",
       "  - Recorder\n",
       "  - ProgressCallback"
      ]
     },
     "execution_count": 12,
     "metadata": {},
     "output_type": "execute_result"
    }
   ],
   "source": [
    "learn.summary()"
   ]
  },
  {
   "cell_type": "code",
   "execution_count": 13,
   "id": "ac0b2325",
   "metadata": {},
   "outputs": [],
   "source": [
    "h = m[1]"
   ]
  },
  {
   "cell_type": "code",
   "execution_count": 14,
   "id": "9e2da498",
   "metadata": {},
   "outputs": [
    {
     "data": {
      "text/plain": [
       "Sequential(\n",
       "  (0): AdaptiveConcatPool2d(\n",
       "    (ap): AdaptiveAvgPool2d(output_size=1)\n",
       "    (mp): AdaptiveMaxPool2d(output_size=1)\n",
       "  )\n",
       "  (1): Flatten(full=False)\n",
       "  (2): BatchNorm1d(1536, eps=1e-05, momentum=0.1, affine=True, track_running_stats=True)\n",
       "  (3): Dropout(p=0.25, inplace=False)\n",
       "  (4): Linear(in_features=1536, out_features=512, bias=False)\n",
       "  (5): ReLU(inplace=True)\n",
       "  (6): BatchNorm1d(512, eps=1e-05, momentum=0.1, affine=True, track_running_stats=True)\n",
       "  (7): Dropout(p=0.5, inplace=False)\n",
       "  (8): Linear(in_features=512, out_features=10, bias=False)\n",
       ")"
      ]
     },
     "execution_count": 14,
     "metadata": {},
     "output_type": "execute_result"
    }
   ],
   "source": [
    "h"
   ]
  },
  {
   "cell_type": "code",
   "execution_count": 15,
   "id": "2c653ff3",
   "metadata": {},
   "outputs": [
    {
     "data": {
      "text/plain": [
       "Linear(in_features=512, out_features=10, bias=False)"
      ]
     },
     "execution_count": 15,
     "metadata": {},
     "output_type": "execute_result"
    }
   ],
   "source": [
    "h[-1]"
   ]
  },
  {
   "cell_type": "code",
   "execution_count": 20,
   "id": "c4574995",
   "metadata": {},
   "outputs": [],
   "source": [
    "curr_loss = learn2.loss_func"
   ]
  },
  {
   "cell_type": "code",
   "execution_count": 21,
   "id": "506ac0ea",
   "metadata": {},
   "outputs": [],
   "source": [
    "def dtc_loss(preds, targs):\n",
    "    rice_preds, dis_preds = preds\n",
    "    return curr_loss(dis_preds, targs)"
   ]
  },
  {
   "cell_type": "code",
   "execution_count": 16,
   "id": "39d88128",
   "metadata": {},
   "outputs": [],
   "source": [
    "class DiseaseAndTypeClassifier(nn.Module):\n",
    "    \n",
    "    def __init__(self, m):\n",
    "        super().__init__()\n",
    "        self.l1 = nn.Linear(512, 10, bias=False) # Rice Type\n",
    "        self.l2 = nn.Linear(512, 10, bias=False) # Disease\n",
    "        del(m[1][-1])\n",
    "        self.m = m\n",
    "    \n",
    "    def forward(self, x):\n",
    "        x = self.m(x)\n",
    "        x1 = self.l1(x)\n",
    "        x2 = self.l2(x)\n",
    "        return x1, x2"
   ]
  },
  {
   "cell_type": "code",
   "execution_count": 17,
   "id": "f2955a85",
   "metadata": {},
   "outputs": [],
   "source": [
    "learn2 = deepcopy(learn)\n",
    "dtc = DiseaseAndTypeClassifier(learn2.model)\n"
   ]
  },
  {
   "cell_type": "code",
   "execution_count": 18,
   "id": "0f30e72c",
   "metadata": {},
   "outputs": [],
   "source": [
    "learn2.model = dtc\n",
    "learn2.loss_func = dtc_loss"
   ]
  },
  {
   "cell_type": "code",
   "execution_count": 19,
   "id": "d5ee72d6",
   "metadata": {},
   "outputs": [
    {
     "data": {
      "text/html": [
       "\n",
       "<style>\n",
       "    /* Turns off some styling */\n",
       "    progress {\n",
       "        /* gets rid of default border in Firefox and Opera. */\n",
       "        border: none;\n",
       "        /* Needs to be in here for Safari polyfill so background images work as expected. */\n",
       "        background-size: auto;\n",
       "    }\n",
       "    .progress-bar-interrupted, .progress-bar-interrupted::-webkit-progress-bar {\n",
       "        background: #F44336;\n",
       "    }\n",
       "</style>\n"
      ],
      "text/plain": [
       "<IPython.core.display.HTML object>"
      ]
     },
     "metadata": {},
     "output_type": "display_data"
    },
    {
     "data": {
      "text/html": [
       "\n",
       "    <div>\n",
       "      <progress value='0' class='' max='66' style='width:300px; height:20px; vertical-align: middle;'></progress>\n",
       "      0.00% [0/66 00:00<00:00]\n",
       "    </div>\n",
       "    "
      ],
      "text/plain": [
       "<IPython.core.display.HTML object>"
      ]
     },
     "metadata": {},
     "output_type": "display_data"
    },
    {
     "ename": "AttributeError",
     "evalue": "'tuple' object has no attribute 'view'",
     "output_type": "error",
     "traceback": [
      "\u001b[0;31m---------------------------------------------------------------------------\u001b[0m",
      "\u001b[0;31mAttributeError\u001b[0m                            Traceback (most recent call last)",
      "Input \u001b[0;32mIn [19]\u001b[0m, in \u001b[0;36m<cell line: 1>\u001b[0;34m()\u001b[0m\n\u001b[0;32m----> 1\u001b[0m preds, targs \u001b[38;5;241m=\u001b[39m \u001b[43mlearn2\u001b[49m\u001b[38;5;241;43m.\u001b[39;49m\u001b[43mget_preds\u001b[49m\u001b[43m(\u001b[49m\u001b[43mdl\u001b[49m\u001b[38;5;241;43m=\u001b[39;49m\u001b[43mlearn2\u001b[49m\u001b[38;5;241;43m.\u001b[39;49m\u001b[43mdls\u001b[49m\u001b[38;5;241;43m.\u001b[39;49m\u001b[43mvalid\u001b[49m\u001b[43m)\u001b[49m\n",
      "File \u001b[0;32m~/mambaforge/envs/fastaiv3/lib/python3.9/site-packages/fastai/learner.py:256\u001b[0m, in \u001b[0;36mLearner.get_preds\u001b[0;34m(self, ds_idx, dl, with_input, with_decoded, with_loss, act, inner, reorder, cbs, **kwargs)\u001b[0m\n\u001b[1;32m    254\u001b[0m \u001b[38;5;28;01mif\u001b[39;00m with_loss: ctx_mgrs\u001b[38;5;241m.\u001b[39mappend(\u001b[38;5;28mself\u001b[39m\u001b[38;5;241m.\u001b[39mloss_not_reduced())\n\u001b[1;32m    255\u001b[0m \u001b[38;5;28;01mwith\u001b[39;00m ContextManagers(ctx_mgrs):\n\u001b[0;32m--> 256\u001b[0m     \u001b[38;5;28;43mself\u001b[39;49m\u001b[38;5;241;43m.\u001b[39;49m\u001b[43m_do_epoch_validate\u001b[49m\u001b[43m(\u001b[49m\u001b[43mdl\u001b[49m\u001b[38;5;241;43m=\u001b[39;49m\u001b[43mdl\u001b[49m\u001b[43m)\u001b[49m\n\u001b[1;32m    257\u001b[0m     \u001b[38;5;28;01mif\u001b[39;00m act \u001b[38;5;129;01mis\u001b[39;00m \u001b[38;5;28;01mNone\u001b[39;00m: act \u001b[38;5;241m=\u001b[39m \u001b[38;5;28mgetattr\u001b[39m(\u001b[38;5;28mself\u001b[39m\u001b[38;5;241m.\u001b[39mloss_func, \u001b[38;5;124m'\u001b[39m\u001b[38;5;124mactivation\u001b[39m\u001b[38;5;124m'\u001b[39m, noop)\n\u001b[1;32m    258\u001b[0m     res \u001b[38;5;241m=\u001b[39m cb\u001b[38;5;241m.\u001b[39mall_tensors()\n",
      "File \u001b[0;32m~/mambaforge/envs/fastaiv3/lib/python3.9/site-packages/fastai/learner.py:204\u001b[0m, in \u001b[0;36mLearner._do_epoch_validate\u001b[0;34m(self, ds_idx, dl)\u001b[0m\n\u001b[1;32m    202\u001b[0m \u001b[38;5;28;01mif\u001b[39;00m dl \u001b[38;5;129;01mis\u001b[39;00m \u001b[38;5;28;01mNone\u001b[39;00m: dl \u001b[38;5;241m=\u001b[39m \u001b[38;5;28mself\u001b[39m\u001b[38;5;241m.\u001b[39mdls[ds_idx]\n\u001b[1;32m    203\u001b[0m \u001b[38;5;28mself\u001b[39m\u001b[38;5;241m.\u001b[39mdl \u001b[38;5;241m=\u001b[39m dl\n\u001b[0;32m--> 204\u001b[0m \u001b[38;5;28;01mwith\u001b[39;00m torch\u001b[38;5;241m.\u001b[39mno_grad(): \u001b[38;5;28;43mself\u001b[39;49m\u001b[38;5;241;43m.\u001b[39;49m\u001b[43m_with_events\u001b[49m\u001b[43m(\u001b[49m\u001b[38;5;28;43mself\u001b[39;49m\u001b[38;5;241;43m.\u001b[39;49m\u001b[43mall_batches\u001b[49m\u001b[43m,\u001b[49m\u001b[43m \u001b[49m\u001b[38;5;124;43m'\u001b[39;49m\u001b[38;5;124;43mvalidate\u001b[39;49m\u001b[38;5;124;43m'\u001b[39;49m\u001b[43m,\u001b[49m\u001b[43m \u001b[49m\u001b[43mCancelValidException\u001b[49m\u001b[43m)\u001b[49m\n",
      "File \u001b[0;32m~/mambaforge/envs/fastaiv3/lib/python3.9/site-packages/fastai/learner.py:164\u001b[0m, in \u001b[0;36mLearner._with_events\u001b[0;34m(self, f, event_type, ex, final)\u001b[0m\n\u001b[1;32m    163\u001b[0m \u001b[38;5;28;01mdef\u001b[39;00m \u001b[38;5;21m_with_events\u001b[39m(\u001b[38;5;28mself\u001b[39m, f, event_type, ex, final\u001b[38;5;241m=\u001b[39mnoop):\n\u001b[0;32m--> 164\u001b[0m     \u001b[38;5;28;01mtry\u001b[39;00m: \u001b[38;5;28mself\u001b[39m(\u001b[38;5;124mf\u001b[39m\u001b[38;5;124m'\u001b[39m\u001b[38;5;124mbefore_\u001b[39m\u001b[38;5;132;01m{\u001b[39;00mevent_type\u001b[38;5;132;01m}\u001b[39;00m\u001b[38;5;124m'\u001b[39m);  \u001b[43mf\u001b[49m\u001b[43m(\u001b[49m\u001b[43m)\u001b[49m\n\u001b[1;32m    165\u001b[0m     \u001b[38;5;28;01mexcept\u001b[39;00m ex: \u001b[38;5;28mself\u001b[39m(\u001b[38;5;124mf\u001b[39m\u001b[38;5;124m'\u001b[39m\u001b[38;5;124mafter_cancel_\u001b[39m\u001b[38;5;132;01m{\u001b[39;00mevent_type\u001b[38;5;132;01m}\u001b[39;00m\u001b[38;5;124m'\u001b[39m)\n\u001b[1;32m    166\u001b[0m     \u001b[38;5;28mself\u001b[39m(\u001b[38;5;124mf\u001b[39m\u001b[38;5;124m'\u001b[39m\u001b[38;5;124mafter_\u001b[39m\u001b[38;5;132;01m{\u001b[39;00mevent_type\u001b[38;5;132;01m}\u001b[39;00m\u001b[38;5;124m'\u001b[39m);  final()\n",
      "File \u001b[0;32m~/mambaforge/envs/fastaiv3/lib/python3.9/site-packages/fastai/learner.py:170\u001b[0m, in \u001b[0;36mLearner.all_batches\u001b[0;34m(self)\u001b[0m\n\u001b[1;32m    168\u001b[0m \u001b[38;5;28;01mdef\u001b[39;00m \u001b[38;5;21mall_batches\u001b[39m(\u001b[38;5;28mself\u001b[39m):\n\u001b[1;32m    169\u001b[0m     \u001b[38;5;28mself\u001b[39m\u001b[38;5;241m.\u001b[39mn_iter \u001b[38;5;241m=\u001b[39m \u001b[38;5;28mlen\u001b[39m(\u001b[38;5;28mself\u001b[39m\u001b[38;5;241m.\u001b[39mdl)\n\u001b[0;32m--> 170\u001b[0m     \u001b[38;5;28;01mfor\u001b[39;00m o \u001b[38;5;129;01min\u001b[39;00m \u001b[38;5;28menumerate\u001b[39m(\u001b[38;5;28mself\u001b[39m\u001b[38;5;241m.\u001b[39mdl): \u001b[38;5;28;43mself\u001b[39;49m\u001b[38;5;241;43m.\u001b[39;49m\u001b[43mone_batch\u001b[49m\u001b[43m(\u001b[49m\u001b[38;5;241;43m*\u001b[39;49m\u001b[43mo\u001b[49m\u001b[43m)\u001b[49m\n",
      "File \u001b[0;32m~/mambaforge/envs/fastaiv3/lib/python3.9/site-packages/fastai/learner.py:195\u001b[0m, in \u001b[0;36mLearner.one_batch\u001b[0;34m(self, i, b)\u001b[0m\n\u001b[1;32m    193\u001b[0m b \u001b[38;5;241m=\u001b[39m \u001b[38;5;28mself\u001b[39m\u001b[38;5;241m.\u001b[39m_set_device(b)\n\u001b[1;32m    194\u001b[0m \u001b[38;5;28mself\u001b[39m\u001b[38;5;241m.\u001b[39m_split(b)\n\u001b[0;32m--> 195\u001b[0m \u001b[38;5;28;43mself\u001b[39;49m\u001b[38;5;241;43m.\u001b[39;49m\u001b[43m_with_events\u001b[49m\u001b[43m(\u001b[49m\u001b[38;5;28;43mself\u001b[39;49m\u001b[38;5;241;43m.\u001b[39;49m\u001b[43m_do_one_batch\u001b[49m\u001b[43m,\u001b[49m\u001b[43m \u001b[49m\u001b[38;5;124;43m'\u001b[39;49m\u001b[38;5;124;43mbatch\u001b[39;49m\u001b[38;5;124;43m'\u001b[39;49m\u001b[43m,\u001b[49m\u001b[43m \u001b[49m\u001b[43mCancelBatchException\u001b[49m\u001b[43m)\u001b[49m\n",
      "File \u001b[0;32m~/mambaforge/envs/fastaiv3/lib/python3.9/site-packages/fastai/learner.py:164\u001b[0m, in \u001b[0;36mLearner._with_events\u001b[0;34m(self, f, event_type, ex, final)\u001b[0m\n\u001b[1;32m    163\u001b[0m \u001b[38;5;28;01mdef\u001b[39;00m \u001b[38;5;21m_with_events\u001b[39m(\u001b[38;5;28mself\u001b[39m, f, event_type, ex, final\u001b[38;5;241m=\u001b[39mnoop):\n\u001b[0;32m--> 164\u001b[0m     \u001b[38;5;28;01mtry\u001b[39;00m: \u001b[38;5;28mself\u001b[39m(\u001b[38;5;124mf\u001b[39m\u001b[38;5;124m'\u001b[39m\u001b[38;5;124mbefore_\u001b[39m\u001b[38;5;132;01m{\u001b[39;00mevent_type\u001b[38;5;132;01m}\u001b[39;00m\u001b[38;5;124m'\u001b[39m);  \u001b[43mf\u001b[49m\u001b[43m(\u001b[49m\u001b[43m)\u001b[49m\n\u001b[1;32m    165\u001b[0m     \u001b[38;5;28;01mexcept\u001b[39;00m ex: \u001b[38;5;28mself\u001b[39m(\u001b[38;5;124mf\u001b[39m\u001b[38;5;124m'\u001b[39m\u001b[38;5;124mafter_cancel_\u001b[39m\u001b[38;5;132;01m{\u001b[39;00mevent_type\u001b[38;5;132;01m}\u001b[39;00m\u001b[38;5;124m'\u001b[39m)\n\u001b[1;32m    166\u001b[0m     \u001b[38;5;28mself\u001b[39m(\u001b[38;5;124mf\u001b[39m\u001b[38;5;124m'\u001b[39m\u001b[38;5;124mafter_\u001b[39m\u001b[38;5;132;01m{\u001b[39;00mevent_type\u001b[38;5;132;01m}\u001b[39;00m\u001b[38;5;124m'\u001b[39m);  final()\n",
      "File \u001b[0;32m~/mambaforge/envs/fastaiv3/lib/python3.9/site-packages/fastai/learner.py:176\u001b[0m, in \u001b[0;36mLearner._do_one_batch\u001b[0;34m(self)\u001b[0m\n\u001b[1;32m    174\u001b[0m \u001b[38;5;28mself\u001b[39m(\u001b[38;5;124m'\u001b[39m\u001b[38;5;124mafter_pred\u001b[39m\u001b[38;5;124m'\u001b[39m)\n\u001b[1;32m    175\u001b[0m \u001b[38;5;28;01mif\u001b[39;00m \u001b[38;5;28mlen\u001b[39m(\u001b[38;5;28mself\u001b[39m\u001b[38;5;241m.\u001b[39myb):\n\u001b[0;32m--> 176\u001b[0m     \u001b[38;5;28mself\u001b[39m\u001b[38;5;241m.\u001b[39mloss_grad \u001b[38;5;241m=\u001b[39m \u001b[38;5;28;43mself\u001b[39;49m\u001b[38;5;241;43m.\u001b[39;49m\u001b[43mloss_func\u001b[49m\u001b[43m(\u001b[49m\u001b[38;5;28;43mself\u001b[39;49m\u001b[38;5;241;43m.\u001b[39;49m\u001b[43mpred\u001b[49m\u001b[43m,\u001b[49m\u001b[43m \u001b[49m\u001b[38;5;241;43m*\u001b[39;49m\u001b[38;5;28;43mself\u001b[39;49m\u001b[38;5;241;43m.\u001b[39;49m\u001b[43myb\u001b[49m\u001b[43m)\u001b[49m\n\u001b[1;32m    177\u001b[0m     \u001b[38;5;28mself\u001b[39m\u001b[38;5;241m.\u001b[39mloss \u001b[38;5;241m=\u001b[39m \u001b[38;5;28mself\u001b[39m\u001b[38;5;241m.\u001b[39mloss_grad\u001b[38;5;241m.\u001b[39mclone()\n\u001b[1;32m    178\u001b[0m \u001b[38;5;28mself\u001b[39m(\u001b[38;5;124m'\u001b[39m\u001b[38;5;124mafter_loss\u001b[39m\u001b[38;5;124m'\u001b[39m)\n",
      "File \u001b[0;32m~/mambaforge/envs/fastaiv3/lib/python3.9/site-packages/fastai/losses.py:34\u001b[0m, in \u001b[0;36mBaseLoss.__call__\u001b[0;34m(self, inp, targ, **kwargs)\u001b[0m\n\u001b[1;32m     32\u001b[0m \u001b[38;5;28;01mif\u001b[39;00m \u001b[38;5;28mself\u001b[39m\u001b[38;5;241m.\u001b[39mfloatify \u001b[38;5;129;01mand\u001b[39;00m targ\u001b[38;5;241m.\u001b[39mdtype\u001b[38;5;241m!=\u001b[39mtorch\u001b[38;5;241m.\u001b[39mfloat16: targ \u001b[38;5;241m=\u001b[39m targ\u001b[38;5;241m.\u001b[39mfloat()\n\u001b[1;32m     33\u001b[0m \u001b[38;5;28;01mif\u001b[39;00m targ\u001b[38;5;241m.\u001b[39mdtype \u001b[38;5;129;01min\u001b[39;00m [torch\u001b[38;5;241m.\u001b[39mint8, torch\u001b[38;5;241m.\u001b[39mint16, torch\u001b[38;5;241m.\u001b[39mint32]: targ \u001b[38;5;241m=\u001b[39m targ\u001b[38;5;241m.\u001b[39mlong()\n\u001b[0;32m---> 34\u001b[0m \u001b[38;5;28;01mif\u001b[39;00m \u001b[38;5;28mself\u001b[39m\u001b[38;5;241m.\u001b[39mflatten: inp \u001b[38;5;241m=\u001b[39m \u001b[43minp\u001b[49m\u001b[38;5;241;43m.\u001b[39;49m\u001b[43mview\u001b[49m(\u001b[38;5;241m-\u001b[39m\u001b[38;5;241m1\u001b[39m,inp\u001b[38;5;241m.\u001b[39mshape[\u001b[38;5;241m-\u001b[39m\u001b[38;5;241m1\u001b[39m]) \u001b[38;5;28;01mif\u001b[39;00m \u001b[38;5;28mself\u001b[39m\u001b[38;5;241m.\u001b[39mis_2d \u001b[38;5;28;01melse\u001b[39;00m inp\u001b[38;5;241m.\u001b[39mview(\u001b[38;5;241m-\u001b[39m\u001b[38;5;241m1\u001b[39m)\n\u001b[1;32m     35\u001b[0m \u001b[38;5;28;01mreturn\u001b[39;00m \u001b[38;5;28mself\u001b[39m\u001b[38;5;241m.\u001b[39mfunc\u001b[38;5;241m.\u001b[39m\u001b[38;5;21m__call__\u001b[39m(inp, targ\u001b[38;5;241m.\u001b[39mview(\u001b[38;5;241m-\u001b[39m\u001b[38;5;241m1\u001b[39m) \u001b[38;5;28;01mif\u001b[39;00m \u001b[38;5;28mself\u001b[39m\u001b[38;5;241m.\u001b[39mflatten \u001b[38;5;28;01melse\u001b[39;00m targ, \u001b[38;5;241m*\u001b[39m\u001b[38;5;241m*\u001b[39mkwargs)\n",
      "\u001b[0;31mAttributeError\u001b[0m: 'tuple' object has no attribute 'view'"
     ]
    }
   ],
   "source": [
    "preds, targs = learn2.get_preds(dl=learn2.dls.valid)"
   ]
  },
  {
   "cell_type": "markdown",
   "id": "57511ccd",
   "metadata": {},
   "source": [
    "Avoid metrics for now"
   ]
  },
  {
   "cell_type": "code",
   "execution_count": 23,
   "id": "dd514c26",
   "metadata": {},
   "outputs": [],
   "source": [
    "dls = ImageDataLoaders.from_folder(\n",
    "    train_path,\n",
    "    seed=42,\n",
    "    valid_pct=0.2,\n",
    "    item_tfms=item_tfms,\n",
    "    batch_tfms=batch_tfms,\n",
    ")"
   ]
  },
  {
   "cell_type": "code",
   "execution_count": 24,
   "id": "be8f9580",
   "metadata": {},
   "outputs": [],
   "source": [
    "learn = vision_learner(dls, arch)\n",
    "learn2 = deepcopy(learn)"
   ]
  },
  {
   "cell_type": "code",
   "execution_count": 25,
   "id": "702fd599",
   "metadata": {},
   "outputs": [],
   "source": [
    "dtc = DiseaseAndTypeClassifier(learn2.model)"
   ]
  },
  {
   "cell_type": "code",
   "execution_count": 26,
   "id": "4ec77b43",
   "metadata": {},
   "outputs": [],
   "source": [
    "learn2.model = dtc\n",
    "learn2.loss_func = dtc_loss"
   ]
  },
  {
   "cell_type": "code",
   "execution_count": 27,
   "id": "156f2178",
   "metadata": {},
   "outputs": [
    {
     "data": {
      "text/html": [
       "\n",
       "<style>\n",
       "    /* Turns off some styling */\n",
       "    progress {\n",
       "        /* gets rid of default border in Firefox and Opera. */\n",
       "        border: none;\n",
       "        /* Needs to be in here for Safari polyfill so background images work as expected. */\n",
       "        background-size: auto;\n",
       "    }\n",
       "    .progress-bar-interrupted, .progress-bar-interrupted::-webkit-progress-bar {\n",
       "        background: #F44336;\n",
       "    }\n",
       "</style>\n"
      ],
      "text/plain": [
       "<IPython.core.display.HTML object>"
      ]
     },
     "metadata": {},
     "output_type": "display_data"
    },
    {
     "data": {
      "text/html": [],
      "text/plain": [
       "<IPython.core.display.HTML object>"
      ]
     },
     "metadata": {},
     "output_type": "display_data"
    }
   ],
   "source": [
    "preds, targs = learn2.get_preds(dl=learn2.dls.valid)"
   ]
  },
  {
   "cell_type": "code",
   "execution_count": 29,
   "id": "d8e0aea4",
   "metadata": {},
   "outputs": [],
   "source": [
    "rice_preds, dis_preds = preds"
   ]
  },
  {
   "cell_type": "code",
   "execution_count": null,
   "id": "f6c9b03e",
   "metadata": {},
   "outputs": [],
   "source": []
  }
 ],
 "metadata": {
  "kernelspec": {
   "display_name": "Python 3 (ipykernel)",
   "language": "python",
   "name": "python3"
  },
  "language_info": {
   "codemirror_mode": {
    "name": "ipython",
    "version": 3
   },
   "file_extension": ".py",
   "mimetype": "text/x-python",
   "name": "python",
   "nbconvert_exporter": "python",
   "pygments_lexer": "ipython3",
   "version": "3.9.12"
  }
 },
 "nbformat": 4,
 "nbformat_minor": 5
}
