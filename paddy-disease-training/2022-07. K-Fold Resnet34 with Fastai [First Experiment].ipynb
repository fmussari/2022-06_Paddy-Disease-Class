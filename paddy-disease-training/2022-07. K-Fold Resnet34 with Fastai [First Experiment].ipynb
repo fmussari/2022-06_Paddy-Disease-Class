{
 "cells": [
  {
   "cell_type": "markdown",
   "id": "fb3d7fd9",
   "metadata": {},
   "source": [
    "## Weighted K-Fold Resnet34 with fast.ai"
   ]
  },
  {
   "cell_type": "markdown",
   "id": "f924ace3",
   "metadata": {},
   "source": [
    "- The first notebook of this experiment was a simple baseline using resnet34: [Fast Resnet34 with Fastai](https://www.kaggle.com/code/fmussari/fast-resnet34-with-fastai)  \n",
    "- In this Notebook we are going to explore that same simlpe model applying K-folding cross validation to see what happens.\n",
    "  \n"
   ]
  },
  {
   "cell_type": "markdown",
   "id": "6bf0a559",
   "metadata": {},
   "source": [
    "### Acknowledgements\n",
    "\n",
    "**fastai course:**\n",
    "- [Practical Deep Learning for Coders (a UQ collaboration with fast.ai)](https://itee.uq.edu.au/event/2022/practical-deep-learning-coders-uq-fastai)  \n",
    "\n",
    "**Jeremy's Notebook Series:**\n",
    "- [First Steps: Road to the Top, Part 1](https://www.kaggle.com/code/jhoward/first-steps-road-to-the-top-part-1)\n",
    "- [Small models: Road to the Top, Part 2](https://www.kaggle.com/code/jhoward/small-models-road-to-the-top-part-2)\n",
    "- [Scaling Up: Road to the Top, Part 3](https://www.kaggle.com/code/jhoward/scaling-up-road-to-the-top-part-3)\n",
    "- [Multi-target: Road to the Top, Part 4](https://www.kaggle.com/code/jhoward/multi-target-road-to-the-top-part-4)"
   ]
  },
  {
   "cell_type": "markdown",
   "id": "d147c310",
   "metadata": {},
   "source": [
    "### K-Fold"
   ]
  },
  {
   "cell_type": "markdown",
   "id": "a9c2521c",
   "metadata": {},
   "source": [
    "- K-Fold is a technique in which we divide our data in K parts. In this case we are going to divide the datased in 5.\n",
    "- We will do 5 trainings, each one with a different validation set (each time we take one fold for validation and the other four for training).\n",
    "- In this way you end up with 5 models trained in slightly different data, but with completely different validations.\n",
    "- We don't know wich of them is the best model, but we could assume that taking the mean of them would be the best for generalization.\n",
    "- We are going to use [KFold from sklearn](https://scikit-learn.org/stable/modules/generated/sklearn.model_selection.KFold.html)."
   ]
  },
  {
   "cell_type": "markdown",
   "id": "5669b70d",
   "metadata": {},
   "source": [
    "### Installing the libraries\n"
   ]
  },
  {
   "cell_type": "code",
   "execution_count": 4,
   "id": "517b2046",
   "metadata": {},
   "outputs": [],
   "source": [
    "# fastkaggle allows you to work locally and then submit the results and notebook to Kaggle\n",
    "\n",
    "try: import fastkaggle\n",
    "\n",
    "except ModuleNotFoundError:\n",
    "    !pip install -Uq fastkaggle\n",
    "\n",
    "from fastkaggle import *\n",
    "from sklearn.model_selection import KFold"
   ]
  },
  {
   "cell_type": "code",
   "execution_count": 6,
   "id": "ebdf9953",
   "metadata": {},
   "outputs": [],
   "source": [
    "competition = 'paddy-disease-classification'\n",
    "path = setup_comp(competition, install='fastai')\n",
    "\n",
    "from fastai.vision.all import *\n",
    "from scipy.special import softmax, log_softmax\n",
    "#set_seed(42)"
   ]
  },
  {
   "cell_type": "markdown",
   "id": "1f1bee84",
   "metadata": {},
   "source": [
    "### Setting data paths"
   ]
  },
  {
   "cell_type": "code",
   "execution_count": 3,
   "id": "3f9e401e",
   "metadata": {},
   "outputs": [],
   "source": [
    "# train images\n",
    "train_path = path / 'train_images'\n",
    "train_files = get_image_files(train_path)\n",
    "\n",
    "# test images\n",
    "test_path = path/'test_images'\n",
    "test_files = get_image_files(test_path).sorted()\n",
    "\n",
    "# sample submission\n",
    "sample_submission = pd.read_csv(path/'sample_submission.csv')\n",
    "\n",
    "# train labels\n",
    "train_df = pd.read_csv(path / 'train.csv')\n"
   ]
  },
  {
   "cell_type": "markdown",
   "id": "0f870b62",
   "metadata": {},
   "source": [
    "#### Lets see the target distribution"
   ]
  },
  {
   "cell_type": "code",
   "execution_count": 4,
   "id": "0cce85ac",
   "metadata": {},
   "outputs": [
    {
     "data": {
      "text/plain": [
       "normal                      1764\n",
       "blast                       1738\n",
       "hispa                       1594\n",
       "dead_heart                  1442\n",
       "tungro                      1088\n",
       "brown_spot                   965\n",
       "downy_mildew                 620\n",
       "bacterial_leaf_blight        479\n",
       "bacterial_leaf_streak        380\n",
       "bacterial_panicle_blight     337\n",
       "Name: label, dtype: int64"
      ]
     },
     "execution_count": 4,
     "metadata": {},
     "output_type": "execute_result"
    }
   ],
   "source": [
    "train_df.label.value_counts()"
   ]
  },
  {
   "cell_type": "markdown",
   "id": "a7d8c23c",
   "metadata": {},
   "source": [
    "### K-Fold\n",
    "- If we apply sklearn KFold to all of or dataset we could end up with 5 folds that don't have the same distribution by targets as our full dataset.\n",
    "- We could use [StratifiedKFold](https://scikit-learn.org/stable/modules/generated/sklearn.model_selection.StratifiedKFold.html#sklearn.model_selection.StratifiedKFold) instead to assure that each fold preserves the percentage of samples for each target class.\n",
    "- Or. We can apply K-Fold for each of the target classes. If we divide each class in 5 random samples, we are sure that at the end we are going to have the same distribution.\n",
    "- To keep track of which image belongs to what fold, we can create a field called `kfold` and initializa it with"
   ]
  },
  {
   "cell_type": "code",
   "execution_count": 6,
   "id": "f668b231",
   "metadata": {},
   "outputs": [],
   "source": [
    "train_df['kfold'] = -1\n",
    "\n",
    "# Number of Splits\n",
    "n_split=5\n",
    "\n",
    "fold = -1\n",
    "kfold = 1\n",
    "\n",
    "# For each label we are going to create 5 folds\n",
    "for i, label in enumerate(train_df.label.unique()):\n",
    "    \n",
    "    kf = KFold(\n",
    "        n_splits=n_split, \n",
    "        random_state=42+i, \n",
    "        shuffle=True\n",
    "    )\n",
    "    filter = train_df.label == label\n",
    "    # Indices for each label\n",
    "    label_idxs = train_df[filter].index\n",
    "    \n",
    "    # Creating folds for those indexes\n",
    "    kf.get_n_splits(label_idxs)\n",
    "    \n",
    "    fold *= -1\n",
    "    if kfold==n_split+1: kfold=n_split\n",
    "    if kfold==0: kfold=1\n",
    "\n",
    "    for _, valid_index in kf.split(label_idxs):\n",
    "    \n",
    "        df_index = label_idxs[valid_index]\n",
    "        train_df.loc[df_index, 'kfold'] = kfold\n",
    "        kfold += fold"
   ]
  },
  {
   "cell_type": "code",
   "execution_count": 7,
   "id": "b48b544b",
   "metadata": {},
   "outputs": [
    {
     "data": {
      "text/plain": [
       "4    2083\n",
       "3    2082\n",
       "5    2081\n",
       "2    2081\n",
       "1    2080\n",
       "Name: kfold, dtype: int64"
      ]
     },
     "execution_count": 7,
     "metadata": {},
     "output_type": "execute_result"
    }
   ],
   "source": [
    "train_df.kfold.value_counts()"
   ]
  },
  {
   "cell_type": "code",
   "execution_count": 9,
   "id": "81daa110",
   "metadata": {},
   "outputs": [
    {
     "data": {
      "text/html": [
       "<div>\n",
       "<style scoped>\n",
       "    .dataframe tbody tr th:only-of-type {\n",
       "        vertical-align: middle;\n",
       "    }\n",
       "\n",
       "    .dataframe tbody tr th {\n",
       "        vertical-align: top;\n",
       "    }\n",
       "\n",
       "    .dataframe thead th {\n",
       "        text-align: right;\n",
       "    }\n",
       "</style>\n",
       "<table border=\"1\" class=\"dataframe\">\n",
       "  <thead>\n",
       "    <tr style=\"text-align: right;\">\n",
       "      <th></th>\n",
       "      <th>image_id</th>\n",
       "      <th>label</th>\n",
       "      <th>variety</th>\n",
       "      <th>age</th>\n",
       "      <th>kfold</th>\n",
       "    </tr>\n",
       "  </thead>\n",
       "  <tbody>\n",
       "    <tr>\n",
       "      <th>192</th>\n",
       "      <td>107251.jpg</td>\n",
       "      <td>bacterial_leaf_blight</td>\n",
       "      <td>ADT45</td>\n",
       "      <td>60</td>\n",
       "      <td>2</td>\n",
       "    </tr>\n",
       "    <tr>\n",
       "      <th>3525</th>\n",
       "      <td>107270.jpg</td>\n",
       "      <td>brown_spot</td>\n",
       "      <td>ADT45</td>\n",
       "      <td>70</td>\n",
       "      <td>4</td>\n",
       "    </tr>\n",
       "    <tr>\n",
       "      <th>7183</th>\n",
       "      <td>105392.jpg</td>\n",
       "      <td>hispa</td>\n",
       "      <td>AtchayaPonni</td>\n",
       "      <td>65</td>\n",
       "      <td>3</td>\n",
       "    </tr>\n",
       "    <tr>\n",
       "      <th>5920</th>\n",
       "      <td>100725.jpg</td>\n",
       "      <td>downy_mildew</td>\n",
       "      <td>Zonal</td>\n",
       "      <td>55</td>\n",
       "      <td>2</td>\n",
       "    </tr>\n",
       "    <tr>\n",
       "      <th>193</th>\n",
       "      <td>108257.jpg</td>\n",
       "      <td>bacterial_leaf_blight</td>\n",
       "      <td>ADT45</td>\n",
       "      <td>60</td>\n",
       "      <td>2</td>\n",
       "    </tr>\n",
       "    <tr>\n",
       "      <th>3147</th>\n",
       "      <td>108557.jpg</td>\n",
       "      <td>brown_spot</td>\n",
       "      <td>ADT45</td>\n",
       "      <td>55</td>\n",
       "      <td>3</td>\n",
       "    </tr>\n",
       "    <tr>\n",
       "      <th>7801</th>\n",
       "      <td>100152.jpg</td>\n",
       "      <td>normal</td>\n",
       "      <td>ADT45</td>\n",
       "      <td>60</td>\n",
       "      <td>1</td>\n",
       "    </tr>\n",
       "    <tr>\n",
       "      <th>4108</th>\n",
       "      <td>100136.jpg</td>\n",
       "      <td>dead_heart</td>\n",
       "      <td>ADT45</td>\n",
       "      <td>70</td>\n",
       "      <td>4</td>\n",
       "    </tr>\n",
       "    <tr>\n",
       "      <th>2514</th>\n",
       "      <td>107002.jpg</td>\n",
       "      <td>blast</td>\n",
       "      <td>KarnatakaPonni</td>\n",
       "      <td>75</td>\n",
       "      <td>5</td>\n",
       "    </tr>\n",
       "    <tr>\n",
       "      <th>3433</th>\n",
       "      <td>104167.jpg</td>\n",
       "      <td>brown_spot</td>\n",
       "      <td>ADT45</td>\n",
       "      <td>70</td>\n",
       "      <td>4</td>\n",
       "    </tr>\n",
       "  </tbody>\n",
       "</table>\n",
       "</div>"
      ],
      "text/plain": [
       "        image_id                  label         variety  age  kfold\n",
       "192   107251.jpg  bacterial_leaf_blight           ADT45   60      2\n",
       "3525  107270.jpg             brown_spot           ADT45   70      4\n",
       "7183  105392.jpg                  hispa    AtchayaPonni   65      3\n",
       "5920  100725.jpg           downy_mildew           Zonal   55      2\n",
       "193   108257.jpg  bacterial_leaf_blight           ADT45   60      2\n",
       "3147  108557.jpg             brown_spot           ADT45   55      3\n",
       "7801  100152.jpg                 normal           ADT45   60      1\n",
       "4108  100136.jpg             dead_heart           ADT45   70      4\n",
       "2514  107002.jpg                  blast  KarnatakaPonni   75      5\n",
       "3433  104167.jpg             brown_spot           ADT45   70      4"
      ]
     },
     "execution_count": 9,
     "metadata": {},
     "output_type": "execute_result"
    }
   ],
   "source": [
    "train_df.sample(10)"
   ]
  },
  {
   "cell_type": "markdown",
   "id": "6683ef49",
   "metadata": {},
   "source": [
    "- Now we have a field that specifies the fold each image belongs to."
   ]
  },
  {
   "cell_type": "markdown",
   "id": "5b8c8d58",
   "metadata": {},
   "source": [
    "### Dataloaders for fastai training\n"
   ]
  },
  {
   "cell_type": "code",
   "execution_count": 10,
   "id": "da3bb977",
   "metadata": {},
   "outputs": [],
   "source": [
    "img2valid = []\n",
    "\n",
    "for fold in train_df.kfold.unique():\n",
    "    train_df['is_valid'] = False\n",
    "    idxs = train_df[train_df.kfold == fold].index\n",
    "    train_df.loc[idxs, 'is_valid'] = True\n",
    "    \n",
    "    img2valid.append({ r.image_id: r.is_valid for _, r in train_df.iterrows() })"
   ]
  },
  {
   "cell_type": "code",
   "execution_count": 11,
   "id": "df4549da",
   "metadata": {},
   "outputs": [
    {
     "data": {
      "text/plain": [
       "5"
      ]
     },
     "execution_count": 11,
     "metadata": {},
     "output_type": "execute_result"
    }
   ],
   "source": [
    "len(img2valid)"
   ]
  },
  {
   "cell_type": "code",
   "execution_count": 12,
   "id": "33cad584",
   "metadata": {},
   "outputs": [],
   "source": [
    "#def get_split(p):\n",
    "#    return img2valid[i_fold][p.name]"
   ]
  },
  {
   "cell_type": "code",
   "execution_count": 13,
   "id": "31a4e30c",
   "metadata": {},
   "outputs": [],
   "source": [
    "def custom_loss(inp, disease): \n",
    "        return F.cross_entropy(inp, disease, label_smoothing=label_smoothing)"
   ]
  },
  {
   "cell_type": "code",
   "execution_count": 14,
   "id": "7b90eb65",
   "metadata": {},
   "outputs": [],
   "source": [
    "def get_datablock(i_fold):\n",
    "    \n",
    "    def get_split(p):\n",
    "        return img2valid[i_fold][p.name]\n",
    "    \n",
    "    dblock = DataBlock(\n",
    "        blocks=(ImageBlock, CategoryBlock),\n",
    "        get_items=get_image_files,\n",
    "        get_y=parent_label,\n",
    "        # pass get_split function\n",
    "        splitter = FuncSplitter(get_split),\n",
    "        item_tfms=Resize(480, method='squish'),\n",
    "        batch_tfms=aug_transforms(size=224, min_scale=0.75)\n",
    "    )\n",
    "    return dblock.dataloaders(train_path)"
   ]
  },
  {
   "cell_type": "code",
   "execution_count": 15,
   "id": "fde5d367",
   "metadata": {},
   "outputs": [],
   "source": [
    "predictions = []\n",
    "tta_predictions = []"
   ]
  },
  {
   "cell_type": "markdown",
   "id": "96162125",
   "metadata": {},
   "source": [
    "### Train Fold 0"
   ]
  },
  {
   "cell_type": "code",
   "execution_count": 16,
   "id": "6861a440",
   "metadata": {},
   "outputs": [],
   "source": [
    "dls = get_datablock(i_fold=0)"
   ]
  },
  {
   "cell_type": "code",
   "execution_count": 17,
   "id": "243ee041",
   "metadata": {},
   "outputs": [],
   "source": [
    "label_smoothing = 0\n",
    "learn = vision_learner(dls, resnet34, metrics=error_rate, loss_func=custom_loss).to_fp16()"
   ]
  },
  {
   "cell_type": "code",
   "execution_count": 18,
   "id": "44938c64",
   "metadata": {
    "scrolled": true
   },
   "outputs": [
    {
     "data": {
      "text/html": [
       "\n",
       "<style>\n",
       "    /* Turns off some styling */\n",
       "    progress {\n",
       "        /* gets rid of default border in Firefox and Opera. */\n",
       "        border: none;\n",
       "        /* Needs to be in here for Safari polyfill so background images work as expected. */\n",
       "        background-size: auto;\n",
       "    }\n",
       "    .progress-bar-interrupted, .progress-bar-interrupted::-webkit-progress-bar {\n",
       "        background: #F44336;\n",
       "    }\n",
       "</style>\n"
      ],
      "text/plain": [
       "<IPython.core.display.HTML object>"
      ]
     },
     "metadata": {},
     "output_type": "display_data"
    },
    {
     "data": {
      "text/html": [
       "<table border=\"1\" class=\"dataframe\">\n",
       "  <thead>\n",
       "    <tr style=\"text-align: left;\">\n",
       "      <th>epoch</th>\n",
       "      <th>train_loss</th>\n",
       "      <th>valid_loss</th>\n",
       "      <th>error_rate</th>\n",
       "      <th>time</th>\n",
       "    </tr>\n",
       "  </thead>\n",
       "  <tbody>\n",
       "    <tr>\n",
       "      <td>0</td>\n",
       "      <td>1.776091</td>\n",
       "      <td>1.036593</td>\n",
       "      <td>0.338462</td>\n",
       "      <td>01:17</td>\n",
       "    </tr>\n",
       "  </tbody>\n",
       "</table>"
      ],
      "text/plain": [
       "<IPython.core.display.HTML object>"
      ]
     },
     "metadata": {},
     "output_type": "display_data"
    },
    {
     "data": {
      "text/html": [
       "\n",
       "<style>\n",
       "    /* Turns off some styling */\n",
       "    progress {\n",
       "        /* gets rid of default border in Firefox and Opera. */\n",
       "        border: none;\n",
       "        /* Needs to be in here for Safari polyfill so background images work as expected. */\n",
       "        background-size: auto;\n",
       "    }\n",
       "    .progress-bar-interrupted, .progress-bar-interrupted::-webkit-progress-bar {\n",
       "        background: #F44336;\n",
       "    }\n",
       "</style>\n"
      ],
      "text/plain": [
       "<IPython.core.display.HTML object>"
      ]
     },
     "metadata": {},
     "output_type": "display_data"
    },
    {
     "data": {
      "text/html": [
       "<table border=\"1\" class=\"dataframe\">\n",
       "  <thead>\n",
       "    <tr style=\"text-align: left;\">\n",
       "      <th>epoch</th>\n",
       "      <th>train_loss</th>\n",
       "      <th>valid_loss</th>\n",
       "      <th>error_rate</th>\n",
       "      <th>time</th>\n",
       "    </tr>\n",
       "  </thead>\n",
       "  <tbody>\n",
       "    <tr>\n",
       "      <td>0</td>\n",
       "      <td>0.730779</td>\n",
       "      <td>0.466977</td>\n",
       "      <td>0.156731</td>\n",
       "      <td>01:21</td>\n",
       "    </tr>\n",
       "    <tr>\n",
       "      <td>1</td>\n",
       "      <td>0.438077</td>\n",
       "      <td>0.310089</td>\n",
       "      <td>0.095673</td>\n",
       "      <td>01:19</td>\n",
       "    </tr>\n",
       "    <tr>\n",
       "      <td>2</td>\n",
       "      <td>0.372175</td>\n",
       "      <td>0.302429</td>\n",
       "      <td>0.094231</td>\n",
       "      <td>01:17</td>\n",
       "    </tr>\n",
       "    <tr>\n",
       "      <td>3</td>\n",
       "      <td>0.310673</td>\n",
       "      <td>0.283511</td>\n",
       "      <td>0.087500</td>\n",
       "      <td>01:17</td>\n",
       "    </tr>\n",
       "    <tr>\n",
       "      <td>4</td>\n",
       "      <td>0.332722</td>\n",
       "      <td>0.467280</td>\n",
       "      <td>0.126923</td>\n",
       "      <td>01:17</td>\n",
       "    </tr>\n",
       "    <tr>\n",
       "      <td>5</td>\n",
       "      <td>0.295306</td>\n",
       "      <td>0.355379</td>\n",
       "      <td>0.100481</td>\n",
       "      <td>01:17</td>\n",
       "    </tr>\n",
       "    <tr>\n",
       "      <td>6</td>\n",
       "      <td>0.252319</td>\n",
       "      <td>0.296746</td>\n",
       "      <td>0.081731</td>\n",
       "      <td>01:18</td>\n",
       "    </tr>\n",
       "    <tr>\n",
       "      <td>7</td>\n",
       "      <td>0.217448</td>\n",
       "      <td>0.186640</td>\n",
       "      <td>0.056250</td>\n",
       "      <td>01:27</td>\n",
       "    </tr>\n",
       "    <tr>\n",
       "      <td>8</td>\n",
       "      <td>0.180768</td>\n",
       "      <td>0.242256</td>\n",
       "      <td>0.070673</td>\n",
       "      <td>01:18</td>\n",
       "    </tr>\n",
       "    <tr>\n",
       "      <td>9</td>\n",
       "      <td>0.186903</td>\n",
       "      <td>0.210754</td>\n",
       "      <td>0.065385</td>\n",
       "      <td>01:19</td>\n",
       "    </tr>\n",
       "    <tr>\n",
       "      <td>10</td>\n",
       "      <td>0.114192</td>\n",
       "      <td>0.205929</td>\n",
       "      <td>0.052885</td>\n",
       "      <td>01:19</td>\n",
       "    </tr>\n",
       "    <tr>\n",
       "      <td>11</td>\n",
       "      <td>0.111053</td>\n",
       "      <td>0.142063</td>\n",
       "      <td>0.035577</td>\n",
       "      <td>01:19</td>\n",
       "    </tr>\n",
       "    <tr>\n",
       "      <td>12</td>\n",
       "      <td>0.081658</td>\n",
       "      <td>0.131254</td>\n",
       "      <td>0.032212</td>\n",
       "      <td>01:18</td>\n",
       "    </tr>\n",
       "    <tr>\n",
       "      <td>13</td>\n",
       "      <td>0.060695</td>\n",
       "      <td>0.125051</td>\n",
       "      <td>0.032692</td>\n",
       "      <td>01:20</td>\n",
       "    </tr>\n",
       "    <tr>\n",
       "      <td>14</td>\n",
       "      <td>0.048183</td>\n",
       "      <td>0.120848</td>\n",
       "      <td>0.031250</td>\n",
       "      <td>01:18</td>\n",
       "    </tr>\n",
       "    <tr>\n",
       "      <td>15</td>\n",
       "      <td>0.038185</td>\n",
       "      <td>0.111241</td>\n",
       "      <td>0.026442</td>\n",
       "      <td>01:22</td>\n",
       "    </tr>\n",
       "    <tr>\n",
       "      <td>16</td>\n",
       "      <td>0.030218</td>\n",
       "      <td>0.110304</td>\n",
       "      <td>0.025962</td>\n",
       "      <td>01:19</td>\n",
       "    </tr>\n",
       "    <tr>\n",
       "      <td>17</td>\n",
       "      <td>0.023285</td>\n",
       "      <td>0.108994</td>\n",
       "      <td>0.025000</td>\n",
       "      <td>01:19</td>\n",
       "    </tr>\n",
       "    <tr>\n",
       "      <td>18</td>\n",
       "      <td>0.021215</td>\n",
       "      <td>0.108807</td>\n",
       "      <td>0.027404</td>\n",
       "      <td>01:22</td>\n",
       "    </tr>\n",
       "    <tr>\n",
       "      <td>19</td>\n",
       "      <td>0.017137</td>\n",
       "      <td>0.109476</td>\n",
       "      <td>0.027885</td>\n",
       "      <td>01:21</td>\n",
       "    </tr>\n",
       "  </tbody>\n",
       "</table>"
      ],
      "text/plain": [
       "<IPython.core.display.HTML object>"
      ]
     },
     "metadata": {},
     "output_type": "display_data"
    }
   ],
   "source": [
    "learn.fine_tune(20, 0.005)"
   ]
  },
  {
   "cell_type": "code",
   "execution_count": 20,
   "id": "21cc0488",
   "metadata": {},
   "outputs": [
    {
     "data": {
      "text/plain": [
       "[Path('paddy-disease-classification/train_images/bacterial_leaf_blight/100162.jpg'),\n",
       " Path('paddy-disease-classification/train_images/bacterial_leaf_blight/100248.jpg'),\n",
       " Path('paddy-disease-classification/train_images/bacterial_leaf_blight/100330.jpg'),\n",
       " Path('paddy-disease-classification/train_images/bacterial_leaf_blight/100523.jpg'),\n",
       " Path('paddy-disease-classification/train_images/bacterial_leaf_blight/100541.jpg'),\n",
       " Path('paddy-disease-classification/train_images/bacterial_leaf_blight/100582.jpg'),\n",
       " Path('paddy-disease-classification/train_images/bacterial_leaf_blight/100760.jpg'),\n",
       " Path('paddy-disease-classification/train_images/bacterial_leaf_blight/100883.jpg'),\n",
       " Path('paddy-disease-classification/train_images/bacterial_leaf_blight/100967.jpg'),\n",
       " Path('paddy-disease-classification/train_images/bacterial_leaf_blight/101004.jpg'),\n",
       " Path('paddy-disease-classification/train_images/bacterial_leaf_blight/101013.jpg'),\n",
       " Path('paddy-disease-classification/train_images/bacterial_leaf_blight/101173.jpg'),\n",
       " Path('paddy-disease-classification/train_images/bacterial_leaf_blight/101391.jpg'),\n",
       " Path('paddy-disease-classification/train_images/bacterial_leaf_blight/101420.jpg'),\n",
       " Path('paddy-disease-classification/train_images/bacterial_leaf_blight/101485.jpg'),\n",
       " Path('paddy-disease-classification/train_images/bacterial_leaf_blight/101516.jpg'),\n",
       " Path('paddy-disease-classification/train_images/bacterial_leaf_blight/101553.jpg'),\n",
       " Path('paddy-disease-classification/train_images/bacterial_leaf_blight/101702.jpg'),\n",
       " Path('paddy-disease-classification/train_images/bacterial_leaf_blight/101761.jpg'),\n",
       " Path('paddy-disease-classification/train_images/bacterial_leaf_blight/101767.jpg'),\n",
       " Path('paddy-disease-classification/train_images/bacterial_leaf_blight/101798.jpg'),\n",
       " Path('paddy-disease-classification/train_images/bacterial_leaf_blight/101800.jpg'),\n",
       " Path('paddy-disease-classification/train_images/bacterial_leaf_blight/101805.jpg'),\n",
       " Path('paddy-disease-classification/train_images/bacterial_leaf_blight/101888.jpg'),\n",
       " Path('paddy-disease-classification/train_images/bacterial_leaf_blight/102128.jpg'),\n",
       " Path('paddy-disease-classification/train_images/bacterial_leaf_blight/102190.jpg'),\n",
       " Path('paddy-disease-classification/train_images/bacterial_leaf_blight/102420.jpg'),\n",
       " Path('paddy-disease-classification/train_images/bacterial_leaf_blight/102555.jpg'),\n",
       " Path('paddy-disease-classification/train_images/bacterial_leaf_blight/102617.jpg'),\n",
       " Path('paddy-disease-classification/train_images/bacterial_leaf_blight/102902.jpg'),\n",
       " Path('paddy-disease-classification/train_images/bacterial_leaf_blight/102940.jpg'),\n",
       " Path('paddy-disease-classification/train_images/bacterial_leaf_blight/103127.jpg'),\n",
       " Path('paddy-disease-classification/train_images/bacterial_leaf_blight/103177.jpg'),\n",
       " Path('paddy-disease-classification/train_images/bacterial_leaf_blight/103205.jpg'),\n",
       " Path('paddy-disease-classification/train_images/bacterial_leaf_blight/103313.jpg'),\n",
       " Path('paddy-disease-classification/train_images/bacterial_leaf_blight/103323.jpg'),\n",
       " Path('paddy-disease-classification/train_images/bacterial_leaf_blight/103355.jpg'),\n",
       " Path('paddy-disease-classification/train_images/bacterial_leaf_blight/103357.jpg'),\n",
       " Path('paddy-disease-classification/train_images/bacterial_leaf_blight/103458.jpg'),\n",
       " Path('paddy-disease-classification/train_images/bacterial_leaf_blight/103500.jpg'),\n",
       " Path('paddy-disease-classification/train_images/bacterial_leaf_blight/103629.jpg'),\n",
       " Path('paddy-disease-classification/train_images/bacterial_leaf_blight/103734.jpg'),\n",
       " Path('paddy-disease-classification/train_images/bacterial_leaf_blight/103839.jpg'),\n",
       " Path('paddy-disease-classification/train_images/bacterial_leaf_blight/103920.jpg'),\n",
       " Path('paddy-disease-classification/train_images/bacterial_leaf_blight/104273.jpg'),\n",
       " Path('paddy-disease-classification/train_images/bacterial_leaf_blight/104428.jpg'),\n",
       " Path('paddy-disease-classification/train_images/bacterial_leaf_blight/104430.jpg'),\n",
       " Path('paddy-disease-classification/train_images/bacterial_leaf_blight/104432.jpg'),\n",
       " Path('paddy-disease-classification/train_images/bacterial_leaf_blight/104535.jpg'),\n",
       " Path('paddy-disease-classification/train_images/bacterial_leaf_blight/104635.jpg'),\n",
       " Path('paddy-disease-classification/train_images/bacterial_leaf_blight/104639.jpg'),\n",
       " Path('paddy-disease-classification/train_images/bacterial_leaf_blight/104690.jpg'),\n",
       " Path('paddy-disease-classification/train_images/bacterial_leaf_blight/104702.jpg'),\n",
       " Path('paddy-disease-classification/train_images/bacterial_leaf_blight/104752.jpg'),\n",
       " Path('paddy-disease-classification/train_images/bacterial_leaf_blight/104799.jpg'),\n",
       " Path('paddy-disease-classification/train_images/bacterial_leaf_blight/105031.jpg'),\n",
       " Path('paddy-disease-classification/train_images/bacterial_leaf_blight/105209.jpg'),\n",
       " Path('paddy-disease-classification/train_images/bacterial_leaf_blight/105429.jpg'),\n",
       " Path('paddy-disease-classification/train_images/bacterial_leaf_blight/105532.jpg'),\n",
       " Path('paddy-disease-classification/train_images/bacterial_leaf_blight/105662.jpg'),\n",
       " Path('paddy-disease-classification/train_images/bacterial_leaf_blight/105677.jpg'),\n",
       " Path('paddy-disease-classification/train_images/bacterial_leaf_blight/106016.jpg'),\n",
       " Path('paddy-disease-classification/train_images/bacterial_leaf_blight/106028.jpg'),\n",
       " Path('paddy-disease-classification/train_images/bacterial_leaf_blight/106141.jpg'),\n",
       " Path('paddy-disease-classification/train_images/bacterial_leaf_blight/106142.jpg'),\n",
       " Path('paddy-disease-classification/train_images/bacterial_leaf_blight/106339.jpg'),\n",
       " Path('paddy-disease-classification/train_images/bacterial_leaf_blight/106419.jpg'),\n",
       " Path('paddy-disease-classification/train_images/bacterial_leaf_blight/106539.jpg'),\n",
       " Path('paddy-disease-classification/train_images/bacterial_leaf_blight/106629.jpg'),\n",
       " Path('paddy-disease-classification/train_images/bacterial_leaf_blight/106698.jpg'),\n",
       " Path('paddy-disease-classification/train_images/bacterial_leaf_blight/107036.jpg'),\n",
       " Path('paddy-disease-classification/train_images/bacterial_leaf_blight/107104.jpg'),\n",
       " Path('paddy-disease-classification/train_images/bacterial_leaf_blight/107423.jpg'),\n",
       " Path('paddy-disease-classification/train_images/bacterial_leaf_blight/107812.jpg'),\n",
       " Path('paddy-disease-classification/train_images/bacterial_leaf_blight/107904.jpg'),\n",
       " Path('paddy-disease-classification/train_images/bacterial_leaf_blight/108018.jpg'),\n",
       " Path('paddy-disease-classification/train_images/bacterial_leaf_blight/108056.jpg'),\n",
       " Path('paddy-disease-classification/train_images/bacterial_leaf_blight/108117.jpg'),\n",
       " Path('paddy-disease-classification/train_images/bacterial_leaf_blight/108183.jpg'),\n",
       " Path('paddy-disease-classification/train_images/bacterial_leaf_blight/108199.jpg'),\n",
       " Path('paddy-disease-classification/train_images/bacterial_leaf_blight/108231.jpg'),\n",
       " Path('paddy-disease-classification/train_images/bacterial_leaf_blight/108265.jpg'),\n",
       " Path('paddy-disease-classification/train_images/bacterial_leaf_blight/109121.jpg'),\n",
       " Path('paddy-disease-classification/train_images/bacterial_leaf_blight/109304.jpg'),\n",
       " Path('paddy-disease-classification/train_images/bacterial_leaf_blight/109372.jpg'),\n",
       " Path('paddy-disease-classification/train_images/bacterial_leaf_blight/109375.jpg'),\n",
       " Path('paddy-disease-classification/train_images/bacterial_leaf_blight/109428.jpg'),\n",
       " Path('paddy-disease-classification/train_images/bacterial_leaf_blight/109514.jpg'),\n",
       " Path('paddy-disease-classification/train_images/bacterial_leaf_blight/109635.jpg'),\n",
       " Path('paddy-disease-classification/train_images/bacterial_leaf_blight/109768.jpg'),\n",
       " Path('paddy-disease-classification/train_images/bacterial_leaf_blight/109775.jpg'),\n",
       " Path('paddy-disease-classification/train_images/bacterial_leaf_blight/109870.jpg'),\n",
       " Path('paddy-disease-classification/train_images/bacterial_leaf_blight/109975.jpg'),\n",
       " Path('paddy-disease-classification/train_images/bacterial_leaf_blight/110022.jpg'),\n",
       " Path('paddy-disease-classification/train_images/bacterial_leaf_blight/110234.jpg'),\n",
       " Path('paddy-disease-classification/train_images/bacterial_leaf_blight/110277.jpg'),\n",
       " Path('paddy-disease-classification/train_images/bacterial_leaf_streak/100145.jpg'),\n",
       " Path('paddy-disease-classification/train_images/bacterial_leaf_streak/100150.jpg'),\n",
       " Path('paddy-disease-classification/train_images/bacterial_leaf_streak/100178.jpg'),\n",
       " Path('paddy-disease-classification/train_images/bacterial_leaf_streak/100212.jpg'),\n",
       " Path('paddy-disease-classification/train_images/bacterial_leaf_streak/100264.jpg'),\n",
       " Path('paddy-disease-classification/train_images/bacterial_leaf_streak/100545.jpg'),\n",
       " Path('paddy-disease-classification/train_images/bacterial_leaf_streak/100869.jpg'),\n",
       " Path('paddy-disease-classification/train_images/bacterial_leaf_streak/101151.jpg'),\n",
       " Path('paddy-disease-classification/train_images/bacterial_leaf_streak/101479.jpg'),\n",
       " Path('paddy-disease-classification/train_images/bacterial_leaf_streak/101738.jpg'),\n",
       " Path('paddy-disease-classification/train_images/bacterial_leaf_streak/101884.jpg'),\n",
       " Path('paddy-disease-classification/train_images/bacterial_leaf_streak/102022.jpg'),\n",
       " Path('paddy-disease-classification/train_images/bacterial_leaf_streak/102056.jpg'),\n",
       " Path('paddy-disease-classification/train_images/bacterial_leaf_streak/102175.jpg'),\n",
       " Path('paddy-disease-classification/train_images/bacterial_leaf_streak/102608.jpg'),\n",
       " Path('paddy-disease-classification/train_images/bacterial_leaf_streak/102671.jpg'),\n",
       " Path('paddy-disease-classification/train_images/bacterial_leaf_streak/102893.jpg'),\n",
       " Path('paddy-disease-classification/train_images/bacterial_leaf_streak/102996.jpg'),\n",
       " Path('paddy-disease-classification/train_images/bacterial_leaf_streak/103079.jpg'),\n",
       " Path('paddy-disease-classification/train_images/bacterial_leaf_streak/103307.jpg'),\n",
       " Path('paddy-disease-classification/train_images/bacterial_leaf_streak/103519.jpg'),\n",
       " Path('paddy-disease-classification/train_images/bacterial_leaf_streak/103634.jpg'),\n",
       " Path('paddy-disease-classification/train_images/bacterial_leaf_streak/103928.jpg'),\n",
       " Path('paddy-disease-classification/train_images/bacterial_leaf_streak/103981.jpg'),\n",
       " Path('paddy-disease-classification/train_images/bacterial_leaf_streak/104405.jpg'),\n",
       " Path('paddy-disease-classification/train_images/bacterial_leaf_streak/104419.jpg'),\n",
       " Path('paddy-disease-classification/train_images/bacterial_leaf_streak/104447.jpg'),\n",
       " Path('paddy-disease-classification/train_images/bacterial_leaf_streak/104479.jpg'),\n",
       " Path('paddy-disease-classification/train_images/bacterial_leaf_streak/104487.jpg'),\n",
       " Path('paddy-disease-classification/train_images/bacterial_leaf_streak/104567.jpg'),\n",
       " Path('paddy-disease-classification/train_images/bacterial_leaf_streak/104590.jpg'),\n",
       " Path('paddy-disease-classification/train_images/bacterial_leaf_streak/104809.jpg'),\n",
       " Path('paddy-disease-classification/train_images/bacterial_leaf_streak/104885.jpg'),\n",
       " Path('paddy-disease-classification/train_images/bacterial_leaf_streak/104988.jpg'),\n",
       " Path('paddy-disease-classification/train_images/bacterial_leaf_streak/105025.jpg'),\n",
       " Path('paddy-disease-classification/train_images/bacterial_leaf_streak/105027.jpg'),\n",
       " Path('paddy-disease-classification/train_images/bacterial_leaf_streak/105069.jpg'),\n",
       " Path('paddy-disease-classification/train_images/bacterial_leaf_streak/105323.jpg'),\n",
       " Path('paddy-disease-classification/train_images/bacterial_leaf_streak/105454.jpg'),\n",
       " Path('paddy-disease-classification/train_images/bacterial_leaf_streak/105457.jpg'),\n",
       " Path('paddy-disease-classification/train_images/bacterial_leaf_streak/105589.jpg'),\n",
       " Path('paddy-disease-classification/train_images/bacterial_leaf_streak/105635.jpg'),\n",
       " Path('paddy-disease-classification/train_images/bacterial_leaf_streak/105745.jpg'),\n",
       " Path('paddy-disease-classification/train_images/bacterial_leaf_streak/106123.jpg'),\n",
       " Path('paddy-disease-classification/train_images/bacterial_leaf_streak/106378.jpg'),\n",
       " Path('paddy-disease-classification/train_images/bacterial_leaf_streak/106455.jpg'),\n",
       " Path('paddy-disease-classification/train_images/bacterial_leaf_streak/106496.jpg'),\n",
       " Path('paddy-disease-classification/train_images/bacterial_leaf_streak/106805.jpg'),\n",
       " Path('paddy-disease-classification/train_images/bacterial_leaf_streak/106911.jpg'),\n",
       " Path('paddy-disease-classification/train_images/bacterial_leaf_streak/107084.jpg'),\n",
       " Path('paddy-disease-classification/train_images/bacterial_leaf_streak/107200.jpg'),\n",
       " Path('paddy-disease-classification/train_images/bacterial_leaf_streak/107350.jpg'),\n",
       " Path('paddy-disease-classification/train_images/bacterial_leaf_streak/107382.jpg'),\n",
       " Path('paddy-disease-classification/train_images/bacterial_leaf_streak/107549.jpg'),\n",
       " Path('paddy-disease-classification/train_images/bacterial_leaf_streak/107634.jpg'),\n",
       " Path('paddy-disease-classification/train_images/bacterial_leaf_streak/107674.jpg'),\n",
       " Path('paddy-disease-classification/train_images/bacterial_leaf_streak/107734.jpg'),\n",
       " Path('paddy-disease-classification/train_images/bacterial_leaf_streak/107749.jpg'),\n",
       " Path('paddy-disease-classification/train_images/bacterial_leaf_streak/107828.jpg'),\n",
       " Path('paddy-disease-classification/train_images/bacterial_leaf_streak/107925.jpg'),\n",
       " Path('paddy-disease-classification/train_images/bacterial_leaf_streak/108249.jpg'),\n",
       " Path('paddy-disease-classification/train_images/bacterial_leaf_streak/108304.jpg'),\n",
       " Path('paddy-disease-classification/train_images/bacterial_leaf_streak/108342.jpg'),\n",
       " Path('paddy-disease-classification/train_images/bacterial_leaf_streak/108466.jpg'),\n",
       " Path('paddy-disease-classification/train_images/bacterial_leaf_streak/109040.jpg'),\n",
       " Path('paddy-disease-classification/train_images/bacterial_leaf_streak/109045.jpg'),\n",
       " Path('paddy-disease-classification/train_images/bacterial_leaf_streak/109091.jpg'),\n",
       " Path('paddy-disease-classification/train_images/bacterial_leaf_streak/109233.jpg'),\n",
       " Path('paddy-disease-classification/train_images/bacterial_leaf_streak/109268.jpg'),\n",
       " Path('paddy-disease-classification/train_images/bacterial_leaf_streak/109341.jpg'),\n",
       " Path('paddy-disease-classification/train_images/bacterial_leaf_streak/109566.jpg'),\n",
       " Path('paddy-disease-classification/train_images/bacterial_leaf_streak/109814.jpg'),\n",
       " Path('paddy-disease-classification/train_images/bacterial_leaf_streak/109893.jpg'),\n",
       " Path('paddy-disease-classification/train_images/bacterial_leaf_streak/109925.jpg'),\n",
       " Path('paddy-disease-classification/train_images/bacterial_leaf_streak/110260.jpg'),\n",
       " Path('paddy-disease-classification/train_images/bacterial_leaf_streak/110363.jpg'),\n",
       " Path('paddy-disease-classification/train_images/bacterial_panicle_blight/100071.jpg'),\n",
       " Path('paddy-disease-classification/train_images/bacterial_panicle_blight/100314.jpg'),\n",
       " Path('paddy-disease-classification/train_images/bacterial_panicle_blight/100352.jpg'),\n",
       " Path('paddy-disease-classification/train_images/bacterial_panicle_blight/100414.jpg'),\n",
       " Path('paddy-disease-classification/train_images/bacterial_panicle_blight/100601.jpg'),\n",
       " Path('paddy-disease-classification/train_images/bacterial_panicle_blight/100824.jpg'),\n",
       " Path('paddy-disease-classification/train_images/bacterial_panicle_blight/100922.jpg'),\n",
       " Path('paddy-disease-classification/train_images/bacterial_panicle_blight/101073.jpg'),\n",
       " Path('paddy-disease-classification/train_images/bacterial_panicle_blight/101139.jpg'),\n",
       " Path('paddy-disease-classification/train_images/bacterial_panicle_blight/101223.jpg'),\n",
       " Path('paddy-disease-classification/train_images/bacterial_panicle_blight/101592.jpg'),\n",
       " Path('paddy-disease-classification/train_images/bacterial_panicle_blight/101644.jpg'),\n",
       " Path('paddy-disease-classification/train_images/bacterial_panicle_blight/101957.jpg'),\n",
       " Path('paddy-disease-classification/train_images/bacterial_panicle_blight/101962.jpg'),\n",
       " Path('paddy-disease-classification/train_images/bacterial_panicle_blight/102215.jpg'),\n",
       " Path('paddy-disease-classification/train_images/bacterial_panicle_blight/102464.jpg'),\n",
       " Path('paddy-disease-classification/train_images/bacterial_panicle_blight/102477.jpg'),\n",
       " Path('paddy-disease-classification/train_images/bacterial_panicle_blight/102485.jpg'),\n",
       " Path('paddy-disease-classification/train_images/bacterial_panicle_blight/102689.jpg'),\n",
       " Path('paddy-disease-classification/train_images/bacterial_panicle_blight/102920.jpg'),\n",
       " Path('paddy-disease-classification/train_images/bacterial_panicle_blight/102955.jpg'),\n",
       " Path('paddy-disease-classification/train_images/bacterial_panicle_blight/103150.jpg'),\n",
       " Path('paddy-disease-classification/train_images/bacterial_panicle_blight/103233.jpg'),\n",
       " Path('paddy-disease-classification/train_images/bacterial_panicle_blight/103439.jpg'),\n",
       " Path('paddy-disease-classification/train_images/bacterial_panicle_blight/103735.jpg'),\n",
       " Path('paddy-disease-classification/train_images/bacterial_panicle_blight/103932.jpg'),\n",
       " Path('paddy-disease-classification/train_images/bacterial_panicle_blight/104102.jpg'),\n",
       " Path('paddy-disease-classification/train_images/bacterial_panicle_blight/104460.jpg'),\n",
       " Path('paddy-disease-classification/train_images/bacterial_panicle_blight/104531.jpg'),\n",
       " Path('paddy-disease-classification/train_images/bacterial_panicle_blight/104569.jpg'),\n",
       " Path('paddy-disease-classification/train_images/bacterial_panicle_blight/104630.jpg'),\n",
       " Path('paddy-disease-classification/train_images/bacterial_panicle_blight/104684.jpg'),\n",
       " Path('paddy-disease-classification/train_images/bacterial_panicle_blight/104912.jpg'),\n",
       " Path('paddy-disease-classification/train_images/bacterial_panicle_blight/105118.jpg'),\n",
       " Path('paddy-disease-classification/train_images/bacterial_panicle_blight/105145.jpg'),\n",
       " Path('paddy-disease-classification/train_images/bacterial_panicle_blight/105487.jpg'),\n",
       " Path('paddy-disease-classification/train_images/bacterial_panicle_blight/105550.jpg'),\n",
       " Path('paddy-disease-classification/train_images/bacterial_panicle_blight/105908.jpg'),\n",
       " Path('paddy-disease-classification/train_images/bacterial_panicle_blight/105935.jpg'),\n",
       " Path('paddy-disease-classification/train_images/bacterial_panicle_blight/106097.jpg'),\n",
       " Path('paddy-disease-classification/train_images/bacterial_panicle_blight/106283.jpg'),\n",
       " Path('paddy-disease-classification/train_images/bacterial_panicle_blight/106322.jpg'),\n",
       " Path('paddy-disease-classification/train_images/bacterial_panicle_blight/106466.jpg'),\n",
       " Path('paddy-disease-classification/train_images/bacterial_panicle_blight/106531.jpg'),\n",
       " Path('paddy-disease-classification/train_images/bacterial_panicle_blight/106830.jpg'),\n",
       " Path('paddy-disease-classification/train_images/bacterial_panicle_blight/106834.jpg'),\n",
       " Path('paddy-disease-classification/train_images/bacterial_panicle_blight/106889.jpg'),\n",
       " Path('paddy-disease-classification/train_images/bacterial_panicle_blight/107166.jpg'),\n",
       " Path('paddy-disease-classification/train_images/bacterial_panicle_blight/107214.jpg'),\n",
       " Path('paddy-disease-classification/train_images/bacterial_panicle_blight/107317.jpg'),\n",
       " Path('paddy-disease-classification/train_images/bacterial_panicle_blight/107432.jpg'),\n",
       " Path('paddy-disease-classification/train_images/bacterial_panicle_blight/107599.jpg'),\n",
       " Path('paddy-disease-classification/train_images/bacterial_panicle_blight/107649.jpg'),\n",
       " Path('paddy-disease-classification/train_images/bacterial_panicle_blight/107859.jpg'),\n",
       " Path('paddy-disease-classification/train_images/bacterial_panicle_blight/107947.jpg'),\n",
       " Path('paddy-disease-classification/train_images/bacterial_panicle_blight/107981.jpg'),\n",
       " Path('paddy-disease-classification/train_images/bacterial_panicle_blight/108369.jpg'),\n",
       " Path('paddy-disease-classification/train_images/bacterial_panicle_blight/108408.jpg'),\n",
       " Path('paddy-disease-classification/train_images/bacterial_panicle_blight/108501.jpg'),\n",
       " Path('paddy-disease-classification/train_images/bacterial_panicle_blight/108548.jpg'),\n",
       " Path('paddy-disease-classification/train_images/bacterial_panicle_blight/108878.jpg'),\n",
       " Path('paddy-disease-classification/train_images/bacterial_panicle_blight/109077.jpg'),\n",
       " Path('paddy-disease-classification/train_images/bacterial_panicle_blight/109177.jpg'),\n",
       " Path('paddy-disease-classification/train_images/bacterial_panicle_blight/109183.jpg'),\n",
       " Path('paddy-disease-classification/train_images/bacterial_panicle_blight/109790.jpg'),\n",
       " Path('paddy-disease-classification/train_images/bacterial_panicle_blight/109926.jpg'),\n",
       " Path('paddy-disease-classification/train_images/bacterial_panicle_blight/110295.jpg'),\n",
       " Path('paddy-disease-classification/train_images/bacterial_panicle_blight/110394.jpg'),\n",
       " Path('paddy-disease-classification/train_images/blast/100039.jpg'),\n",
       " Path('paddy-disease-classification/train_images/blast/100046.jpg'),\n",
       " Path('paddy-disease-classification/train_images/blast/100080.jpg'),\n",
       " Path('paddy-disease-classification/train_images/blast/100121.jpg'),\n",
       " Path('paddy-disease-classification/train_images/blast/100137.jpg'),\n",
       " Path('paddy-disease-classification/train_images/blast/100138.jpg'),\n",
       " Path('paddy-disease-classification/train_images/blast/100215.jpg'),\n",
       " Path('paddy-disease-classification/train_images/blast/100228.jpg'),\n",
       " Path('paddy-disease-classification/train_images/blast/100230.jpg'),\n",
       " Path('paddy-disease-classification/train_images/blast/100265.jpg'),\n",
       " Path('paddy-disease-classification/train_images/blast/100282.jpg'),\n",
       " Path('paddy-disease-classification/train_images/blast/100301.jpg'),\n",
       " Path('paddy-disease-classification/train_images/blast/100312.jpg'),\n",
       " Path('paddy-disease-classification/train_images/blast/100345.jpg'),\n",
       " Path('paddy-disease-classification/train_images/blast/100436.jpg'),\n",
       " Path('paddy-disease-classification/train_images/blast/100442.jpg'),\n",
       " Path('paddy-disease-classification/train_images/blast/100521.jpg'),\n",
       " Path('paddy-disease-classification/train_images/blast/100554.jpg'),\n",
       " Path('paddy-disease-classification/train_images/blast/100597.jpg'),\n",
       " Path('paddy-disease-classification/train_images/blast/100598.jpg'),\n",
       " Path('paddy-disease-classification/train_images/blast/100636.jpg'),\n",
       " Path('paddy-disease-classification/train_images/blast/100673.jpg'),\n",
       " Path('paddy-disease-classification/train_images/blast/100680.jpg'),\n",
       " Path('paddy-disease-classification/train_images/blast/100719.jpg'),\n",
       " Path('paddy-disease-classification/train_images/blast/100731.jpg'),\n",
       " Path('paddy-disease-classification/train_images/blast/100745.jpg'),\n",
       " Path('paddy-disease-classification/train_images/blast/100792.jpg'),\n",
       " Path('paddy-disease-classification/train_images/blast/100801.jpg'),\n",
       " Path('paddy-disease-classification/train_images/blast/100805.jpg'),\n",
       " Path('paddy-disease-classification/train_images/blast/100812.jpg'),\n",
       " Path('paddy-disease-classification/train_images/blast/100819.jpg'),\n",
       " Path('paddy-disease-classification/train_images/blast/100823.jpg'),\n",
       " Path('paddy-disease-classification/train_images/blast/100852.jpg'),\n",
       " Path('paddy-disease-classification/train_images/blast/100856.jpg'),\n",
       " Path('paddy-disease-classification/train_images/blast/100873.jpg'),\n",
       " Path('paddy-disease-classification/train_images/blast/100877.jpg'),\n",
       " Path('paddy-disease-classification/train_images/blast/100894.jpg'),\n",
       " Path('paddy-disease-classification/train_images/blast/100948.jpg'),\n",
       " Path('paddy-disease-classification/train_images/blast/100981.jpg'),\n",
       " Path('paddy-disease-classification/train_images/blast/100984.jpg'),\n",
       " Path('paddy-disease-classification/train_images/blast/101054.jpg'),\n",
       " Path('paddy-disease-classification/train_images/blast/101067.jpg'),\n",
       " Path('paddy-disease-classification/train_images/blast/101075.jpg'),\n",
       " Path('paddy-disease-classification/train_images/blast/101082.jpg'),\n",
       " Path('paddy-disease-classification/train_images/blast/101160.jpg'),\n",
       " Path('paddy-disease-classification/train_images/blast/101171.jpg'),\n",
       " Path('paddy-disease-classification/train_images/blast/101172.jpg'),\n",
       " Path('paddy-disease-classification/train_images/blast/101182.jpg'),\n",
       " Path('paddy-disease-classification/train_images/blast/101183.jpg'),\n",
       " Path('paddy-disease-classification/train_images/blast/101186.jpg'),\n",
       " Path('paddy-disease-classification/train_images/blast/101218.jpg'),\n",
       " Path('paddy-disease-classification/train_images/blast/101220.jpg'),\n",
       " Path('paddy-disease-classification/train_images/blast/101254.jpg'),\n",
       " Path('paddy-disease-classification/train_images/blast/101292.jpg'),\n",
       " Path('paddy-disease-classification/train_images/blast/101335.jpg'),\n",
       " Path('paddy-disease-classification/train_images/blast/101380.jpg'),\n",
       " Path('paddy-disease-classification/train_images/blast/101498.jpg'),\n",
       " Path('paddy-disease-classification/train_images/blast/101521.jpg'),\n",
       " Path('paddy-disease-classification/train_images/blast/101554.jpg'),\n",
       " Path('paddy-disease-classification/train_images/blast/101556.jpg'),\n",
       " Path('paddy-disease-classification/train_images/blast/101624.jpg'),\n",
       " Path('paddy-disease-classification/train_images/blast/101628.jpg'),\n",
       " Path('paddy-disease-classification/train_images/blast/101637.jpg'),\n",
       " Path('paddy-disease-classification/train_images/blast/101688.jpg'),\n",
       " Path('paddy-disease-classification/train_images/blast/101747.jpg'),\n",
       " Path('paddy-disease-classification/train_images/blast/101751.jpg'),\n",
       " Path('paddy-disease-classification/train_images/blast/101811.jpg'),\n",
       " Path('paddy-disease-classification/train_images/blast/101817.jpg'),\n",
       " Path('paddy-disease-classification/train_images/blast/101923.jpg'),\n",
       " Path('paddy-disease-classification/train_images/blast/101956.jpg'),\n",
       " Path('paddy-disease-classification/train_images/blast/101988.jpg'),\n",
       " Path('paddy-disease-classification/train_images/blast/101989.jpg'),\n",
       " Path('paddy-disease-classification/train_images/blast/101993.jpg'),\n",
       " Path('paddy-disease-classification/train_images/blast/102018.jpg'),\n",
       " Path('paddy-disease-classification/train_images/blast/102034.jpg'),\n",
       " Path('paddy-disease-classification/train_images/blast/102065.jpg'),\n",
       " Path('paddy-disease-classification/train_images/blast/102096.jpg'),\n",
       " Path('paddy-disease-classification/train_images/blast/102110.jpg'),\n",
       " Path('paddy-disease-classification/train_images/blast/102140.jpg'),\n",
       " Path('paddy-disease-classification/train_images/blast/102146.jpg'),\n",
       " Path('paddy-disease-classification/train_images/blast/102148.jpg'),\n",
       " Path('paddy-disease-classification/train_images/blast/102218.jpg'),\n",
       " Path('paddy-disease-classification/train_images/blast/102250.jpg'),\n",
       " Path('paddy-disease-classification/train_images/blast/102252.jpg'),\n",
       " Path('paddy-disease-classification/train_images/blast/102341.jpg'),\n",
       " Path('paddy-disease-classification/train_images/blast/102407.jpg'),\n",
       " Path('paddy-disease-classification/train_images/blast/102432.jpg'),\n",
       " Path('paddy-disease-classification/train_images/blast/102446.jpg'),\n",
       " Path('paddy-disease-classification/train_images/blast/102457.jpg'),\n",
       " Path('paddy-disease-classification/train_images/blast/102469.jpg'),\n",
       " Path('paddy-disease-classification/train_images/blast/102478.jpg'),\n",
       " Path('paddy-disease-classification/train_images/blast/102482.jpg'),\n",
       " Path('paddy-disease-classification/train_images/blast/102546.jpg'),\n",
       " Path('paddy-disease-classification/train_images/blast/102558.jpg'),\n",
       " Path('paddy-disease-classification/train_images/blast/102562.jpg'),\n",
       " Path('paddy-disease-classification/train_images/blast/102565.jpg'),\n",
       " Path('paddy-disease-classification/train_images/blast/102600.jpg'),\n",
       " Path('paddy-disease-classification/train_images/blast/102621.jpg'),\n",
       " Path('paddy-disease-classification/train_images/blast/102630.jpg'),\n",
       " Path('paddy-disease-classification/train_images/blast/102706.jpg'),\n",
       " Path('paddy-disease-classification/train_images/blast/102715.jpg'),\n",
       " Path('paddy-disease-classification/train_images/blast/102745.jpg'),\n",
       " Path('paddy-disease-classification/train_images/blast/102746.jpg'),\n",
       " Path('paddy-disease-classification/train_images/blast/102766.jpg'),\n",
       " Path('paddy-disease-classification/train_images/blast/102789.jpg'),\n",
       " Path('paddy-disease-classification/train_images/blast/102813.jpg'),\n",
       " Path('paddy-disease-classification/train_images/blast/102828.jpg'),\n",
       " Path('paddy-disease-classification/train_images/blast/102829.jpg'),\n",
       " Path('paddy-disease-classification/train_images/blast/102832.jpg'),\n",
       " Path('paddy-disease-classification/train_images/blast/102880.jpg'),\n",
       " Path('paddy-disease-classification/train_images/blast/102881.jpg'),\n",
       " Path('paddy-disease-classification/train_images/blast/102904.jpg'),\n",
       " Path('paddy-disease-classification/train_images/blast/102949.jpg'),\n",
       " Path('paddy-disease-classification/train_images/blast/102951.jpg'),\n",
       " Path('paddy-disease-classification/train_images/blast/102962.jpg'),\n",
       " Path('paddy-disease-classification/train_images/blast/102972.jpg'),\n",
       " Path('paddy-disease-classification/train_images/blast/103012.jpg'),\n",
       " Path('paddy-disease-classification/train_images/blast/103075.jpg'),\n",
       " Path('paddy-disease-classification/train_images/blast/103081.jpg'),\n",
       " Path('paddy-disease-classification/train_images/blast/103142.jpg'),\n",
       " Path('paddy-disease-classification/train_images/blast/103144.jpg'),\n",
       " Path('paddy-disease-classification/train_images/blast/103204.jpg'),\n",
       " Path('paddy-disease-classification/train_images/blast/103211.jpg'),\n",
       " Path('paddy-disease-classification/train_images/blast/103212.jpg'),\n",
       " Path('paddy-disease-classification/train_images/blast/103240.jpg'),\n",
       " Path('paddy-disease-classification/train_images/blast/103284.jpg'),\n",
       " Path('paddy-disease-classification/train_images/blast/103293.jpg'),\n",
       " Path('paddy-disease-classification/train_images/blast/103295.jpg'),\n",
       " Path('paddy-disease-classification/train_images/blast/103314.jpg'),\n",
       " Path('paddy-disease-classification/train_images/blast/103317.jpg'),\n",
       " Path('paddy-disease-classification/train_images/blast/103354.jpg'),\n",
       " Path('paddy-disease-classification/train_images/blast/103365.jpg'),\n",
       " Path('paddy-disease-classification/train_images/blast/103404.jpg'),\n",
       " Path('paddy-disease-classification/train_images/blast/103460.jpg'),\n",
       " Path('paddy-disease-classification/train_images/blast/103477.jpg'),\n",
       " Path('paddy-disease-classification/train_images/blast/103490.jpg'),\n",
       " Path('paddy-disease-classification/train_images/blast/103514.jpg'),\n",
       " Path('paddy-disease-classification/train_images/blast/103548.jpg'),\n",
       " Path('paddy-disease-classification/train_images/blast/103550.jpg'),\n",
       " Path('paddy-disease-classification/train_images/blast/103603.jpg'),\n",
       " Path('paddy-disease-classification/train_images/blast/103612.jpg'),\n",
       " Path('paddy-disease-classification/train_images/blast/103618.jpg'),\n",
       " Path('paddy-disease-classification/train_images/blast/103622.jpg'),\n",
       " Path('paddy-disease-classification/train_images/blast/103652.jpg'),\n",
       " Path('paddy-disease-classification/train_images/blast/103745.jpg'),\n",
       " Path('paddy-disease-classification/train_images/blast/103749.jpg'),\n",
       " Path('paddy-disease-classification/train_images/blast/103760.jpg'),\n",
       " Path('paddy-disease-classification/train_images/blast/103764.jpg'),\n",
       " Path('paddy-disease-classification/train_images/blast/103784.jpg'),\n",
       " Path('paddy-disease-classification/train_images/blast/103811.jpg'),\n",
       " Path('paddy-disease-classification/train_images/blast/103830.jpg'),\n",
       " Path('paddy-disease-classification/train_images/blast/103877.jpg'),\n",
       " Path('paddy-disease-classification/train_images/blast/103906.jpg'),\n",
       " Path('paddy-disease-classification/train_images/blast/103936.jpg'),\n",
       " Path('paddy-disease-classification/train_images/blast/104022.jpg'),\n",
       " Path('paddy-disease-classification/train_images/blast/104056.jpg'),\n",
       " Path('paddy-disease-classification/train_images/blast/104069.jpg'),\n",
       " Path('paddy-disease-classification/train_images/blast/104128.jpg'),\n",
       " Path('paddy-disease-classification/train_images/blast/104148.jpg'),\n",
       " Path('paddy-disease-classification/train_images/blast/104180.jpg'),\n",
       " Path('paddy-disease-classification/train_images/blast/104195.jpg'),\n",
       " Path('paddy-disease-classification/train_images/blast/104226.jpg'),\n",
       " Path('paddy-disease-classification/train_images/blast/104264.jpg'),\n",
       " Path('paddy-disease-classification/train_images/blast/104281.jpg'),\n",
       " Path('paddy-disease-classification/train_images/blast/104282.jpg'),\n",
       " Path('paddy-disease-classification/train_images/blast/104357.jpg'),\n",
       " Path('paddy-disease-classification/train_images/blast/104392.jpg'),\n",
       " Path('paddy-disease-classification/train_images/blast/104456.jpg'),\n",
       " Path('paddy-disease-classification/train_images/blast/104513.jpg'),\n",
       " Path('paddy-disease-classification/train_images/blast/104516.jpg'),\n",
       " Path('paddy-disease-classification/train_images/blast/104559.jpg'),\n",
       " Path('paddy-disease-classification/train_images/blast/104572.jpg'),\n",
       " Path('paddy-disease-classification/train_images/blast/104647.jpg'),\n",
       " Path('paddy-disease-classification/train_images/blast/104650.jpg'),\n",
       " Path('paddy-disease-classification/train_images/blast/104760.jpg'),\n",
       " Path('paddy-disease-classification/train_images/blast/104783.jpg'),\n",
       " Path('paddy-disease-classification/train_images/blast/104813.jpg'),\n",
       " Path('paddy-disease-classification/train_images/blast/104825.jpg'),\n",
       " Path('paddy-disease-classification/train_images/blast/104832.jpg'),\n",
       " Path('paddy-disease-classification/train_images/blast/104934.jpg'),\n",
       " Path('paddy-disease-classification/train_images/blast/104965.jpg'),\n",
       " Path('paddy-disease-classification/train_images/blast/105131.jpg'),\n",
       " Path('paddy-disease-classification/train_images/blast/105173.jpg'),\n",
       " Path('paddy-disease-classification/train_images/blast/105177.jpg'),\n",
       " Path('paddy-disease-classification/train_images/blast/105202.jpg'),\n",
       " Path('paddy-disease-classification/train_images/blast/105204.jpg'),\n",
       " Path('paddy-disease-classification/train_images/blast/105226.jpg'),\n",
       " Path('paddy-disease-classification/train_images/blast/105233.jpg'),\n",
       " Path('paddy-disease-classification/train_images/blast/105234.jpg'),\n",
       " Path('paddy-disease-classification/train_images/blast/105257.jpg'),\n",
       " Path('paddy-disease-classification/train_images/blast/105300.jpg'),\n",
       " Path('paddy-disease-classification/train_images/blast/105342.jpg'),\n",
       " Path('paddy-disease-classification/train_images/blast/105352.jpg'),\n",
       " Path('paddy-disease-classification/train_images/blast/105358.jpg'),\n",
       " Path('paddy-disease-classification/train_images/blast/105396.jpg'),\n",
       " Path('paddy-disease-classification/train_images/blast/105411.jpg'),\n",
       " Path('paddy-disease-classification/train_images/blast/105458.jpg'),\n",
       " Path('paddy-disease-classification/train_images/blast/105466.jpg'),\n",
       " Path('paddy-disease-classification/train_images/blast/105507.jpg'),\n",
       " Path('paddy-disease-classification/train_images/blast/105517.jpg'),\n",
       " Path('paddy-disease-classification/train_images/blast/105528.jpg'),\n",
       " Path('paddy-disease-classification/train_images/blast/105531.jpg'),\n",
       " Path('paddy-disease-classification/train_images/blast/105566.jpg'),\n",
       " Path('paddy-disease-classification/train_images/blast/105613.jpg'),\n",
       " Path('paddy-disease-classification/train_images/blast/105658.jpg'),\n",
       " Path('paddy-disease-classification/train_images/blast/105665.jpg'),\n",
       " Path('paddy-disease-classification/train_images/blast/105682.jpg'),\n",
       " Path('paddy-disease-classification/train_images/blast/105687.jpg'),\n",
       " Path('paddy-disease-classification/train_images/blast/105695.jpg'),\n",
       " Path('paddy-disease-classification/train_images/blast/105721.jpg'),\n",
       " Path('paddy-disease-classification/train_images/blast/105757.jpg'),\n",
       " Path('paddy-disease-classification/train_images/blast/105781.jpg'),\n",
       " Path('paddy-disease-classification/train_images/blast/105796.jpg'),\n",
       " Path('paddy-disease-classification/train_images/blast/105803.jpg'),\n",
       " Path('paddy-disease-classification/train_images/blast/105854.jpg'),\n",
       " Path('paddy-disease-classification/train_images/blast/105882.jpg'),\n",
       " Path('paddy-disease-classification/train_images/blast/105888.jpg'),\n",
       " Path('paddy-disease-classification/train_images/blast/105915.jpg'),\n",
       " Path('paddy-disease-classification/train_images/blast/105932.jpg'),\n",
       " Path('paddy-disease-classification/train_images/blast/105945.jpg'),\n",
       " Path('paddy-disease-classification/train_images/blast/105957.jpg'),\n",
       " Path('paddy-disease-classification/train_images/blast/106044.jpg'),\n",
       " Path('paddy-disease-classification/train_images/blast/106057.jpg'),\n",
       " Path('paddy-disease-classification/train_images/blast/106069.jpg'),\n",
       " Path('paddy-disease-classification/train_images/blast/106072.jpg'),\n",
       " Path('paddy-disease-classification/train_images/blast/106102.jpg'),\n",
       " Path('paddy-disease-classification/train_images/blast/106172.jpg'),\n",
       " Path('paddy-disease-classification/train_images/blast/106249.jpg'),\n",
       " Path('paddy-disease-classification/train_images/blast/106255.jpg'),\n",
       " Path('paddy-disease-classification/train_images/blast/106341.jpg'),\n",
       " Path('paddy-disease-classification/train_images/blast/106354.jpg'),\n",
       " Path('paddy-disease-classification/train_images/blast/106384.jpg'),\n",
       " Path('paddy-disease-classification/train_images/blast/106453.jpg'),\n",
       " Path('paddy-disease-classification/train_images/blast/106486.jpg'),\n",
       " Path('paddy-disease-classification/train_images/blast/106494.jpg'),\n",
       " Path('paddy-disease-classification/train_images/blast/106513.jpg'),\n",
       " Path('paddy-disease-classification/train_images/blast/106548.jpg'),\n",
       " Path('paddy-disease-classification/train_images/blast/106557.jpg'),\n",
       " Path('paddy-disease-classification/train_images/blast/106644.jpg'),\n",
       " Path('paddy-disease-classification/train_images/blast/106693.jpg'),\n",
       " Path('paddy-disease-classification/train_images/blast/106696.jpg'),\n",
       " Path('paddy-disease-classification/train_images/blast/106709.jpg'),\n",
       " Path('paddy-disease-classification/train_images/blast/106730.jpg'),\n",
       " Path('paddy-disease-classification/train_images/blast/106767.jpg'),\n",
       " Path('paddy-disease-classification/train_images/blast/107119.jpg'),\n",
       " Path('paddy-disease-classification/train_images/blast/107132.jpg'),\n",
       " Path('paddy-disease-classification/train_images/blast/107176.jpg'),\n",
       " Path('paddy-disease-classification/train_images/blast/107194.jpg'),\n",
       " Path('paddy-disease-classification/train_images/blast/107227.jpg'),\n",
       " Path('paddy-disease-classification/train_images/blast/107235.jpg'),\n",
       " Path('paddy-disease-classification/train_images/blast/107249.jpg'),\n",
       " Path('paddy-disease-classification/train_images/blast/107265.jpg'),\n",
       " Path('paddy-disease-classification/train_images/blast/107301.jpg'),\n",
       " Path('paddy-disease-classification/train_images/blast/107344.jpg'),\n",
       " Path('paddy-disease-classification/train_images/blast/107354.jpg'),\n",
       " Path('paddy-disease-classification/train_images/blast/107370.jpg'),\n",
       " Path('paddy-disease-classification/train_images/blast/107395.jpg'),\n",
       " Path('paddy-disease-classification/train_images/blast/107398.jpg'),\n",
       " Path('paddy-disease-classification/train_images/blast/107411.jpg'),\n",
       " Path('paddy-disease-classification/train_images/blast/107530.jpg'),\n",
       " Path('paddy-disease-classification/train_images/blast/107663.jpg'),\n",
       " Path('paddy-disease-classification/train_images/blast/107713.jpg'),\n",
       " Path('paddy-disease-classification/train_images/blast/107775.jpg'),\n",
       " Path('paddy-disease-classification/train_images/blast/107781.jpg'),\n",
       " Path('paddy-disease-classification/train_images/blast/107790.jpg'),\n",
       " Path('paddy-disease-classification/train_images/blast/107965.jpg'),\n",
       " Path('paddy-disease-classification/train_images/blast/107970.jpg'),\n",
       " Path('paddy-disease-classification/train_images/blast/107974.jpg'),\n",
       " Path('paddy-disease-classification/train_images/blast/107999.jpg'),\n",
       " Path('paddy-disease-classification/train_images/blast/108025.jpg'),\n",
       " Path('paddy-disease-classification/train_images/blast/108059.jpg'),\n",
       " Path('paddy-disease-classification/train_images/blast/108130.jpg'),\n",
       " Path('paddy-disease-classification/train_images/blast/108143.jpg'),\n",
       " Path('paddy-disease-classification/train_images/blast/108163.jpg'),\n",
       " Path('paddy-disease-classification/train_images/blast/108221.jpg'),\n",
       " Path('paddy-disease-classification/train_images/blast/108399.jpg'),\n",
       " Path('paddy-disease-classification/train_images/blast/108403.jpg'),\n",
       " Path('paddy-disease-classification/train_images/blast/108405.jpg'),\n",
       " Path('paddy-disease-classification/train_images/blast/108448.jpg'),\n",
       " Path('paddy-disease-classification/train_images/blast/108451.jpg'),\n",
       " Path('paddy-disease-classification/train_images/blast/108470.jpg'),\n",
       " Path('paddy-disease-classification/train_images/blast/108475.jpg'),\n",
       " Path('paddy-disease-classification/train_images/blast/108494.jpg'),\n",
       " Path('paddy-disease-classification/train_images/blast/108514.jpg'),\n",
       " Path('paddy-disease-classification/train_images/blast/108527.jpg'),\n",
       " Path('paddy-disease-classification/train_images/blast/108531.jpg'),\n",
       " Path('paddy-disease-classification/train_images/blast/108601.jpg'),\n",
       " Path('paddy-disease-classification/train_images/blast/108704.jpg'),\n",
       " Path('paddy-disease-classification/train_images/blast/108719.jpg'),\n",
       " Path('paddy-disease-classification/train_images/blast/108778.jpg'),\n",
       " Path('paddy-disease-classification/train_images/blast/108804.jpg'),\n",
       " Path('paddy-disease-classification/train_images/blast/108891.jpg'),\n",
       " Path('paddy-disease-classification/train_images/blast/108987.jpg'),\n",
       " Path('paddy-disease-classification/train_images/blast/109017.jpg'),\n",
       " Path('paddy-disease-classification/train_images/blast/109075.jpg'),\n",
       " Path('paddy-disease-classification/train_images/blast/109083.jpg'),\n",
       " Path('paddy-disease-classification/train_images/blast/109104.jpg'),\n",
       " Path('paddy-disease-classification/train_images/blast/109192.jpg'),\n",
       " Path('paddy-disease-classification/train_images/blast/109195.jpg'),\n",
       " Path('paddy-disease-classification/train_images/blast/109225.jpg'),\n",
       " Path('paddy-disease-classification/train_images/blast/109256.jpg'),\n",
       " Path('paddy-disease-classification/train_images/blast/109293.jpg'),\n",
       " Path('paddy-disease-classification/train_images/blast/109302.jpg'),\n",
       " Path('paddy-disease-classification/train_images/blast/109308.jpg'),\n",
       " Path('paddy-disease-classification/train_images/blast/109313.jpg'),\n",
       " Path('paddy-disease-classification/train_images/blast/109402.jpg'),\n",
       " Path('paddy-disease-classification/train_images/blast/109507.jpg'),\n",
       " Path('paddy-disease-classification/train_images/blast/109510.jpg'),\n",
       " Path('paddy-disease-classification/train_images/blast/109541.jpg'),\n",
       " Path('paddy-disease-classification/train_images/blast/109549.jpg'),\n",
       " Path('paddy-disease-classification/train_images/blast/109551.jpg'),\n",
       " Path('paddy-disease-classification/train_images/blast/109562.jpg'),\n",
       " Path('paddy-disease-classification/train_images/blast/109564.jpg'),\n",
       " Path('paddy-disease-classification/train_images/blast/109572.jpg'),\n",
       " Path('paddy-disease-classification/train_images/blast/109665.jpg'),\n",
       " Path('paddy-disease-classification/train_images/blast/109667.jpg'),\n",
       " Path('paddy-disease-classification/train_images/blast/109670.jpg'),\n",
       " Path('paddy-disease-classification/train_images/blast/109685.jpg'),\n",
       " Path('paddy-disease-classification/train_images/blast/109699.jpg'),\n",
       " Path('paddy-disease-classification/train_images/blast/109717.jpg'),\n",
       " Path('paddy-disease-classification/train_images/blast/109724.jpg'),\n",
       " Path('paddy-disease-classification/train_images/blast/109744.jpg'),\n",
       " Path('paddy-disease-classification/train_images/blast/109751.jpg'),\n",
       " Path('paddy-disease-classification/train_images/blast/109761.jpg'),\n",
       " Path('paddy-disease-classification/train_images/blast/109780.jpg'),\n",
       " Path('paddy-disease-classification/train_images/blast/109812.jpg'),\n",
       " Path('paddy-disease-classification/train_images/blast/109854.jpg'),\n",
       " Path('paddy-disease-classification/train_images/blast/109874.jpg'),\n",
       " Path('paddy-disease-classification/train_images/blast/109903.jpg'),\n",
       " Path('paddy-disease-classification/train_images/blast/109909.jpg'),\n",
       " Path('paddy-disease-classification/train_images/blast/110003.jpg'),\n",
       " Path('paddy-disease-classification/train_images/blast/110025.jpg'),\n",
       " Path('paddy-disease-classification/train_images/blast/110027.jpg'),\n",
       " Path('paddy-disease-classification/train_images/blast/110043.jpg'),\n",
       " Path('paddy-disease-classification/train_images/blast/110078.jpg'),\n",
       " Path('paddy-disease-classification/train_images/blast/110086.jpg'),\n",
       " Path('paddy-disease-classification/train_images/blast/110099.jpg'),\n",
       " Path('paddy-disease-classification/train_images/blast/110109.jpg'),\n",
       " Path('paddy-disease-classification/train_images/blast/110186.jpg'),\n",
       " Path('paddy-disease-classification/train_images/blast/110203.jpg'),\n",
       " Path('paddy-disease-classification/train_images/blast/110235.jpg'),\n",
       " Path('paddy-disease-classification/train_images/blast/110254.jpg'),\n",
       " Path('paddy-disease-classification/train_images/blast/110278.jpg'),\n",
       " Path('paddy-disease-classification/train_images/blast/110305.jpg'),\n",
       " Path('paddy-disease-classification/train_images/blast/110326.jpg'),\n",
       " Path('paddy-disease-classification/train_images/blast/110360.jpg'),\n",
       " Path('paddy-disease-classification/train_images/blast/110368.jpg'),\n",
       " Path('paddy-disease-classification/train_images/brown_spot/100035.jpg'),\n",
       " Path('paddy-disease-classification/train_images/brown_spot/100099.jpg'),\n",
       " Path('paddy-disease-classification/train_images/brown_spot/100142.jpg'),\n",
       " Path('paddy-disease-classification/train_images/brown_spot/100191.jpg'),\n",
       " Path('paddy-disease-classification/train_images/brown_spot/100229.jpg'),\n",
       " Path('paddy-disease-classification/train_images/brown_spot/100361.jpg'),\n",
       " Path('paddy-disease-classification/train_images/brown_spot/100475.jpg'),\n",
       " Path('paddy-disease-classification/train_images/brown_spot/100528.jpg'),\n",
       " Path('paddy-disease-classification/train_images/brown_spot/100574.jpg'),\n",
       " Path('paddy-disease-classification/train_images/brown_spot/100608.jpg'),\n",
       " Path('paddy-disease-classification/train_images/brown_spot/100615.jpg'),\n",
       " Path('paddy-disease-classification/train_images/brown_spot/100832.jpg'),\n",
       " Path('paddy-disease-classification/train_images/brown_spot/100897.jpg'),\n",
       " Path('paddy-disease-classification/train_images/brown_spot/100906.jpg'),\n",
       " Path('paddy-disease-classification/train_images/brown_spot/100937.jpg'),\n",
       " Path('paddy-disease-classification/train_images/brown_spot/100971.jpg'),\n",
       " Path('paddy-disease-classification/train_images/brown_spot/101190.jpg'),\n",
       " Path('paddy-disease-classification/train_images/brown_spot/101282.jpg'),\n",
       " Path('paddy-disease-classification/train_images/brown_spot/101332.jpg'),\n",
       " Path('paddy-disease-classification/train_images/brown_spot/101436.jpg'),\n",
       " Path('paddy-disease-classification/train_images/brown_spot/101440.jpg'),\n",
       " Path('paddy-disease-classification/train_images/brown_spot/101545.jpg'),\n",
       " Path('paddy-disease-classification/train_images/brown_spot/101635.jpg'),\n",
       " Path('paddy-disease-classification/train_images/brown_spot/101713.jpg'),\n",
       " Path('paddy-disease-classification/train_images/brown_spot/101745.jpg'),\n",
       " Path('paddy-disease-classification/train_images/brown_spot/101797.jpg'),\n",
       " Path('paddy-disease-classification/train_images/brown_spot/101839.jpg'),\n",
       " Path('paddy-disease-classification/train_images/brown_spot/101908.jpg'),\n",
       " Path('paddy-disease-classification/train_images/brown_spot/101985.jpg'),\n",
       " Path('paddy-disease-classification/train_images/brown_spot/102053.jpg'),\n",
       " Path('paddy-disease-classification/train_images/brown_spot/102264.jpg'),\n",
       " Path('paddy-disease-classification/train_images/brown_spot/102389.jpg'),\n",
       " Path('paddy-disease-classification/train_images/brown_spot/102390.jpg'),\n",
       " Path('paddy-disease-classification/train_images/brown_spot/102506.jpg'),\n",
       " Path('paddy-disease-classification/train_images/brown_spot/102525.jpg'),\n",
       " Path('paddy-disease-classification/train_images/brown_spot/102533.jpg'),\n",
       " Path('paddy-disease-classification/train_images/brown_spot/102596.jpg'),\n",
       " Path('paddy-disease-classification/train_images/brown_spot/102827.jpg'),\n",
       " Path('paddy-disease-classification/train_images/brown_spot/102859.jpg'),\n",
       " Path('paddy-disease-classification/train_images/brown_spot/102932.jpg'),\n",
       " Path('paddy-disease-classification/train_images/brown_spot/103004.jpg'),\n",
       " Path('paddy-disease-classification/train_images/brown_spot/103041.jpg'),\n",
       " Path('paddy-disease-classification/train_images/brown_spot/103084.jpg'),\n",
       " Path('paddy-disease-classification/train_images/brown_spot/103099.jpg'),\n",
       " Path('paddy-disease-classification/train_images/brown_spot/103104.jpg'),\n",
       " Path('paddy-disease-classification/train_images/brown_spot/103116.jpg'),\n",
       " Path('paddy-disease-classification/train_images/brown_spot/103448.jpg'),\n",
       " Path('paddy-disease-classification/train_images/brown_spot/103456.jpg'),\n",
       " Path('paddy-disease-classification/train_images/brown_spot/103482.jpg'),\n",
       " Path('paddy-disease-classification/train_images/brown_spot/103592.jpg'),\n",
       " Path('paddy-disease-classification/train_images/brown_spot/103595.jpg'),\n",
       " Path('paddy-disease-classification/train_images/brown_spot/103596.jpg'),\n",
       " Path('paddy-disease-classification/train_images/brown_spot/103610.jpg'),\n",
       " Path('paddy-disease-classification/train_images/brown_spot/103621.jpg'),\n",
       " Path('paddy-disease-classification/train_images/brown_spot/103630.jpg'),\n",
       " Path('paddy-disease-classification/train_images/brown_spot/103683.jpg'),\n",
       " Path('paddy-disease-classification/train_images/brown_spot/103700.jpg'),\n",
       " Path('paddy-disease-classification/train_images/brown_spot/103726.jpg'),\n",
       " Path('paddy-disease-classification/train_images/brown_spot/103884.jpg'),\n",
       " Path('paddy-disease-classification/train_images/brown_spot/103903.jpg'),\n",
       " Path('paddy-disease-classification/train_images/brown_spot/104004.jpg'),\n",
       " Path('paddy-disease-classification/train_images/brown_spot/104014.jpg'),\n",
       " Path('paddy-disease-classification/train_images/brown_spot/104024.jpg'),\n",
       " Path('paddy-disease-classification/train_images/brown_spot/104084.jpg'),\n",
       " Path('paddy-disease-classification/train_images/brown_spot/104104.jpg'),\n",
       " Path('paddy-disease-classification/train_images/brown_spot/104157.jpg'),\n",
       " Path('paddy-disease-classification/train_images/brown_spot/104165.jpg'),\n",
       " Path('paddy-disease-classification/train_images/brown_spot/104212.jpg'),\n",
       " Path('paddy-disease-classification/train_images/brown_spot/104238.jpg'),\n",
       " Path('paddy-disease-classification/train_images/brown_spot/104358.jpg'),\n",
       " Path('paddy-disease-classification/train_images/brown_spot/104493.jpg'),\n",
       " Path('paddy-disease-classification/train_images/brown_spot/104506.jpg'),\n",
       " Path('paddy-disease-classification/train_images/brown_spot/104574.jpg'),\n",
       " Path('paddy-disease-classification/train_images/brown_spot/104632.jpg'),\n",
       " Path('paddy-disease-classification/train_images/brown_spot/104686.jpg'),\n",
       " Path('paddy-disease-classification/train_images/brown_spot/104689.jpg'),\n",
       " Path('paddy-disease-classification/train_images/brown_spot/104771.jpg'),\n",
       " Path('paddy-disease-classification/train_images/brown_spot/104817.jpg'),\n",
       " Path('paddy-disease-classification/train_images/brown_spot/104839.jpg'),\n",
       " Path('paddy-disease-classification/train_images/brown_spot/104887.jpg'),\n",
       " Path('paddy-disease-classification/train_images/brown_spot/104954.jpg'),\n",
       " Path('paddy-disease-classification/train_images/brown_spot/104962.jpg'),\n",
       " Path('paddy-disease-classification/train_images/brown_spot/105270.jpg'),\n",
       " Path('paddy-disease-classification/train_images/brown_spot/105281.jpg'),\n",
       " Path('paddy-disease-classification/train_images/brown_spot/105344.jpg'),\n",
       " Path('paddy-disease-classification/train_images/brown_spot/105385.jpg'),\n",
       " Path('paddy-disease-classification/train_images/brown_spot/105551.jpg'),\n",
       " Path('paddy-disease-classification/train_images/brown_spot/105582.jpg'),\n",
       " Path('paddy-disease-classification/train_images/brown_spot/105668.jpg'),\n",
       " Path('paddy-disease-classification/train_images/brown_spot/105758.jpg'),\n",
       " Path('paddy-disease-classification/train_images/brown_spot/105763.jpg'),\n",
       " Path('paddy-disease-classification/train_images/brown_spot/105787.jpg'),\n",
       " Path('paddy-disease-classification/train_images/brown_spot/105800.jpg'),\n",
       " Path('paddy-disease-classification/train_images/brown_spot/105868.jpg'),\n",
       " Path('paddy-disease-classification/train_images/brown_spot/105885.jpg'),\n",
       " Path('paddy-disease-classification/train_images/brown_spot/105966.jpg'),\n",
       " Path('paddy-disease-classification/train_images/brown_spot/105968.jpg'),\n",
       " Path('paddy-disease-classification/train_images/brown_spot/105989.jpg'),\n",
       " Path('paddy-disease-classification/train_images/brown_spot/106009.jpg'),\n",
       " Path('paddy-disease-classification/train_images/brown_spot/106080.jpg'),\n",
       " Path('paddy-disease-classification/train_images/brown_spot/106133.jpg'),\n",
       " Path('paddy-disease-classification/train_images/brown_spot/106156.jpg'),\n",
       " Path('paddy-disease-classification/train_images/brown_spot/106204.jpg'),\n",
       " Path('paddy-disease-classification/train_images/brown_spot/106248.jpg'),\n",
       " Path('paddy-disease-classification/train_images/brown_spot/106259.jpg'),\n",
       " Path('paddy-disease-classification/train_images/brown_spot/106314.jpg'),\n",
       " Path('paddy-disease-classification/train_images/brown_spot/106367.jpg'),\n",
       " Path('paddy-disease-classification/train_images/brown_spot/106396.jpg'),\n",
       " Path('paddy-disease-classification/train_images/brown_spot/106421.jpg'),\n",
       " Path('paddy-disease-classification/train_images/brown_spot/106483.jpg'),\n",
       " Path('paddy-disease-classification/train_images/brown_spot/106497.jpg'),\n",
       " Path('paddy-disease-classification/train_images/brown_spot/106547.jpg'),\n",
       " Path('paddy-disease-classification/train_images/brown_spot/106671.jpg'),\n",
       " Path('paddy-disease-classification/train_images/brown_spot/106676.jpg'),\n",
       " Path('paddy-disease-classification/train_images/brown_spot/106780.jpg'),\n",
       " Path('paddy-disease-classification/train_images/brown_spot/106890.jpg'),\n",
       " Path('paddy-disease-classification/train_images/brown_spot/106948.jpg'),\n",
       " Path('paddy-disease-classification/train_images/brown_spot/106952.jpg'),\n",
       " Path('paddy-disease-classification/train_images/brown_spot/106957.jpg'),\n",
       " Path('paddy-disease-classification/train_images/brown_spot/106962.jpg'),\n",
       " Path('paddy-disease-classification/train_images/brown_spot/107017.jpg'),\n",
       " Path('paddy-disease-classification/train_images/brown_spot/107075.jpg'),\n",
       " Path('paddy-disease-classification/train_images/brown_spot/107140.jpg'),\n",
       " Path('paddy-disease-classification/train_images/brown_spot/107229.jpg'),\n",
       " Path('paddy-disease-classification/train_images/brown_spot/107320.jpg'),\n",
       " Path('paddy-disease-classification/train_images/brown_spot/107359.jpg'),\n",
       " Path('paddy-disease-classification/train_images/brown_spot/107361.jpg'),\n",
       " Path('paddy-disease-classification/train_images/brown_spot/107413.jpg'),\n",
       " Path('paddy-disease-classification/train_images/brown_spot/107462.jpg'),\n",
       " Path('paddy-disease-classification/train_images/brown_spot/107464.jpg'),\n",
       " Path('paddy-disease-classification/train_images/brown_spot/107531.jpg'),\n",
       " Path('paddy-disease-classification/train_images/brown_spot/107539.jpg'),\n",
       " Path('paddy-disease-classification/train_images/brown_spot/107558.jpg'),\n",
       " Path('paddy-disease-classification/train_images/brown_spot/107589.jpg'),\n",
       " Path('paddy-disease-classification/train_images/brown_spot/107668.jpg'),\n",
       " Path('paddy-disease-classification/train_images/brown_spot/107720.jpg'),\n",
       " Path('paddy-disease-classification/train_images/brown_spot/107776.jpg'),\n",
       " Path('paddy-disease-classification/train_images/brown_spot/107795.jpg'),\n",
       " Path('paddy-disease-classification/train_images/brown_spot/107821.jpg'),\n",
       " Path('paddy-disease-classification/train_images/brown_spot/107849.jpg'),\n",
       " Path('paddy-disease-classification/train_images/brown_spot/107923.jpg'),\n",
       " Path('paddy-disease-classification/train_images/brown_spot/107941.jpg'),\n",
       " Path('paddy-disease-classification/train_images/brown_spot/107995.jpg'),\n",
       " Path('paddy-disease-classification/train_images/brown_spot/108053.jpg'),\n",
       " Path('paddy-disease-classification/train_images/brown_spot/108096.jpg'),\n",
       " Path('paddy-disease-classification/train_images/brown_spot/108116.jpg'),\n",
       " Path('paddy-disease-classification/train_images/brown_spot/108214.jpg'),\n",
       " Path('paddy-disease-classification/train_images/brown_spot/108277.jpg'),\n",
       " Path('paddy-disease-classification/train_images/brown_spot/108279.jpg'),\n",
       " Path('paddy-disease-classification/train_images/brown_spot/108290.jpg'),\n",
       " Path('paddy-disease-classification/train_images/brown_spot/108295.jpg'),\n",
       " Path('paddy-disease-classification/train_images/brown_spot/108318.jpg'),\n",
       " Path('paddy-disease-classification/train_images/brown_spot/108319.jpg'),\n",
       " Path('paddy-disease-classification/train_images/brown_spot/108346.jpg'),\n",
       " Path('paddy-disease-classification/train_images/brown_spot/108356.jpg'),\n",
       " Path('paddy-disease-classification/train_images/brown_spot/108502.jpg'),\n",
       " Path('paddy-disease-classification/train_images/brown_spot/108587.jpg'),\n",
       " Path('paddy-disease-classification/train_images/brown_spot/108647.jpg'),\n",
       " Path('paddy-disease-classification/train_images/brown_spot/108661.jpg'),\n",
       " Path('paddy-disease-classification/train_images/brown_spot/108739.jpg'),\n",
       " Path('paddy-disease-classification/train_images/brown_spot/108816.jpg'),\n",
       " Path('paddy-disease-classification/train_images/brown_spot/108897.jpg'),\n",
       " Path('paddy-disease-classification/train_images/brown_spot/108985.jpg'),\n",
       " Path('paddy-disease-classification/train_images/brown_spot/109113.jpg'),\n",
       " Path('paddy-disease-classification/train_images/brown_spot/109141.jpg'),\n",
       " Path('paddy-disease-classification/train_images/brown_spot/109285.jpg'),\n",
       " Path('paddy-disease-classification/train_images/brown_spot/109299.jpg'),\n",
       " Path('paddy-disease-classification/train_images/brown_spot/109337.jpg'),\n",
       " Path('paddy-disease-classification/train_images/brown_spot/109405.jpg'),\n",
       " Path('paddy-disease-classification/train_images/brown_spot/109469.jpg'),\n",
       " Path('paddy-disease-classification/train_images/brown_spot/109515.jpg'),\n",
       " Path('paddy-disease-classification/train_images/brown_spot/109569.jpg'),\n",
       " Path('paddy-disease-classification/train_images/brown_spot/109576.jpg'),\n",
       " Path('paddy-disease-classification/train_images/brown_spot/109585.jpg'),\n",
       " Path('paddy-disease-classification/train_images/brown_spot/109596.jpg'),\n",
       " Path('paddy-disease-classification/train_images/brown_spot/109601.jpg'),\n",
       " Path('paddy-disease-classification/train_images/brown_spot/109641.jpg'),\n",
       " Path('paddy-disease-classification/train_images/brown_spot/109696.jpg'),\n",
       " Path('paddy-disease-classification/train_images/brown_spot/109698.jpg'),\n",
       " Path('paddy-disease-classification/train_images/brown_spot/109726.jpg'),\n",
       " Path('paddy-disease-classification/train_images/brown_spot/109734.jpg'),\n",
       " Path('paddy-disease-classification/train_images/brown_spot/109746.jpg'),\n",
       " Path('paddy-disease-classification/train_images/brown_spot/109763.jpg'),\n",
       " Path('paddy-disease-classification/train_images/brown_spot/109809.jpg'),\n",
       " Path('paddy-disease-classification/train_images/brown_spot/109835.jpg'),\n",
       " Path('paddy-disease-classification/train_images/brown_spot/109837.jpg'),\n",
       " Path('paddy-disease-classification/train_images/brown_spot/109964.jpg'),\n",
       " Path('paddy-disease-classification/train_images/brown_spot/110141.jpg'),\n",
       " Path('paddy-disease-classification/train_images/brown_spot/110211.jpg'),\n",
       " Path('paddy-disease-classification/train_images/brown_spot/110257.jpg'),\n",
       " Path('paddy-disease-classification/train_images/brown_spot/110340.jpg'),\n",
       " Path('paddy-disease-classification/train_images/brown_spot/110371.jpg'),\n",
       " Path('paddy-disease-classification/train_images/brown_spot/110407.jpg'),\n",
       " Path('paddy-disease-classification/train_images/dead_heart/100029.jpg'),\n",
       " Path('paddy-disease-classification/train_images/dead_heart/100107.jpg'),\n",
       " Path('paddy-disease-classification/train_images/dead_heart/100259.jpg'),\n",
       " Path('paddy-disease-classification/train_images/dead_heart/100305.jpg'),\n",
       " Path('paddy-disease-classification/train_images/dead_heart/100309.jpg'),\n",
       " Path('paddy-disease-classification/train_images/dead_heart/100326.jpg'),\n",
       " Path('paddy-disease-classification/train_images/dead_heart/100353.jpg'),\n",
       " Path('paddy-disease-classification/train_images/dead_heart/100407.jpg'),\n",
       " Path('paddy-disease-classification/train_images/dead_heart/100450.jpg'),\n",
       " Path('paddy-disease-classification/train_images/dead_heart/100551.jpg'),\n",
       " Path('paddy-disease-classification/train_images/dead_heart/100584.jpg'),\n",
       " Path('paddy-disease-classification/train_images/dead_heart/100589.jpg'),\n",
       " Path('paddy-disease-classification/train_images/dead_heart/100624.jpg'),\n",
       " Path('paddy-disease-classification/train_images/dead_heart/100641.jpg'),\n",
       " Path('paddy-disease-classification/train_images/dead_heart/100668.jpg'),\n",
       " Path('paddy-disease-classification/train_images/dead_heart/100672.jpg'),\n",
       " Path('paddy-disease-classification/train_images/dead_heart/100684.jpg'),\n",
       " Path('paddy-disease-classification/train_images/dead_heart/100688.jpg'),\n",
       " Path('paddy-disease-classification/train_images/dead_heart/100748.jpg'),\n",
       " Path('paddy-disease-classification/train_images/dead_heart/100766.jpg'),\n",
       " Path('paddy-disease-classification/train_images/dead_heart/100803.jpg'),\n",
       " Path('paddy-disease-classification/train_images/dead_heart/100807.jpg'),\n",
       " Path('paddy-disease-classification/train_images/dead_heart/100833.jpg'),\n",
       " Path('paddy-disease-classification/train_images/dead_heart/100845.jpg'),\n",
       " Path('paddy-disease-classification/train_images/dead_heart/100859.jpg'),\n",
       " Path('paddy-disease-classification/train_images/dead_heart/100882.jpg'),\n",
       " Path('paddy-disease-classification/train_images/dead_heart/100957.jpg'),\n",
       " Path('paddy-disease-classification/train_images/dead_heart/100966.jpg'),\n",
       " Path('paddy-disease-classification/train_images/dead_heart/100996.jpg'),\n",
       " Path('paddy-disease-classification/train_images/dead_heart/101053.jpg'),\n",
       " Path('paddy-disease-classification/train_images/dead_heart/101064.jpg'),\n",
       " Path('paddy-disease-classification/train_images/dead_heart/101124.jpg'),\n",
       " Path('paddy-disease-classification/train_images/dead_heart/101136.jpg'),\n",
       " Path('paddy-disease-classification/train_images/dead_heart/101196.jpg'),\n",
       " Path('paddy-disease-classification/train_images/dead_heart/101239.jpg'),\n",
       " Path('paddy-disease-classification/train_images/dead_heart/101287.jpg'),\n",
       " Path('paddy-disease-classification/train_images/dead_heart/101296.jpg'),\n",
       " Path('paddy-disease-classification/train_images/dead_heart/101329.jpg'),\n",
       " Path('paddy-disease-classification/train_images/dead_heart/101403.jpg'),\n",
       " Path('paddy-disease-classification/train_images/dead_heart/101480.jpg'),\n",
       " Path('paddy-disease-classification/train_images/dead_heart/101494.jpg'),\n",
       " Path('paddy-disease-classification/train_images/dead_heart/101582.jpg'),\n",
       " Path('paddy-disease-classification/train_images/dead_heart/101588.jpg'),\n",
       " Path('paddy-disease-classification/train_images/dead_heart/101714.jpg'),\n",
       " Path('paddy-disease-classification/train_images/dead_heart/101719.jpg'),\n",
       " Path('paddy-disease-classification/train_images/dead_heart/101724.jpg'),\n",
       " Path('paddy-disease-classification/train_images/dead_heart/101736.jpg'),\n",
       " Path('paddy-disease-classification/train_images/dead_heart/101792.jpg'),\n",
       " Path('paddy-disease-classification/train_images/dead_heart/101851.jpg'),\n",
       " Path('paddy-disease-classification/train_images/dead_heart/101863.jpg'),\n",
       " Path('paddy-disease-classification/train_images/dead_heart/101866.jpg'),\n",
       " Path('paddy-disease-classification/train_images/dead_heart/101868.jpg'),\n",
       " Path('paddy-disease-classification/train_images/dead_heart/101881.jpg'),\n",
       " Path('paddy-disease-classification/train_images/dead_heart/101909.jpg'),\n",
       " Path('paddy-disease-classification/train_images/dead_heart/101942.jpg'),\n",
       " Path('paddy-disease-classification/train_images/dead_heart/101963.jpg'),\n",
       " Path('paddy-disease-classification/train_images/dead_heart/102023.jpg'),\n",
       " Path('paddy-disease-classification/train_images/dead_heart/102093.jpg'),\n",
       " Path('paddy-disease-classification/train_images/dead_heart/102094.jpg'),\n",
       " Path('paddy-disease-classification/train_images/dead_heart/102097.jpg'),\n",
       " Path('paddy-disease-classification/train_images/dead_heart/102112.jpg'),\n",
       " Path('paddy-disease-classification/train_images/dead_heart/102134.jpg'),\n",
       " Path('paddy-disease-classification/train_images/dead_heart/102145.jpg'),\n",
       " Path('paddy-disease-classification/train_images/dead_heart/102154.jpg'),\n",
       " Path('paddy-disease-classification/train_images/dead_heart/102162.jpg'),\n",
       " Path('paddy-disease-classification/train_images/dead_heart/102207.jpg'),\n",
       " Path('paddy-disease-classification/train_images/dead_heart/102307.jpg'),\n",
       " Path('paddy-disease-classification/train_images/dead_heart/102351.jpg'),\n",
       " Path('paddy-disease-classification/train_images/dead_heart/102356.jpg'),\n",
       " Path('paddy-disease-classification/train_images/dead_heart/102360.jpg'),\n",
       " Path('paddy-disease-classification/train_images/dead_heart/102418.jpg'),\n",
       " Path('paddy-disease-classification/train_images/dead_heart/102513.jpg'),\n",
       " Path('paddy-disease-classification/train_images/dead_heart/102529.jpg'),\n",
       " Path('paddy-disease-classification/train_images/dead_heart/102569.jpg'),\n",
       " Path('paddy-disease-classification/train_images/dead_heart/102575.jpg'),\n",
       " Path('paddy-disease-classification/train_images/dead_heart/102590.jpg'),\n",
       " Path('paddy-disease-classification/train_images/dead_heart/102603.jpg'),\n",
       " Path('paddy-disease-classification/train_images/dead_heart/102631.jpg'),\n",
       " Path('paddy-disease-classification/train_images/dead_heart/102666.jpg'),\n",
       " Path('paddy-disease-classification/train_images/dead_heart/102727.jpg'),\n",
       " Path('paddy-disease-classification/train_images/dead_heart/102736.jpg'),\n",
       " Path('paddy-disease-classification/train_images/dead_heart/102792.jpg'),\n",
       " Path('paddy-disease-classification/train_images/dead_heart/102819.jpg'),\n",
       " Path('paddy-disease-classification/train_images/dead_heart/102834.jpg'),\n",
       " Path('paddy-disease-classification/train_images/dead_heart/102870.jpg'),\n",
       " Path('paddy-disease-classification/train_images/dead_heart/102872.jpg'),\n",
       " Path('paddy-disease-classification/train_images/dead_heart/102876.jpg'),\n",
       " Path('paddy-disease-classification/train_images/dead_heart/102914.jpg'),\n",
       " Path('paddy-disease-classification/train_images/dead_heart/102926.jpg'),\n",
       " Path('paddy-disease-classification/train_images/dead_heart/102953.jpg'),\n",
       " Path('paddy-disease-classification/train_images/dead_heart/103007.jpg'),\n",
       " Path('paddy-disease-classification/train_images/dead_heart/103047.jpg'),\n",
       " Path('paddy-disease-classification/train_images/dead_heart/103057.jpg'),\n",
       " Path('paddy-disease-classification/train_images/dead_heart/103078.jpg'),\n",
       " Path('paddy-disease-classification/train_images/dead_heart/103141.jpg'),\n",
       " Path('paddy-disease-classification/train_images/dead_heart/103145.jpg'),\n",
       " Path('paddy-disease-classification/train_images/dead_heart/103196.jpg'),\n",
       " Path('paddy-disease-classification/train_images/dead_heart/103215.jpg'),\n",
       " Path('paddy-disease-classification/train_images/dead_heart/103219.jpg'),\n",
       " Path('paddy-disease-classification/train_images/dead_heart/103253.jpg'),\n",
       " Path('paddy-disease-classification/train_images/dead_heart/103268.jpg'),\n",
       " Path('paddy-disease-classification/train_images/dead_heart/103422.jpg'),\n",
       " Path('paddy-disease-classification/train_images/dead_heart/103429.jpg'),\n",
       " Path('paddy-disease-classification/train_images/dead_heart/103524.jpg'),\n",
       " Path('paddy-disease-classification/train_images/dead_heart/103559.jpg'),\n",
       " Path('paddy-disease-classification/train_images/dead_heart/103574.jpg'),\n",
       " Path('paddy-disease-classification/train_images/dead_heart/103591.jpg'),\n",
       " Path('paddy-disease-classification/train_images/dead_heart/103597.jpg'),\n",
       " Path('paddy-disease-classification/train_images/dead_heart/103607.jpg'),\n",
       " Path('paddy-disease-classification/train_images/dead_heart/103705.jpg'),\n",
       " Path('paddy-disease-classification/train_images/dead_heart/103881.jpg'),\n",
       " Path('paddy-disease-classification/train_images/dead_heart/103913.jpg'),\n",
       " Path('paddy-disease-classification/train_images/dead_heart/103927.jpg'),\n",
       " Path('paddy-disease-classification/train_images/dead_heart/103963.jpg'),\n",
       " Path('paddy-disease-classification/train_images/dead_heart/103969.jpg'),\n",
       " Path('paddy-disease-classification/train_images/dead_heart/103979.jpg'),\n",
       " Path('paddy-disease-classification/train_images/dead_heart/103999.jpg'),\n",
       " Path('paddy-disease-classification/train_images/dead_heart/104009.jpg'),\n",
       " Path('paddy-disease-classification/train_images/dead_heart/104057.jpg'),\n",
       " Path('paddy-disease-classification/train_images/dead_heart/104071.jpg'),\n",
       " Path('paddy-disease-classification/train_images/dead_heart/104091.jpg'),\n",
       " Path('paddy-disease-classification/train_images/dead_heart/104112.jpg'),\n",
       " Path('paddy-disease-classification/train_images/dead_heart/104174.jpg'),\n",
       " Path('paddy-disease-classification/train_images/dead_heart/104186.jpg'),\n",
       " Path('paddy-disease-classification/train_images/dead_heart/104189.jpg'),\n",
       " Path('paddy-disease-classification/train_images/dead_heart/104217.jpg'),\n",
       " Path('paddy-disease-classification/train_images/dead_heart/104230.jpg'),\n",
       " Path('paddy-disease-classification/train_images/dead_heart/104311.jpg'),\n",
       " Path('paddy-disease-classification/train_images/dead_heart/104363.jpg'),\n",
       " Path('paddy-disease-classification/train_images/dead_heart/104387.jpg'),\n",
       " Path('paddy-disease-classification/train_images/dead_heart/104445.jpg'),\n",
       " Path('paddy-disease-classification/train_images/dead_heart/104478.jpg'),\n",
       " Path('paddy-disease-classification/train_images/dead_heart/104514.jpg'),\n",
       " Path('paddy-disease-classification/train_images/dead_heart/104515.jpg'),\n",
       " Path('paddy-disease-classification/train_images/dead_heart/104540.jpg'),\n",
       " Path('paddy-disease-classification/train_images/dead_heart/104608.jpg'),\n",
       " Path('paddy-disease-classification/train_images/dead_heart/104615.jpg'),\n",
       " Path('paddy-disease-classification/train_images/dead_heart/104646.jpg'),\n",
       " Path('paddy-disease-classification/train_images/dead_heart/104698.jpg'),\n",
       " Path('paddy-disease-classification/train_images/dead_heart/104707.jpg'),\n",
       " Path('paddy-disease-classification/train_images/dead_heart/104794.jpg'),\n",
       " Path('paddy-disease-classification/train_images/dead_heart/104845.jpg'),\n",
       " Path('paddy-disease-classification/train_images/dead_heart/104902.jpg'),\n",
       " Path('paddy-disease-classification/train_images/dead_heart/105015.jpg'),\n",
       " Path('paddy-disease-classification/train_images/dead_heart/105041.jpg'),\n",
       " Path('paddy-disease-classification/train_images/dead_heart/105047.jpg'),\n",
       " Path('paddy-disease-classification/train_images/dead_heart/105048.jpg'),\n",
       " Path('paddy-disease-classification/train_images/dead_heart/105052.jpg'),\n",
       " Path('paddy-disease-classification/train_images/dead_heart/105082.jpg'),\n",
       " Path('paddy-disease-classification/train_images/dead_heart/105088.jpg'),\n",
       " Path('paddy-disease-classification/train_images/dead_heart/105159.jpg'),\n",
       " Path('paddy-disease-classification/train_images/dead_heart/105187.jpg'),\n",
       " Path('paddy-disease-classification/train_images/dead_heart/105229.jpg'),\n",
       " Path('paddy-disease-classification/train_images/dead_heart/105271.jpg'),\n",
       " Path('paddy-disease-classification/train_images/dead_heart/105298.jpg'),\n",
       " Path('paddy-disease-classification/train_images/dead_heart/105332.jpg'),\n",
       " Path('paddy-disease-classification/train_images/dead_heart/105371.jpg'),\n",
       " Path('paddy-disease-classification/train_images/dead_heart/105435.jpg'),\n",
       " Path('paddy-disease-classification/train_images/dead_heart/105525.jpg'),\n",
       " Path('paddy-disease-classification/train_images/dead_heart/105554.jpg'),\n",
       " Path('paddy-disease-classification/train_images/dead_heart/105556.jpg'),\n",
       " Path('paddy-disease-classification/train_images/dead_heart/105612.jpg'),\n",
       " Path('paddy-disease-classification/train_images/dead_heart/105644.jpg'),\n",
       " Path('paddy-disease-classification/train_images/dead_heart/105645.jpg'),\n",
       " Path('paddy-disease-classification/train_images/dead_heart/105720.jpg'),\n",
       " Path('paddy-disease-classification/train_images/dead_heart/105768.jpg'),\n",
       " Path('paddy-disease-classification/train_images/dead_heart/105824.jpg'),\n",
       " Path('paddy-disease-classification/train_images/dead_heart/105874.jpg'),\n",
       " Path('paddy-disease-classification/train_images/dead_heart/105931.jpg'),\n",
       " Path('paddy-disease-classification/train_images/dead_heart/105941.jpg'),\n",
       " Path('paddy-disease-classification/train_images/dead_heart/106007.jpg'),\n",
       " Path('paddy-disease-classification/train_images/dead_heart/106070.jpg'),\n",
       " Path('paddy-disease-classification/train_images/dead_heart/106082.jpg'),\n",
       " Path('paddy-disease-classification/train_images/dead_heart/106122.jpg'),\n",
       " Path('paddy-disease-classification/train_images/dead_heart/106126.jpg'),\n",
       " Path('paddy-disease-classification/train_images/dead_heart/106191.jpg'),\n",
       " Path('paddy-disease-classification/train_images/dead_heart/106256.jpg'),\n",
       " Path('paddy-disease-classification/train_images/dead_heart/106368.jpg'),\n",
       " Path('paddy-disease-classification/train_images/dead_heart/106369.jpg'),\n",
       " Path('paddy-disease-classification/train_images/dead_heart/106376.jpg'),\n",
       " Path('paddy-disease-classification/train_images/dead_heart/106468.jpg'),\n",
       " Path('paddy-disease-classification/train_images/dead_heart/106511.jpg'),\n",
       " Path('paddy-disease-classification/train_images/dead_heart/106541.jpg'),\n",
       " Path('paddy-disease-classification/train_images/dead_heart/106577.jpg'),\n",
       " Path('paddy-disease-classification/train_images/dead_heart/106588.jpg'),\n",
       " Path('paddy-disease-classification/train_images/dead_heart/106598.jpg'),\n",
       " Path('paddy-disease-classification/train_images/dead_heart/106623.jpg'),\n",
       " Path('paddy-disease-classification/train_images/dead_heart/106731.jpg'),\n",
       " Path('paddy-disease-classification/train_images/dead_heart/106736.jpg'),\n",
       " Path('paddy-disease-classification/train_images/dead_heart/106762.jpg'),\n",
       " Path('paddy-disease-classification/train_images/dead_heart/106771.jpg'),\n",
       " Path('paddy-disease-classification/train_images/dead_heart/106790.jpg'),\n",
       " Path('paddy-disease-classification/train_images/dead_heart/106886.jpg'),\n",
       " Path('paddy-disease-classification/train_images/dead_heart/106895.jpg'),\n",
       " Path('paddy-disease-classification/train_images/dead_heart/106925.jpg'),\n",
       " Path('paddy-disease-classification/train_images/dead_heart/106975.jpg'),\n",
       " Path('paddy-disease-classification/train_images/dead_heart/107024.jpg'),\n",
       " Path('paddy-disease-classification/train_images/dead_heart/107071.jpg'),\n",
       " Path('paddy-disease-classification/train_images/dead_heart/107077.jpg'),\n",
       " Path('paddy-disease-classification/train_images/dead_heart/107083.jpg'),\n",
       " Path('paddy-disease-classification/train_images/dead_heart/107100.jpg'),\n",
       " Path('paddy-disease-classification/train_images/dead_heart/107105.jpg'),\n",
       " Path('paddy-disease-classification/train_images/dead_heart/107160.jpg'),\n",
       " Path('paddy-disease-classification/train_images/dead_heart/107187.jpg'),\n",
       " Path('paddy-disease-classification/train_images/dead_heart/107198.jpg'),\n",
       " Path('paddy-disease-classification/train_images/dead_heart/107261.jpg'),\n",
       " Path('paddy-disease-classification/train_images/dead_heart/107351.jpg'),\n",
       " Path('paddy-disease-classification/train_images/dead_heart/107360.jpg'),\n",
       " Path('paddy-disease-classification/train_images/dead_heart/107427.jpg'),\n",
       " Path('paddy-disease-classification/train_images/dead_heart/107435.jpg'),\n",
       " Path('paddy-disease-classification/train_images/dead_heart/107483.jpg'),\n",
       " Path('paddy-disease-classification/train_images/dead_heart/107526.jpg'),\n",
       " Path('paddy-disease-classification/train_images/dead_heart/107541.jpg'),\n",
       " Path('paddy-disease-classification/train_images/dead_heart/107744.jpg'),\n",
       " Path('paddy-disease-classification/train_images/dead_heart/107809.jpg'),\n",
       " Path('paddy-disease-classification/train_images/dead_heart/107833.jpg'),\n",
       " Path('paddy-disease-classification/train_images/dead_heart/107876.jpg'),\n",
       " Path('paddy-disease-classification/train_images/dead_heart/107886.jpg'),\n",
       " Path('paddy-disease-classification/train_images/dead_heart/107890.jpg'),\n",
       " Path('paddy-disease-classification/train_images/dead_heart/107946.jpg'),\n",
       " ...]"
      ]
     },
     "execution_count": 20,
     "metadata": {},
     "output_type": "execute_result"
    }
   ],
   "source": [
    "dls.valid.items"
   ]
  },
  {
   "cell_type": "code",
   "execution_count": 26,
   "id": "6a665221",
   "metadata": {},
   "outputs": [
    {
     "data": {
      "text/html": [
       "\n",
       "<style>\n",
       "    /* Turns off some styling */\n",
       "    progress {\n",
       "        /* gets rid of default border in Firefox and Opera. */\n",
       "        border: none;\n",
       "        /* Needs to be in here for Safari polyfill so background images work as expected. */\n",
       "        background-size: auto;\n",
       "    }\n",
       "    .progress-bar-interrupted, .progress-bar-interrupted::-webkit-progress-bar {\n",
       "        background: #F44336;\n",
       "    }\n",
       "</style>\n"
      ],
      "text/plain": [
       "<IPython.core.display.HTML object>"
      ]
     },
     "metadata": {},
     "output_type": "display_data"
    },
    {
     "data": {
      "text/html": [],
      "text/plain": [
       "<IPython.core.display.HTML object>"
      ]
     },
     "metadata": {},
     "output_type": "display_data"
    }
   ],
   "source": [
    "probs, _ = learn.get_preds(dl=dls.test_dl(test_files))"
   ]
  },
  {
   "cell_type": "code",
   "execution_count": 27,
   "id": "f0fe451d",
   "metadata": {},
   "outputs": [
    {
     "data": {
      "text/html": [
       "\n",
       "<style>\n",
       "    /* Turns off some styling */\n",
       "    progress {\n",
       "        /* gets rid of default border in Firefox and Opera. */\n",
       "        border: none;\n",
       "        /* Needs to be in here for Safari polyfill so background images work as expected. */\n",
       "        background-size: auto;\n",
       "    }\n",
       "    .progress-bar-interrupted, .progress-bar-interrupted::-webkit-progress-bar {\n",
       "        background: #F44336;\n",
       "    }\n",
       "</style>\n"
      ],
      "text/plain": [
       "<IPython.core.display.HTML object>"
      ]
     },
     "metadata": {},
     "output_type": "display_data"
    },
    {
     "data": {
      "text/html": [
       "\n",
       "    <div>\n",
       "      <progress value='0' class='' max='16' style='width:300px; height:20px; vertical-align: middle;'></progress>\n",
       "      \n",
       "    </div>\n",
       "    \n"
      ],
      "text/plain": [
       "<IPython.core.display.HTML object>"
      ]
     },
     "metadata": {},
     "output_type": "display_data"
    },
    {
     "data": {
      "text/html": [
       "\n",
       "<style>\n",
       "    /* Turns off some styling */\n",
       "    progress {\n",
       "        /* gets rid of default border in Firefox and Opera. */\n",
       "        border: none;\n",
       "        /* Needs to be in here for Safari polyfill so background images work as expected. */\n",
       "        background-size: auto;\n",
       "    }\n",
       "    .progress-bar-interrupted, .progress-bar-interrupted::-webkit-progress-bar {\n",
       "        background: #F44336;\n",
       "    }\n",
       "</style>\n"
      ],
      "text/plain": [
       "<IPython.core.display.HTML object>"
      ]
     },
     "metadata": {},
     "output_type": "display_data"
    },
    {
     "data": {
      "text/html": [],
      "text/plain": [
       "<IPython.core.display.HTML object>"
      ]
     },
     "metadata": {},
     "output_type": "display_data"
    }
   ],
   "source": [
    "preds, _ = learn.tta(dl=dls.test_dl(test_files))"
   ]
  },
  {
   "cell_type": "code",
   "execution_count": 28,
   "id": "878f8e14",
   "metadata": {},
   "outputs": [],
   "source": [
    "predictions.append(probs)\n",
    "tta_predictions.append(preds)"
   ]
  },
  {
   "cell_type": "code",
   "execution_count": 29,
   "id": "2ed47e9b",
   "metadata": {},
   "outputs": [
    {
     "data": {
      "text/plain": [
       "(#3469) ['hispa','normal','blast','blast','blast','brown_spot','dead_heart','brown_spot','hispa','normal'...]"
      ]
     },
     "execution_count": 29,
     "metadata": {},
     "output_type": "execute_result"
    }
   ],
   "source": [
    "dls.vocab[preds.argmax(axis=1)]"
   ]
  },
  {
   "cell_type": "code",
   "execution_count": 30,
   "id": "66c929c6",
   "metadata": {},
   "outputs": [],
   "source": [
    "sample_submission.label = dls.vocab[preds.argmax(axis=1)]\n",
    "sample_submission.to_csv('22jul14-Fold0.csv', index=False)"
   ]
  },
  {
   "cell_type": "code",
   "execution_count": 31,
   "id": "9ca2f999",
   "metadata": {},
   "outputs": [],
   "source": [
    "#torch.from_numpy(\n",
    "#    np.take(np.eye(10), probs.argmax(axis=1), axis=0)[0]\n",
    "#)"
   ]
  },
  {
   "cell_type": "markdown",
   "id": "c6848185",
   "metadata": {},
   "source": [
    "### Train Fold 1"
   ]
  },
  {
   "cell_type": "code",
   "execution_count": 32,
   "id": "9180f301",
   "metadata": {},
   "outputs": [],
   "source": [
    "dls = get_datablock(i_fold=1)"
   ]
  },
  {
   "cell_type": "code",
   "execution_count": 33,
   "id": "66f51697",
   "metadata": {},
   "outputs": [],
   "source": [
    "label_smoothing = 0\n",
    "learn = vision_learner(dls, resnet34, metrics=error_rate, loss_func=custom_loss).to_fp16()"
   ]
  },
  {
   "cell_type": "code",
   "execution_count": 34,
   "id": "b791e82f",
   "metadata": {
    "scrolled": true
   },
   "outputs": [
    {
     "data": {
      "text/html": [
       "\n",
       "<style>\n",
       "    /* Turns off some styling */\n",
       "    progress {\n",
       "        /* gets rid of default border in Firefox and Opera. */\n",
       "        border: none;\n",
       "        /* Needs to be in here for Safari polyfill so background images work as expected. */\n",
       "        background-size: auto;\n",
       "    }\n",
       "    .progress-bar-interrupted, .progress-bar-interrupted::-webkit-progress-bar {\n",
       "        background: #F44336;\n",
       "    }\n",
       "</style>\n"
      ],
      "text/plain": [
       "<IPython.core.display.HTML object>"
      ]
     },
     "metadata": {},
     "output_type": "display_data"
    },
    {
     "data": {
      "text/html": [
       "<table border=\"1\" class=\"dataframe\">\n",
       "  <thead>\n",
       "    <tr style=\"text-align: left;\">\n",
       "      <th>epoch</th>\n",
       "      <th>train_loss</th>\n",
       "      <th>valid_loss</th>\n",
       "      <th>error_rate</th>\n",
       "      <th>time</th>\n",
       "    </tr>\n",
       "  </thead>\n",
       "  <tbody>\n",
       "    <tr>\n",
       "      <td>0</td>\n",
       "      <td>1.751425</td>\n",
       "      <td>0.988502</td>\n",
       "      <td>0.309467</td>\n",
       "      <td>01:14</td>\n",
       "    </tr>\n",
       "  </tbody>\n",
       "</table>"
      ],
      "text/plain": [
       "<IPython.core.display.HTML object>"
      ]
     },
     "metadata": {},
     "output_type": "display_data"
    },
    {
     "data": {
      "text/html": [
       "\n",
       "<style>\n",
       "    /* Turns off some styling */\n",
       "    progress {\n",
       "        /* gets rid of default border in Firefox and Opera. */\n",
       "        border: none;\n",
       "        /* Needs to be in here for Safari polyfill so background images work as expected. */\n",
       "        background-size: auto;\n",
       "    }\n",
       "    .progress-bar-interrupted, .progress-bar-interrupted::-webkit-progress-bar {\n",
       "        background: #F44336;\n",
       "    }\n",
       "</style>\n"
      ],
      "text/plain": [
       "<IPython.core.display.HTML object>"
      ]
     },
     "metadata": {},
     "output_type": "display_data"
    },
    {
     "data": {
      "text/html": [
       "<table border=\"1\" class=\"dataframe\">\n",
       "  <thead>\n",
       "    <tr style=\"text-align: left;\">\n",
       "      <th>epoch</th>\n",
       "      <th>train_loss</th>\n",
       "      <th>valid_loss</th>\n",
       "      <th>error_rate</th>\n",
       "      <th>time</th>\n",
       "    </tr>\n",
       "  </thead>\n",
       "  <tbody>\n",
       "    <tr>\n",
       "      <td>0</td>\n",
       "      <td>0.756291</td>\n",
       "      <td>0.427743</td>\n",
       "      <td>0.126382</td>\n",
       "      <td>01:22</td>\n",
       "    </tr>\n",
       "    <tr>\n",
       "      <td>1</td>\n",
       "      <td>0.463508</td>\n",
       "      <td>0.288871</td>\n",
       "      <td>0.083614</td>\n",
       "      <td>01:21</td>\n",
       "    </tr>\n",
       "    <tr>\n",
       "      <td>2</td>\n",
       "      <td>0.398856</td>\n",
       "      <td>0.365157</td>\n",
       "      <td>0.110043</td>\n",
       "      <td>01:34</td>\n",
       "    </tr>\n",
       "    <tr>\n",
       "      <td>3</td>\n",
       "      <td>0.362747</td>\n",
       "      <td>0.274640</td>\n",
       "      <td>0.078328</td>\n",
       "      <td>01:24</td>\n",
       "    </tr>\n",
       "    <tr>\n",
       "      <td>4</td>\n",
       "      <td>0.322052</td>\n",
       "      <td>0.295719</td>\n",
       "      <td>0.085536</td>\n",
       "      <td>01:26</td>\n",
       "    </tr>\n",
       "    <tr>\n",
       "      <td>5</td>\n",
       "      <td>0.248449</td>\n",
       "      <td>0.393384</td>\n",
       "      <td>0.112446</td>\n",
       "      <td>01:22</td>\n",
       "    </tr>\n",
       "    <tr>\n",
       "      <td>6</td>\n",
       "      <td>0.237211</td>\n",
       "      <td>0.222533</td>\n",
       "      <td>0.068717</td>\n",
       "      <td>01:26</td>\n",
       "    </tr>\n",
       "    <tr>\n",
       "      <td>7</td>\n",
       "      <td>0.171213</td>\n",
       "      <td>0.267059</td>\n",
       "      <td>0.063431</td>\n",
       "      <td>01:20</td>\n",
       "    </tr>\n",
       "    <tr>\n",
       "      <td>8</td>\n",
       "      <td>0.155278</td>\n",
       "      <td>0.221697</td>\n",
       "      <td>0.060548</td>\n",
       "      <td>01:20</td>\n",
       "    </tr>\n",
       "    <tr>\n",
       "      <td>9</td>\n",
       "      <td>0.119536</td>\n",
       "      <td>0.176405</td>\n",
       "      <td>0.049015</td>\n",
       "      <td>01:20</td>\n",
       "    </tr>\n",
       "    <tr>\n",
       "      <td>10</td>\n",
       "      <td>0.089599</td>\n",
       "      <td>0.137349</td>\n",
       "      <td>0.036040</td>\n",
       "      <td>01:20</td>\n",
       "    </tr>\n",
       "    <tr>\n",
       "      <td>11</td>\n",
       "      <td>0.058986</td>\n",
       "      <td>0.123950</td>\n",
       "      <td>0.031235</td>\n",
       "      <td>01:19</td>\n",
       "    </tr>\n",
       "    <tr>\n",
       "      <td>12</td>\n",
       "      <td>0.038055</td>\n",
       "      <td>0.116935</td>\n",
       "      <td>0.031235</td>\n",
       "      <td>01:20</td>\n",
       "    </tr>\n",
       "    <tr>\n",
       "      <td>13</td>\n",
       "      <td>0.034212</td>\n",
       "      <td>0.105017</td>\n",
       "      <td>0.028832</td>\n",
       "      <td>01:17</td>\n",
       "    </tr>\n",
       "    <tr>\n",
       "      <td>14</td>\n",
       "      <td>0.029242</td>\n",
       "      <td>0.106895</td>\n",
       "      <td>0.028832</td>\n",
       "      <td>01:17</td>\n",
       "    </tr>\n",
       "    <tr>\n",
       "      <td>15</td>\n",
       "      <td>0.026550</td>\n",
       "      <td>0.107835</td>\n",
       "      <td>0.029313</td>\n",
       "      <td>01:17</td>\n",
       "    </tr>\n",
       "  </tbody>\n",
       "</table>"
      ],
      "text/plain": [
       "<IPython.core.display.HTML object>"
      ]
     },
     "metadata": {},
     "output_type": "display_data"
    }
   ],
   "source": [
    "learn.fine_tune(16, 0.005)"
   ]
  },
  {
   "cell_type": "code",
   "execution_count": 35,
   "id": "3ab772a5",
   "metadata": {},
   "outputs": [
    {
     "data": {
      "text/html": [
       "\n",
       "<style>\n",
       "    /* Turns off some styling */\n",
       "    progress {\n",
       "        /* gets rid of default border in Firefox and Opera. */\n",
       "        border: none;\n",
       "        /* Needs to be in here for Safari polyfill so background images work as expected. */\n",
       "        background-size: auto;\n",
       "    }\n",
       "    .progress-bar-interrupted, .progress-bar-interrupted::-webkit-progress-bar {\n",
       "        background: #F44336;\n",
       "    }\n",
       "</style>\n"
      ],
      "text/plain": [
       "<IPython.core.display.HTML object>"
      ]
     },
     "metadata": {},
     "output_type": "display_data"
    },
    {
     "data": {
      "text/html": [],
      "text/plain": [
       "<IPython.core.display.HTML object>"
      ]
     },
     "metadata": {},
     "output_type": "display_data"
    }
   ],
   "source": [
    "probs, _ = learn.get_preds(dl=dls.test_dl(test_files))"
   ]
  },
  {
   "cell_type": "code",
   "execution_count": 36,
   "id": "9a940d77",
   "metadata": {},
   "outputs": [
    {
     "data": {
      "text/html": [
       "\n",
       "<style>\n",
       "    /* Turns off some styling */\n",
       "    progress {\n",
       "        /* gets rid of default border in Firefox and Opera. */\n",
       "        border: none;\n",
       "        /* Needs to be in here for Safari polyfill so background images work as expected. */\n",
       "        background-size: auto;\n",
       "    }\n",
       "    .progress-bar-interrupted, .progress-bar-interrupted::-webkit-progress-bar {\n",
       "        background: #F44336;\n",
       "    }\n",
       "</style>\n"
      ],
      "text/plain": [
       "<IPython.core.display.HTML object>"
      ]
     },
     "metadata": {},
     "output_type": "display_data"
    },
    {
     "data": {
      "text/html": [
       "\n",
       "    <div>\n",
       "      <progress value='0' class='' max='16' style='width:300px; height:20px; vertical-align: middle;'></progress>\n",
       "      \n",
       "    </div>\n",
       "    \n"
      ],
      "text/plain": [
       "<IPython.core.display.HTML object>"
      ]
     },
     "metadata": {},
     "output_type": "display_data"
    },
    {
     "data": {
      "text/html": [
       "\n",
       "<style>\n",
       "    /* Turns off some styling */\n",
       "    progress {\n",
       "        /* gets rid of default border in Firefox and Opera. */\n",
       "        border: none;\n",
       "        /* Needs to be in here for Safari polyfill so background images work as expected. */\n",
       "        background-size: auto;\n",
       "    }\n",
       "    .progress-bar-interrupted, .progress-bar-interrupted::-webkit-progress-bar {\n",
       "        background: #F44336;\n",
       "    }\n",
       "</style>\n"
      ],
      "text/plain": [
       "<IPython.core.display.HTML object>"
      ]
     },
     "metadata": {},
     "output_type": "display_data"
    },
    {
     "data": {
      "text/html": [],
      "text/plain": [
       "<IPython.core.display.HTML object>"
      ]
     },
     "metadata": {},
     "output_type": "display_data"
    }
   ],
   "source": [
    "preds, _ = learn.tta(dl=dls.test_dl(test_files))"
   ]
  },
  {
   "cell_type": "code",
   "execution_count": 37,
   "id": "5660cadb",
   "metadata": {},
   "outputs": [],
   "source": [
    "predictions.append(probs)\n",
    "tta_predictions.append(preds)"
   ]
  },
  {
   "cell_type": "code",
   "execution_count": 41,
   "id": "10909140",
   "metadata": {},
   "outputs": [],
   "source": [
    "kfolds_preds = {\n",
    "    'predictions': predictions,\n",
    "    'tta_predictions': tta_predictions\n",
    "}\n",
    "save_pickle('22jul_kfold_preds_dict.pkl', kfolds_preds)"
   ]
  },
  {
   "cell_type": "code",
   "execution_count": 38,
   "id": "5cdece66",
   "metadata": {},
   "outputs": [],
   "source": [
    "sample_submission.label = dls.vocab[preds.argmax(axis=1)]\n",
    "sample_submission.to_csv('22jul14-Fold1.csv', index=False)"
   ]
  },
  {
   "cell_type": "markdown",
   "id": "e540a915",
   "metadata": {},
   "source": [
    "### Train Fold 2"
   ]
  },
  {
   "cell_type": "code",
   "execution_count": 25,
   "id": "c743a339",
   "metadata": {},
   "outputs": [],
   "source": [
    "kfolds_preds = load_pickle('22jul_kfold_preds_dict.pkl')"
   ]
  },
  {
   "cell_type": "code",
   "execution_count": 13,
   "id": "ce450199",
   "metadata": {},
   "outputs": [],
   "source": [
    "dls = get_datablock(i_fold=2)"
   ]
  },
  {
   "cell_type": "code",
   "execution_count": 14,
   "id": "54d27e2c",
   "metadata": {},
   "outputs": [
    {
     "data": {
      "text/plain": [
       "[Path('paddy-disease-classification/train_images/bacterial_leaf_blight/100133.jpg'),\n",
       " Path('paddy-disease-classification/train_images/bacterial_leaf_blight/100169.jpg'),\n",
       " Path('paddy-disease-classification/train_images/bacterial_leaf_blight/100234.jpg'),\n",
       " Path('paddy-disease-classification/train_images/bacterial_leaf_blight/100382.jpg'),\n",
       " Path('paddy-disease-classification/train_images/bacterial_leaf_blight/100516.jpg')]"
      ]
     },
     "execution_count": 14,
     "metadata": {},
     "output_type": "execute_result"
    }
   ],
   "source": [
    "dls.valid.items[:5]"
   ]
  },
  {
   "cell_type": "code",
   "execution_count": 15,
   "id": "36aa5b0a",
   "metadata": {},
   "outputs": [],
   "source": [
    "label_smoothing = 0\n",
    "learn = vision_learner(dls, resnet34, metrics=error_rate, loss_func=custom_loss).to_fp16()"
   ]
  },
  {
   "cell_type": "code",
   "execution_count": 16,
   "id": "017fac50",
   "metadata": {},
   "outputs": [
    {
     "data": {
      "text/html": [
       "\n",
       "<style>\n",
       "    /* Turns off some styling */\n",
       "    progress {\n",
       "        /* gets rid of default border in Firefox and Opera. */\n",
       "        border: none;\n",
       "        /* Needs to be in here for Safari polyfill so background images work as expected. */\n",
       "        background-size: auto;\n",
       "    }\n",
       "    .progress-bar-interrupted, .progress-bar-interrupted::-webkit-progress-bar {\n",
       "        background: #F44336;\n",
       "    }\n",
       "</style>\n"
      ],
      "text/plain": [
       "<IPython.core.display.HTML object>"
      ]
     },
     "metadata": {},
     "output_type": "display_data"
    },
    {
     "data": {
      "text/html": [
       "<table border=\"1\" class=\"dataframe\">\n",
       "  <thead>\n",
       "    <tr style=\"text-align: left;\">\n",
       "      <th>epoch</th>\n",
       "      <th>train_loss</th>\n",
       "      <th>valid_loss</th>\n",
       "      <th>error_rate</th>\n",
       "      <th>time</th>\n",
       "    </tr>\n",
       "  </thead>\n",
       "  <tbody>\n",
       "    <tr>\n",
       "      <td>0</td>\n",
       "      <td>1.766622</td>\n",
       "      <td>1.053050</td>\n",
       "      <td>0.341499</td>\n",
       "      <td>01:28</td>\n",
       "    </tr>\n",
       "  </tbody>\n",
       "</table>"
      ],
      "text/plain": [
       "<IPython.core.display.HTML object>"
      ]
     },
     "metadata": {},
     "output_type": "display_data"
    },
    {
     "data": {
      "text/html": [
       "\n",
       "<style>\n",
       "    /* Turns off some styling */\n",
       "    progress {\n",
       "        /* gets rid of default border in Firefox and Opera. */\n",
       "        border: none;\n",
       "        /* Needs to be in here for Safari polyfill so background images work as expected. */\n",
       "        background-size: auto;\n",
       "    }\n",
       "    .progress-bar-interrupted, .progress-bar-interrupted::-webkit-progress-bar {\n",
       "        background: #F44336;\n",
       "    }\n",
       "</style>\n"
      ],
      "text/plain": [
       "<IPython.core.display.HTML object>"
      ]
     },
     "metadata": {},
     "output_type": "display_data"
    },
    {
     "data": {
      "text/html": [
       "<table border=\"1\" class=\"dataframe\">\n",
       "  <thead>\n",
       "    <tr style=\"text-align: left;\">\n",
       "      <th>epoch</th>\n",
       "      <th>train_loss</th>\n",
       "      <th>valid_loss</th>\n",
       "      <th>error_rate</th>\n",
       "      <th>time</th>\n",
       "    </tr>\n",
       "  </thead>\n",
       "  <tbody>\n",
       "    <tr>\n",
       "      <td>0</td>\n",
       "      <td>0.771126</td>\n",
       "      <td>0.468777</td>\n",
       "      <td>0.158982</td>\n",
       "      <td>01:20</td>\n",
       "    </tr>\n",
       "    <tr>\n",
       "      <td>1</td>\n",
       "      <td>0.477258</td>\n",
       "      <td>0.325693</td>\n",
       "      <td>0.097983</td>\n",
       "      <td>01:19</td>\n",
       "    </tr>\n",
       "    <tr>\n",
       "      <td>2</td>\n",
       "      <td>0.392920</td>\n",
       "      <td>0.361818</td>\n",
       "      <td>0.106148</td>\n",
       "      <td>01:17</td>\n",
       "    </tr>\n",
       "    <tr>\n",
       "      <td>3</td>\n",
       "      <td>0.348329</td>\n",
       "      <td>0.419306</td>\n",
       "      <td>0.115274</td>\n",
       "      <td>01:17</td>\n",
       "    </tr>\n",
       "    <tr>\n",
       "      <td>4</td>\n",
       "      <td>0.326039</td>\n",
       "      <td>0.625730</td>\n",
       "      <td>0.154659</td>\n",
       "      <td>01:18</td>\n",
       "    </tr>\n",
       "    <tr>\n",
       "      <td>5</td>\n",
       "      <td>0.249776</td>\n",
       "      <td>0.299724</td>\n",
       "      <td>0.091739</td>\n",
       "      <td>01:19</td>\n",
       "    </tr>\n",
       "    <tr>\n",
       "      <td>6</td>\n",
       "      <td>0.231993</td>\n",
       "      <td>0.325945</td>\n",
       "      <td>0.097022</td>\n",
       "      <td>01:17</td>\n",
       "    </tr>\n",
       "    <tr>\n",
       "      <td>7</td>\n",
       "      <td>0.164781</td>\n",
       "      <td>0.251472</td>\n",
       "      <td>0.067243</td>\n",
       "      <td>01:17</td>\n",
       "    </tr>\n",
       "    <tr>\n",
       "      <td>8</td>\n",
       "      <td>0.150395</td>\n",
       "      <td>0.184289</td>\n",
       "      <td>0.049952</td>\n",
       "      <td>01:17</td>\n",
       "    </tr>\n",
       "    <tr>\n",
       "      <td>9</td>\n",
       "      <td>0.101905</td>\n",
       "      <td>0.169694</td>\n",
       "      <td>0.042747</td>\n",
       "      <td>01:18</td>\n",
       "    </tr>\n",
       "    <tr>\n",
       "      <td>10</td>\n",
       "      <td>0.080027</td>\n",
       "      <td>0.146097</td>\n",
       "      <td>0.034102</td>\n",
       "      <td>01:17</td>\n",
       "    </tr>\n",
       "    <tr>\n",
       "      <td>11</td>\n",
       "      <td>0.058409</td>\n",
       "      <td>0.136559</td>\n",
       "      <td>0.030259</td>\n",
       "      <td>01:17</td>\n",
       "    </tr>\n",
       "    <tr>\n",
       "      <td>12</td>\n",
       "      <td>0.044927</td>\n",
       "      <td>0.148925</td>\n",
       "      <td>0.031220</td>\n",
       "      <td>01:16</td>\n",
       "    </tr>\n",
       "    <tr>\n",
       "      <td>13</td>\n",
       "      <td>0.037097</td>\n",
       "      <td>0.131659</td>\n",
       "      <td>0.026897</td>\n",
       "      <td>01:17</td>\n",
       "    </tr>\n",
       "    <tr>\n",
       "      <td>14</td>\n",
       "      <td>0.023766</td>\n",
       "      <td>0.128566</td>\n",
       "      <td>0.024015</td>\n",
       "      <td>01:18</td>\n",
       "    </tr>\n",
       "    <tr>\n",
       "      <td>15</td>\n",
       "      <td>0.023562</td>\n",
       "      <td>0.128885</td>\n",
       "      <td>0.026417</td>\n",
       "      <td>01:17</td>\n",
       "    </tr>\n",
       "  </tbody>\n",
       "</table>"
      ],
      "text/plain": [
       "<IPython.core.display.HTML object>"
      ]
     },
     "metadata": {},
     "output_type": "display_data"
    }
   ],
   "source": [
    "learn.fine_tune(16, 0.005)"
   ]
  },
  {
   "cell_type": "code",
   "execution_count": 17,
   "id": "73fbcea8",
   "metadata": {},
   "outputs": [
    {
     "data": {
      "text/html": [
       "\n",
       "<style>\n",
       "    /* Turns off some styling */\n",
       "    progress {\n",
       "        /* gets rid of default border in Firefox and Opera. */\n",
       "        border: none;\n",
       "        /* Needs to be in here for Safari polyfill so background images work as expected. */\n",
       "        background-size: auto;\n",
       "    }\n",
       "    .progress-bar-interrupted, .progress-bar-interrupted::-webkit-progress-bar {\n",
       "        background: #F44336;\n",
       "    }\n",
       "</style>\n"
      ],
      "text/plain": [
       "<IPython.core.display.HTML object>"
      ]
     },
     "metadata": {},
     "output_type": "display_data"
    },
    {
     "data": {
      "text/html": [],
      "text/plain": [
       "<IPython.core.display.HTML object>"
      ]
     },
     "metadata": {},
     "output_type": "display_data"
    }
   ],
   "source": [
    "probs, _ = learn.get_preds(dl=dls.test_dl(test_files))"
   ]
  },
  {
   "cell_type": "code",
   "execution_count": 18,
   "id": "8ee4d91d",
   "metadata": {},
   "outputs": [
    {
     "data": {
      "text/html": [
       "\n",
       "<style>\n",
       "    /* Turns off some styling */\n",
       "    progress {\n",
       "        /* gets rid of default border in Firefox and Opera. */\n",
       "        border: none;\n",
       "        /* Needs to be in here for Safari polyfill so background images work as expected. */\n",
       "        background-size: auto;\n",
       "    }\n",
       "    .progress-bar-interrupted, .progress-bar-interrupted::-webkit-progress-bar {\n",
       "        background: #F44336;\n",
       "    }\n",
       "</style>\n"
      ],
      "text/plain": [
       "<IPython.core.display.HTML object>"
      ]
     },
     "metadata": {},
     "output_type": "display_data"
    },
    {
     "data": {
      "text/html": [
       "\n",
       "    <div>\n",
       "      <progress value='0' class='' max='16' style='width:300px; height:20px; vertical-align: middle;'></progress>\n",
       "      \n",
       "    </div>\n",
       "    \n"
      ],
      "text/plain": [
       "<IPython.core.display.HTML object>"
      ]
     },
     "metadata": {},
     "output_type": "display_data"
    },
    {
     "data": {
      "text/html": [
       "\n",
       "<style>\n",
       "    /* Turns off some styling */\n",
       "    progress {\n",
       "        /* gets rid of default border in Firefox and Opera. */\n",
       "        border: none;\n",
       "        /* Needs to be in here for Safari polyfill so background images work as expected. */\n",
       "        background-size: auto;\n",
       "    }\n",
       "    .progress-bar-interrupted, .progress-bar-interrupted::-webkit-progress-bar {\n",
       "        background: #F44336;\n",
       "    }\n",
       "</style>\n"
      ],
      "text/plain": [
       "<IPython.core.display.HTML object>"
      ]
     },
     "metadata": {},
     "output_type": "display_data"
    },
    {
     "data": {
      "text/html": [],
      "text/plain": [
       "<IPython.core.display.HTML object>"
      ]
     },
     "metadata": {},
     "output_type": "display_data"
    }
   ],
   "source": [
    "preds, _ = learn.tta(dl=dls.test_dl(test_files))"
   ]
  },
  {
   "cell_type": "code",
   "execution_count": 29,
   "id": "b1671b7a",
   "metadata": {},
   "outputs": [],
   "source": [
    "sample_submission.label = dls.vocab[preds.argmax(axis=1)]\n",
    "sample_submission.to_csv('22jul14-Fold2.csv', index=False)"
   ]
  },
  {
   "cell_type": "code",
   "execution_count": 33,
   "id": "46838f35",
   "metadata": {},
   "outputs": [],
   "source": [
    "kfolds_preds['predictions'].append(probs)\n",
    "kfolds_preds['tta_predictions'].append(preds)"
   ]
  },
  {
   "cell_type": "code",
   "execution_count": 36,
   "id": "6ea42ff0",
   "metadata": {},
   "outputs": [],
   "source": [
    "save_pickle('22jul_kfold_preds_dict.pkl', kfolds_preds)"
   ]
  },
  {
   "cell_type": "markdown",
   "id": "7f39e46a",
   "metadata": {},
   "source": [
    "### Train Fold 3"
   ]
  },
  {
   "cell_type": "code",
   "execution_count": 37,
   "id": "8d6fc412",
   "metadata": {},
   "outputs": [],
   "source": [
    "kfolds_preds = load_pickle('22jul_kfold_preds_dict.pkl')"
   ]
  },
  {
   "cell_type": "code",
   "execution_count": 38,
   "id": "17138e9f",
   "metadata": {},
   "outputs": [],
   "source": [
    "dls = get_datablock(i_fold=3)"
   ]
  },
  {
   "cell_type": "code",
   "execution_count": 39,
   "id": "7764a419",
   "metadata": {},
   "outputs": [
    {
     "data": {
      "text/plain": [
       "[Path('paddy-disease-classification/train_images/bacterial_leaf_blight/100445.jpg'),\n",
       " Path('paddy-disease-classification/train_images/bacterial_leaf_blight/100513.jpg'),\n",
       " Path('paddy-disease-classification/train_images/bacterial_leaf_blight/100622.jpg'),\n",
       " Path('paddy-disease-classification/train_images/bacterial_leaf_blight/100632.jpg'),\n",
       " Path('paddy-disease-classification/train_images/bacterial_leaf_blight/100733.jpg')]"
      ]
     },
     "execution_count": 39,
     "metadata": {},
     "output_type": "execute_result"
    }
   ],
   "source": [
    "dls.valid.items[:5]"
   ]
  },
  {
   "cell_type": "code",
   "execution_count": 40,
   "id": "433f1c7e",
   "metadata": {},
   "outputs": [],
   "source": [
    "label_smoothing = 0\n",
    "learn = vision_learner(dls, resnet34, metrics=error_rate, loss_func=custom_loss).to_fp16()"
   ]
  },
  {
   "cell_type": "code",
   "execution_count": 41,
   "id": "8a13598c",
   "metadata": {},
   "outputs": [
    {
     "data": {
      "text/html": [
       "\n",
       "<style>\n",
       "    /* Turns off some styling */\n",
       "    progress {\n",
       "        /* gets rid of default border in Firefox and Opera. */\n",
       "        border: none;\n",
       "        /* Needs to be in here for Safari polyfill so background images work as expected. */\n",
       "        background-size: auto;\n",
       "    }\n",
       "    .progress-bar-interrupted, .progress-bar-interrupted::-webkit-progress-bar {\n",
       "        background: #F44336;\n",
       "    }\n",
       "</style>\n"
      ],
      "text/plain": [
       "<IPython.core.display.HTML object>"
      ]
     },
     "metadata": {},
     "output_type": "display_data"
    },
    {
     "data": {
      "text/html": [
       "<table border=\"1\" class=\"dataframe\">\n",
       "  <thead>\n",
       "    <tr style=\"text-align: left;\">\n",
       "      <th>epoch</th>\n",
       "      <th>train_loss</th>\n",
       "      <th>valid_loss</th>\n",
       "      <th>error_rate</th>\n",
       "      <th>time</th>\n",
       "    </tr>\n",
       "  </thead>\n",
       "  <tbody>\n",
       "    <tr>\n",
       "      <td>0</td>\n",
       "      <td>1.764098</td>\n",
       "      <td>1.070464</td>\n",
       "      <td>0.337818</td>\n",
       "      <td>01:14</td>\n",
       "    </tr>\n",
       "  </tbody>\n",
       "</table>"
      ],
      "text/plain": [
       "<IPython.core.display.HTML object>"
      ]
     },
     "metadata": {},
     "output_type": "display_data"
    },
    {
     "data": {
      "text/html": [
       "\n",
       "<style>\n",
       "    /* Turns off some styling */\n",
       "    progress {\n",
       "        /* gets rid of default border in Firefox and Opera. */\n",
       "        border: none;\n",
       "        /* Needs to be in here for Safari polyfill so background images work as expected. */\n",
       "        background-size: auto;\n",
       "    }\n",
       "    .progress-bar-interrupted, .progress-bar-interrupted::-webkit-progress-bar {\n",
       "        background: #F44336;\n",
       "    }\n",
       "</style>\n"
      ],
      "text/plain": [
       "<IPython.core.display.HTML object>"
      ]
     },
     "metadata": {},
     "output_type": "display_data"
    },
    {
     "data": {
      "text/html": [
       "<table border=\"1\" class=\"dataframe\">\n",
       "  <thead>\n",
       "    <tr style=\"text-align: left;\">\n",
       "      <th>epoch</th>\n",
       "      <th>train_loss</th>\n",
       "      <th>valid_loss</th>\n",
       "      <th>error_rate</th>\n",
       "      <th>time</th>\n",
       "    </tr>\n",
       "  </thead>\n",
       "  <tbody>\n",
       "    <tr>\n",
       "      <td>0</td>\n",
       "      <td>0.755913</td>\n",
       "      <td>0.434233</td>\n",
       "      <td>0.138395</td>\n",
       "      <td>01:19</td>\n",
       "    </tr>\n",
       "    <tr>\n",
       "      <td>1</td>\n",
       "      <td>0.440407</td>\n",
       "      <td>0.300845</td>\n",
       "      <td>0.093224</td>\n",
       "      <td>01:20</td>\n",
       "    </tr>\n",
       "    <tr>\n",
       "      <td>2</td>\n",
       "      <td>0.373542</td>\n",
       "      <td>0.317165</td>\n",
       "      <td>0.090341</td>\n",
       "      <td>01:22</td>\n",
       "    </tr>\n",
       "    <tr>\n",
       "      <td>3</td>\n",
       "      <td>0.347945</td>\n",
       "      <td>0.311864</td>\n",
       "      <td>0.102355</td>\n",
       "      <td>01:20</td>\n",
       "    </tr>\n",
       "    <tr>\n",
       "      <td>4</td>\n",
       "      <td>0.310837</td>\n",
       "      <td>0.361959</td>\n",
       "      <td>0.111965</td>\n",
       "      <td>01:18</td>\n",
       "    </tr>\n",
       "    <tr>\n",
       "      <td>5</td>\n",
       "      <td>0.268365</td>\n",
       "      <td>0.212954</td>\n",
       "      <td>0.069678</td>\n",
       "      <td>01:19</td>\n",
       "    </tr>\n",
       "    <tr>\n",
       "      <td>6</td>\n",
       "      <td>0.240314</td>\n",
       "      <td>0.230592</td>\n",
       "      <td>0.070639</td>\n",
       "      <td>01:20</td>\n",
       "    </tr>\n",
       "    <tr>\n",
       "      <td>7</td>\n",
       "      <td>0.193237</td>\n",
       "      <td>0.296935</td>\n",
       "      <td>0.084094</td>\n",
       "      <td>01:19</td>\n",
       "    </tr>\n",
       "    <tr>\n",
       "      <td>8</td>\n",
       "      <td>0.162659</td>\n",
       "      <td>0.191717</td>\n",
       "      <td>0.053820</td>\n",
       "      <td>01:19</td>\n",
       "    </tr>\n",
       "    <tr>\n",
       "      <td>9</td>\n",
       "      <td>0.109350</td>\n",
       "      <td>0.149160</td>\n",
       "      <td>0.036040</td>\n",
       "      <td>01:19</td>\n",
       "    </tr>\n",
       "    <tr>\n",
       "      <td>10</td>\n",
       "      <td>0.075982</td>\n",
       "      <td>0.151846</td>\n",
       "      <td>0.034599</td>\n",
       "      <td>01:18</td>\n",
       "    </tr>\n",
       "    <tr>\n",
       "      <td>11</td>\n",
       "      <td>0.063127</td>\n",
       "      <td>0.143399</td>\n",
       "      <td>0.029313</td>\n",
       "      <td>01:18</td>\n",
       "    </tr>\n",
       "    <tr>\n",
       "      <td>12</td>\n",
       "      <td>0.036894</td>\n",
       "      <td>0.132147</td>\n",
       "      <td>0.029793</td>\n",
       "      <td>01:19</td>\n",
       "    </tr>\n",
       "    <tr>\n",
       "      <td>13</td>\n",
       "      <td>0.036966</td>\n",
       "      <td>0.108520</td>\n",
       "      <td>0.025949</td>\n",
       "      <td>01:19</td>\n",
       "    </tr>\n",
       "    <tr>\n",
       "      <td>14</td>\n",
       "      <td>0.023930</td>\n",
       "      <td>0.105282</td>\n",
       "      <td>0.024988</td>\n",
       "      <td>01:19</td>\n",
       "    </tr>\n",
       "    <tr>\n",
       "      <td>15</td>\n",
       "      <td>0.020585</td>\n",
       "      <td>0.105267</td>\n",
       "      <td>0.023546</td>\n",
       "      <td>01:18</td>\n",
       "    </tr>\n",
       "  </tbody>\n",
       "</table>"
      ],
      "text/plain": [
       "<IPython.core.display.HTML object>"
      ]
     },
     "metadata": {},
     "output_type": "display_data"
    }
   ],
   "source": [
    "learn.fine_tune(16, 0.005)"
   ]
  },
  {
   "cell_type": "code",
   "execution_count": 42,
   "id": "985236f0",
   "metadata": {},
   "outputs": [
    {
     "data": {
      "text/html": [
       "\n",
       "<style>\n",
       "    /* Turns off some styling */\n",
       "    progress {\n",
       "        /* gets rid of default border in Firefox and Opera. */\n",
       "        border: none;\n",
       "        /* Needs to be in here for Safari polyfill so background images work as expected. */\n",
       "        background-size: auto;\n",
       "    }\n",
       "    .progress-bar-interrupted, .progress-bar-interrupted::-webkit-progress-bar {\n",
       "        background: #F44336;\n",
       "    }\n",
       "</style>\n"
      ],
      "text/plain": [
       "<IPython.core.display.HTML object>"
      ]
     },
     "metadata": {},
     "output_type": "display_data"
    },
    {
     "data": {
      "text/html": [],
      "text/plain": [
       "<IPython.core.display.HTML object>"
      ]
     },
     "metadata": {},
     "output_type": "display_data"
    }
   ],
   "source": [
    "probs, _ = learn.get_preds(dl=dls.test_dl(test_files))"
   ]
  },
  {
   "cell_type": "code",
   "execution_count": 43,
   "id": "773a73e2",
   "metadata": {
    "scrolled": true
   },
   "outputs": [
    {
     "data": {
      "text/html": [
       "\n",
       "<style>\n",
       "    /* Turns off some styling */\n",
       "    progress {\n",
       "        /* gets rid of default border in Firefox and Opera. */\n",
       "        border: none;\n",
       "        /* Needs to be in here for Safari polyfill so background images work as expected. */\n",
       "        background-size: auto;\n",
       "    }\n",
       "    .progress-bar-interrupted, .progress-bar-interrupted::-webkit-progress-bar {\n",
       "        background: #F44336;\n",
       "    }\n",
       "</style>\n"
      ],
      "text/plain": [
       "<IPython.core.display.HTML object>"
      ]
     },
     "metadata": {},
     "output_type": "display_data"
    },
    {
     "data": {
      "text/html": [
       "\n",
       "    <div>\n",
       "      <progress value='0' class='' max='16' style='width:300px; height:20px; vertical-align: middle;'></progress>\n",
       "      \n",
       "    </div>\n",
       "    \n"
      ],
      "text/plain": [
       "<IPython.core.display.HTML object>"
      ]
     },
     "metadata": {},
     "output_type": "display_data"
    },
    {
     "data": {
      "text/html": [
       "\n",
       "<style>\n",
       "    /* Turns off some styling */\n",
       "    progress {\n",
       "        /* gets rid of default border in Firefox and Opera. */\n",
       "        border: none;\n",
       "        /* Needs to be in here for Safari polyfill so background images work as expected. */\n",
       "        background-size: auto;\n",
       "    }\n",
       "    .progress-bar-interrupted, .progress-bar-interrupted::-webkit-progress-bar {\n",
       "        background: #F44336;\n",
       "    }\n",
       "</style>\n"
      ],
      "text/plain": [
       "<IPython.core.display.HTML object>"
      ]
     },
     "metadata": {},
     "output_type": "display_data"
    },
    {
     "data": {
      "text/html": [],
      "text/plain": [
       "<IPython.core.display.HTML object>"
      ]
     },
     "metadata": {},
     "output_type": "display_data"
    }
   ],
   "source": [
    "preds, _ = learn.tta(dl=dls.test_dl(test_files))"
   ]
  },
  {
   "cell_type": "code",
   "execution_count": 44,
   "id": "c745d759",
   "metadata": {},
   "outputs": [],
   "source": [
    "sample_submission.label = dls.vocab[preds.argmax(axis=1)]\n",
    "sample_submission.to_csv('22jul14-Fold3.csv', index=False)"
   ]
  },
  {
   "cell_type": "code",
   "execution_count": 46,
   "id": "1cfec0dd",
   "metadata": {},
   "outputs": [],
   "source": [
    "kfolds_preds['predictions'].append(probs)\n",
    "kfolds_preds['tta_predictions'].append(preds)"
   ]
  },
  {
   "cell_type": "code",
   "execution_count": 47,
   "id": "d38542f1",
   "metadata": {},
   "outputs": [],
   "source": [
    "save_pickle('22jul_kfold_preds_dict.pkl', kfolds_preds)"
   ]
  },
  {
   "cell_type": "markdown",
   "id": "1ffe98dd",
   "metadata": {},
   "source": [
    "### Train Fold 4"
   ]
  },
  {
   "cell_type": "code",
   "execution_count": 48,
   "id": "4c8669c2",
   "metadata": {},
   "outputs": [],
   "source": [
    "kfolds_preds = load_pickle('22jul_kfold_preds_dict.pkl')"
   ]
  },
  {
   "cell_type": "code",
   "execution_count": 49,
   "id": "b9390c59",
   "metadata": {},
   "outputs": [],
   "source": [
    "dls = get_datablock(i_fold=4)"
   ]
  },
  {
   "cell_type": "code",
   "execution_count": 50,
   "id": "1394ebb6",
   "metadata": {},
   "outputs": [
    {
     "data": {
      "text/plain": [
       "[Path('paddy-disease-classification/train_images/bacterial_leaf_blight/100023.jpg'),\n",
       " Path('paddy-disease-classification/train_images/bacterial_leaf_blight/100049.jpg'),\n",
       " Path('paddy-disease-classification/train_images/bacterial_leaf_blight/100148.jpg'),\n",
       " Path('paddy-disease-classification/train_images/bacterial_leaf_blight/100268.jpg'),\n",
       " Path('paddy-disease-classification/train_images/bacterial_leaf_blight/100289.jpg')]"
      ]
     },
     "execution_count": 50,
     "metadata": {},
     "output_type": "execute_result"
    }
   ],
   "source": [
    "dls.valid.items[:5]"
   ]
  },
  {
   "cell_type": "code",
   "execution_count": 51,
   "id": "5dee3805",
   "metadata": {},
   "outputs": [],
   "source": [
    "label_smoothing = 0\n",
    "learn = vision_learner(dls, resnet34, metrics=error_rate, loss_func=custom_loss).to_fp16()"
   ]
  },
  {
   "cell_type": "code",
   "execution_count": 52,
   "id": "b19cf0c4",
   "metadata": {},
   "outputs": [
    {
     "data": {
      "text/html": [
       "\n",
       "<style>\n",
       "    /* Turns off some styling */\n",
       "    progress {\n",
       "        /* gets rid of default border in Firefox and Opera. */\n",
       "        border: none;\n",
       "        /* Needs to be in here for Safari polyfill so background images work as expected. */\n",
       "        background-size: auto;\n",
       "    }\n",
       "    .progress-bar-interrupted, .progress-bar-interrupted::-webkit-progress-bar {\n",
       "        background: #F44336;\n",
       "    }\n",
       "</style>\n"
      ],
      "text/plain": [
       "<IPython.core.display.HTML object>"
      ]
     },
     "metadata": {},
     "output_type": "display_data"
    },
    {
     "data": {
      "text/html": [
       "<table border=\"1\" class=\"dataframe\">\n",
       "  <thead>\n",
       "    <tr style=\"text-align: left;\">\n",
       "      <th>epoch</th>\n",
       "      <th>train_loss</th>\n",
       "      <th>valid_loss</th>\n",
       "      <th>error_rate</th>\n",
       "      <th>time</th>\n",
       "    </tr>\n",
       "  </thead>\n",
       "  <tbody>\n",
       "    <tr>\n",
       "      <td>0</td>\n",
       "      <td>1.761463</td>\n",
       "      <td>0.978713</td>\n",
       "      <td>0.311090</td>\n",
       "      <td>01:24</td>\n",
       "    </tr>\n",
       "  </tbody>\n",
       "</table>"
      ],
      "text/plain": [
       "<IPython.core.display.HTML object>"
      ]
     },
     "metadata": {},
     "output_type": "display_data"
    },
    {
     "data": {
      "text/html": [
       "\n",
       "<style>\n",
       "    /* Turns off some styling */\n",
       "    progress {\n",
       "        /* gets rid of default border in Firefox and Opera. */\n",
       "        border: none;\n",
       "        /* Needs to be in here for Safari polyfill so background images work as expected. */\n",
       "        background-size: auto;\n",
       "    }\n",
       "    .progress-bar-interrupted, .progress-bar-interrupted::-webkit-progress-bar {\n",
       "        background: #F44336;\n",
       "    }\n",
       "</style>\n"
      ],
      "text/plain": [
       "<IPython.core.display.HTML object>"
      ]
     },
     "metadata": {},
     "output_type": "display_data"
    },
    {
     "data": {
      "text/html": [
       "<table border=\"1\" class=\"dataframe\">\n",
       "  <thead>\n",
       "    <tr style=\"text-align: left;\">\n",
       "      <th>epoch</th>\n",
       "      <th>train_loss</th>\n",
       "      <th>valid_loss</th>\n",
       "      <th>error_rate</th>\n",
       "      <th>time</th>\n",
       "    </tr>\n",
       "  </thead>\n",
       "  <tbody>\n",
       "    <tr>\n",
       "      <td>0</td>\n",
       "      <td>0.794363</td>\n",
       "      <td>0.401969</td>\n",
       "      <td>0.127220</td>\n",
       "      <td>01:29</td>\n",
       "    </tr>\n",
       "    <tr>\n",
       "      <td>1</td>\n",
       "      <td>0.463785</td>\n",
       "      <td>0.310990</td>\n",
       "      <td>0.087374</td>\n",
       "      <td>01:30</td>\n",
       "    </tr>\n",
       "    <tr>\n",
       "      <td>2</td>\n",
       "      <td>0.378451</td>\n",
       "      <td>0.349881</td>\n",
       "      <td>0.098896</td>\n",
       "      <td>01:29</td>\n",
       "    </tr>\n",
       "    <tr>\n",
       "      <td>3</td>\n",
       "      <td>0.359347</td>\n",
       "      <td>0.291711</td>\n",
       "      <td>0.086894</td>\n",
       "      <td>01:33</td>\n",
       "    </tr>\n",
       "    <tr>\n",
       "      <td>4</td>\n",
       "      <td>0.306631</td>\n",
       "      <td>0.283286</td>\n",
       "      <td>0.080173</td>\n",
       "      <td>01:22</td>\n",
       "    </tr>\n",
       "    <tr>\n",
       "      <td>5</td>\n",
       "      <td>0.269499</td>\n",
       "      <td>0.320978</td>\n",
       "      <td>0.091215</td>\n",
       "      <td>01:23</td>\n",
       "    </tr>\n",
       "    <tr>\n",
       "      <td>6</td>\n",
       "      <td>0.215440</td>\n",
       "      <td>0.197314</td>\n",
       "      <td>0.057609</td>\n",
       "      <td>01:31</td>\n",
       "    </tr>\n",
       "    <tr>\n",
       "      <td>7</td>\n",
       "      <td>0.189763</td>\n",
       "      <td>0.245345</td>\n",
       "      <td>0.063850</td>\n",
       "      <td>01:23</td>\n",
       "    </tr>\n",
       "    <tr>\n",
       "      <td>8</td>\n",
       "      <td>0.156215</td>\n",
       "      <td>0.169610</td>\n",
       "      <td>0.052808</td>\n",
       "      <td>01:28</td>\n",
       "    </tr>\n",
       "    <tr>\n",
       "      <td>9</td>\n",
       "      <td>0.106465</td>\n",
       "      <td>0.194469</td>\n",
       "      <td>0.052808</td>\n",
       "      <td>01:26</td>\n",
       "    </tr>\n",
       "    <tr>\n",
       "      <td>10</td>\n",
       "      <td>0.078059</td>\n",
       "      <td>0.118908</td>\n",
       "      <td>0.033605</td>\n",
       "      <td>01:28</td>\n",
       "    </tr>\n",
       "    <tr>\n",
       "      <td>11</td>\n",
       "      <td>0.061342</td>\n",
       "      <td>0.122688</td>\n",
       "      <td>0.033605</td>\n",
       "      <td>01:22</td>\n",
       "    </tr>\n",
       "    <tr>\n",
       "      <td>12</td>\n",
       "      <td>0.045175</td>\n",
       "      <td>0.106050</td>\n",
       "      <td>0.030245</td>\n",
       "      <td>01:18</td>\n",
       "    </tr>\n",
       "    <tr>\n",
       "      <td>13</td>\n",
       "      <td>0.032131</td>\n",
       "      <td>0.098901</td>\n",
       "      <td>0.029285</td>\n",
       "      <td>01:20</td>\n",
       "    </tr>\n",
       "    <tr>\n",
       "      <td>14</td>\n",
       "      <td>0.027680</td>\n",
       "      <td>0.099073</td>\n",
       "      <td>0.028325</td>\n",
       "      <td>01:19</td>\n",
       "    </tr>\n",
       "    <tr>\n",
       "      <td>15</td>\n",
       "      <td>0.022690</td>\n",
       "      <td>0.097056</td>\n",
       "      <td>0.027364</td>\n",
       "      <td>01:21</td>\n",
       "    </tr>\n",
       "  </tbody>\n",
       "</table>"
      ],
      "text/plain": [
       "<IPython.core.display.HTML object>"
      ]
     },
     "metadata": {},
     "output_type": "display_data"
    }
   ],
   "source": [
    "learn.fine_tune(16, 0.005)"
   ]
  },
  {
   "cell_type": "code",
   "execution_count": 53,
   "id": "24e4fa30",
   "metadata": {},
   "outputs": [
    {
     "data": {
      "text/html": [
       "\n",
       "<style>\n",
       "    /* Turns off some styling */\n",
       "    progress {\n",
       "        /* gets rid of default border in Firefox and Opera. */\n",
       "        border: none;\n",
       "        /* Needs to be in here for Safari polyfill so background images work as expected. */\n",
       "        background-size: auto;\n",
       "    }\n",
       "    .progress-bar-interrupted, .progress-bar-interrupted::-webkit-progress-bar {\n",
       "        background: #F44336;\n",
       "    }\n",
       "</style>\n"
      ],
      "text/plain": [
       "<IPython.core.display.HTML object>"
      ]
     },
     "metadata": {},
     "output_type": "display_data"
    },
    {
     "data": {
      "text/html": [],
      "text/plain": [
       "<IPython.core.display.HTML object>"
      ]
     },
     "metadata": {},
     "output_type": "display_data"
    }
   ],
   "source": [
    "probs, _ = learn.get_preds(dl=dls.test_dl(test_files))"
   ]
  },
  {
   "cell_type": "code",
   "execution_count": 54,
   "id": "c4170bae",
   "metadata": {},
   "outputs": [
    {
     "data": {
      "text/html": [
       "\n",
       "<style>\n",
       "    /* Turns off some styling */\n",
       "    progress {\n",
       "        /* gets rid of default border in Firefox and Opera. */\n",
       "        border: none;\n",
       "        /* Needs to be in here for Safari polyfill so background images work as expected. */\n",
       "        background-size: auto;\n",
       "    }\n",
       "    .progress-bar-interrupted, .progress-bar-interrupted::-webkit-progress-bar {\n",
       "        background: #F44336;\n",
       "    }\n",
       "</style>\n"
      ],
      "text/plain": [
       "<IPython.core.display.HTML object>"
      ]
     },
     "metadata": {},
     "output_type": "display_data"
    },
    {
     "data": {
      "text/html": [
       "\n",
       "    <div>\n",
       "      <progress value='0' class='' max='16' style='width:300px; height:20px; vertical-align: middle;'></progress>\n",
       "      \n",
       "    </div>\n",
       "    \n"
      ],
      "text/plain": [
       "<IPython.core.display.HTML object>"
      ]
     },
     "metadata": {},
     "output_type": "display_data"
    },
    {
     "data": {
      "text/html": [
       "\n",
       "<style>\n",
       "    /* Turns off some styling */\n",
       "    progress {\n",
       "        /* gets rid of default border in Firefox and Opera. */\n",
       "        border: none;\n",
       "        /* Needs to be in here for Safari polyfill so background images work as expected. */\n",
       "        background-size: auto;\n",
       "    }\n",
       "    .progress-bar-interrupted, .progress-bar-interrupted::-webkit-progress-bar {\n",
       "        background: #F44336;\n",
       "    }\n",
       "</style>\n"
      ],
      "text/plain": [
       "<IPython.core.display.HTML object>"
      ]
     },
     "metadata": {},
     "output_type": "display_data"
    },
    {
     "data": {
      "text/html": [],
      "text/plain": [
       "<IPython.core.display.HTML object>"
      ]
     },
     "metadata": {},
     "output_type": "display_data"
    }
   ],
   "source": [
    "preds, _ = learn.tta(dl=dls.test_dl(test_files))"
   ]
  },
  {
   "cell_type": "code",
   "execution_count": 55,
   "id": "772686a6",
   "metadata": {},
   "outputs": [],
   "source": [
    "sample_submission.label = dls.vocab[preds.argmax(axis=1)]\n",
    "sample_submission.to_csv('22jul14-Fold4.csv', index=False)"
   ]
  },
  {
   "cell_type": "code",
   "execution_count": 56,
   "id": "3a92b3d8",
   "metadata": {},
   "outputs": [],
   "source": [
    "kfolds_preds['predictions'].append(probs)\n",
    "kfolds_preds['tta_predictions'].append(preds)"
   ]
  },
  {
   "cell_type": "code",
   "execution_count": 57,
   "id": "dbdb6627",
   "metadata": {},
   "outputs": [],
   "source": [
    "save_pickle('22jul_kfold_preds_dict.pkl', kfolds_preds)"
   ]
  },
  {
   "cell_type": "markdown",
   "id": "059b3c76",
   "metadata": {},
   "source": [
    "### Ensemble"
   ]
  },
  {
   "cell_type": "code",
   "execution_count": 60,
   "id": "e577ca9e",
   "metadata": {},
   "outputs": [
    {
     "data": {
      "text/plain": [
       "TensorBase([ 0.0596, -2.4420, -3.0153, -3.1522,  1.4467, -2.5806,  0.6302, 13.7930,\n",
       "         0.2020, -1.6764])"
      ]
     },
     "execution_count": 60,
     "metadata": {},
     "output_type": "execute_result"
    }
   ],
   "source": [
    "kfolds_preds['tta_predictions'][0][0]"
   ]
  },
  {
   "cell_type": "code",
   "execution_count": 65,
   "id": "3fc6adb8",
   "metadata": {},
   "outputs": [
    {
     "data": {
      "text/plain": [
       "TensorBase([[1.0856e-06, 8.8968e-08, 5.0151e-08,  ..., 9.9999e-01, 1.2517e-06,\n",
       "         1.9132e-07],\n",
       "        [3.8872e-08, 4.8012e-08, 1.7431e-08,  ..., 7.2525e-07, 1.0000e+00,\n",
       "         8.7696e-08],\n",
       "        [2.8856e-09, 1.4733e-06, 3.4506e-07,  ..., 8.0411e-06, 1.4984e-06,\n",
       "         8.8227e-08],\n",
       "        ...,\n",
       "        [1.3997e-07, 2.1311e-07, 1.2382e-07,  ..., 1.1558e-06, 1.0000e+00,\n",
       "         4.0590e-07],\n",
       "        [1.1088e-08, 1.0000e+00, 6.5214e-08,  ..., 1.6343e-07, 1.9208e-07,\n",
       "         2.7024e-07],\n",
       "        [1.7107e-09, 1.6672e-11, 5.6055e-09,  ..., 4.5147e-11, 4.6310e-11,\n",
       "         1.2087e-11]])"
      ]
     },
     "execution_count": 65,
     "metadata": {},
     "output_type": "execute_result"
    }
   ],
   "source": [
    "softmax(kfolds_preds['tta_predictions'][0], axis=1)"
   ]
  },
  {
   "cell_type": "code",
   "execution_count": 67,
   "id": "25736fb1",
   "metadata": {},
   "outputs": [],
   "source": [
    "tta_predictions = [softmax(each, axis=1) for each in kfolds_preds['tta_predictions']]"
   ]
  },
  {
   "cell_type": "code",
   "execution_count": 72,
   "id": "173407f2",
   "metadata": {},
   "outputs": [],
   "source": [
    "avg_pr = torch.stack(tta_predictions).mean(0)"
   ]
  },
  {
   "cell_type": "code",
   "execution_count": 76,
   "id": "ea7d529e",
   "metadata": {},
   "outputs": [
    {
     "data": {
      "text/plain": [
       "torch.Size([3469, 10])"
      ]
     },
     "execution_count": 76,
     "metadata": {},
     "output_type": "execute_result"
    }
   ],
   "source": [
    "avg_pr.shape"
   ]
  },
  {
   "cell_type": "code",
   "execution_count": 77,
   "id": "0601c156",
   "metadata": {},
   "outputs": [],
   "source": [
    "sample_submission.label = dls.vocab[avg_pr.argmax(axis=1)]\n",
    "sample_submission.to_csv('22jul14-Stacked.csv', index=False)"
   ]
  },
  {
   "cell_type": "code",
   "execution_count": null,
   "id": "84a1b039",
   "metadata": {},
   "outputs": [],
   "source": [
    "## NON TTA"
   ]
  },
  {
   "cell_type": "code",
   "execution_count": 78,
   "id": "5f749d62",
   "metadata": {},
   "outputs": [],
   "source": [
    "predictions = [softmax(each, axis=1) for each in kfolds_preds['predictions']]"
   ]
  },
  {
   "cell_type": "code",
   "execution_count": 79,
   "id": "37a72a87",
   "metadata": {},
   "outputs": [],
   "source": [
    "non_tta_avg_pr = torch.stack(predictions).mean(0)"
   ]
  },
  {
   "cell_type": "code",
   "execution_count": 80,
   "id": "80dc33e7",
   "metadata": {},
   "outputs": [
    {
     "data": {
      "text/plain": [
       "torch.Size([3469, 10])"
      ]
     },
     "execution_count": 80,
     "metadata": {},
     "output_type": "execute_result"
    }
   ],
   "source": [
    "non_tta_avg_pr.shape"
   ]
  },
  {
   "cell_type": "code",
   "execution_count": 81,
   "id": "bfd55060",
   "metadata": {},
   "outputs": [],
   "source": [
    "sample_submission.label = dls.vocab[non_tta_avg_pr.argmax(axis=1)]\n",
    "sample_submission.to_csv('22jul14-Stacked-noTTA.csv', index=False)"
   ]
  },
  {
   "cell_type": "code",
   "execution_count": null,
   "id": "0cec71b4",
   "metadata": {},
   "outputs": [],
   "source": []
  },
  {
   "cell_type": "code",
   "execution_count": 84,
   "id": "d35ba80f",
   "metadata": {},
   "outputs": [
    {
     "data": {
      "text/plain": [
       "torch.Size([3469, 10])"
      ]
     },
     "execution_count": 84,
     "metadata": {},
     "output_type": "execute_result"
    }
   ],
   "source": [
    "tta_and_notta_preds = [softmax(each, axis=1) for each in (predictions + tta_predictions)]\n",
    "tta_and_non_tta_avg_pr = torch.stack(tta_and_notta_preds).mean(0)\n",
    "tta_and_non_tta_avg_pr.shape"
   ]
  },
  {
   "cell_type": "code",
   "execution_count": 85,
   "id": "5a6e0ac3",
   "metadata": {},
   "outputs": [],
   "source": [
    "sample_submission.label = dls.vocab[tta_and_non_tta_avg_pr.argmax(axis=1)]\n",
    "sample_submission.to_csv('22jul14-Stacked-noTTAandTTA.csv', index=False)"
   ]
  },
  {
   "cell_type": "markdown",
   "id": "8459becd",
   "metadata": {},
   "source": [
    "## The experiment ended here\n"
   ]
  },
  {
   "cell_type": "code",
   "execution_count": null,
   "id": "b87ea04e",
   "metadata": {},
   "outputs": [],
   "source": []
  },
  {
   "cell_type": "code",
   "execution_count": null,
   "id": "cb2fe805",
   "metadata": {},
   "outputs": [],
   "source": []
  },
  {
   "cell_type": "code",
   "execution_count": null,
   "id": "d3b0e409",
   "metadata": {},
   "outputs": [],
   "source": []
  },
  {
   "cell_type": "code",
   "execution_count": 219,
   "id": "fb182bcb",
   "metadata": {},
   "outputs": [
    {
     "data": {
      "text/plain": [
       "TensorBase([0.1625, 0.1188, 0.0447, 0.1711, 0.1148, 0.1117, 0.1167, 0.0518, 0.0614,\n",
       "        0.0466])"
      ]
     },
     "execution_count": 219,
     "metadata": {},
     "output_type": "execute_result"
    }
   ],
   "source": [
    "from scipy.special import softmax\n",
    "softmax(preds2[0])"
   ]
  },
  {
   "cell_type": "code",
   "execution_count": 224,
   "id": "6622ad2d",
   "metadata": {},
   "outputs": [
    {
     "data": {
      "text/plain": [
       "TensorBase([0.1625, 0.1188, 0.0447, 0.1711, 0.1148, 0.1117, 0.1167, 0.0518, 0.0614,\n",
       "        0.0466])"
      ]
     },
     "execution_count": 224,
     "metadata": {},
     "output_type": "execute_result"
    }
   ],
   "source": [
    "softmax(preds2, axis=1)[0]"
   ]
  },
  {
   "cell_type": "code",
   "execution_count": null,
   "id": "cb43ac18",
   "metadata": {},
   "outputs": [],
   "source": []
  },
  {
   "cell_type": "code",
   "execution_count": null,
   "id": "f4579e70",
   "metadata": {},
   "outputs": [],
   "source": []
  },
  {
   "cell_type": "code",
   "execution_count": null,
   "id": "1da0c03b",
   "metadata": {},
   "outputs": [],
   "source": []
  },
  {
   "cell_type": "code",
   "execution_count": 157,
   "id": "1543ecc9",
   "metadata": {},
   "outputs": [],
   "source": [
    "def train(arch, lr=0.01, size=224, item_tfms=Resize(480, method='squish'), accum=1, finetune=True, epochs=12, i_fold=0):\n",
    "      \n",
    "    dblock = DataBlock(\n",
    "        blocks=(ImageBlock, CategoryBlock),\n",
    "        get_items=get_image_files,\n",
    "        get_y=parent_label,\n",
    "        \n",
    "        #splitter=RandomSplitter(0.2, seed=42),\n",
    "        splitter=FuncSplitter(get_split),\n",
    "        item_tfms=item_tfms,\n",
    "        batch_tfms=aug_transforms(size=size, min_scale=0.75)\n",
    "    )\n",
    "    dls = dblock.dataloaders(train_path, bs=64//accum)\n",
    "    \n",
    "    def combine_loss(inp, disease): \n",
    "        return F.cross_entropy(inp, disease, label_smoothing=1)\n",
    "        \n",
    "    cbs = GradientAccumulation(64) if accum!=1 else []\n",
    "    \n",
    "    learn = vision_learner(dls, arch, metrics=error_rate, cbs=cbs).to_fp16()\n",
    "    \n",
    "    if finetune:\n",
    "        learn.fine_tune(epochs, lr)\n",
    "        return learn#.tta(dl=dls.test_dl(tst_files))\n",
    "    else:\n",
    "        learn.unfreeze()\n",
    "        learn.fit_one_cycle(epochs, 0.01)"
   ]
  },
  {
   "cell_type": "code",
   "execution_count": 158,
   "id": "30ce878f",
   "metadata": {},
   "outputs": [
    {
     "data": {
      "text/html": [
       "\n",
       "<style>\n",
       "    /* Turns off some styling */\n",
       "    progress {\n",
       "        /* gets rid of default border in Firefox and Opera. */\n",
       "        border: none;\n",
       "        /* Needs to be in here for Safari polyfill so background images work as expected. */\n",
       "        background-size: auto;\n",
       "    }\n",
       "    .progress-bar-interrupted, .progress-bar-interrupted::-webkit-progress-bar {\n",
       "        background: #F44336;\n",
       "    }\n",
       "</style>\n"
      ],
      "text/plain": [
       "<IPython.core.display.HTML object>"
      ]
     },
     "metadata": {},
     "output_type": "display_data"
    },
    {
     "data": {
      "text/html": [
       "<table border=\"1\" class=\"dataframe\">\n",
       "  <thead>\n",
       "    <tr style=\"text-align: left;\">\n",
       "      <th>epoch</th>\n",
       "      <th>train_loss</th>\n",
       "      <th>valid_loss</th>\n",
       "      <th>error_rate</th>\n",
       "      <th>time</th>\n",
       "    </tr>\n",
       "  </thead>\n",
       "  <tbody>\n",
       "    <tr>\n",
       "      <td>0</td>\n",
       "      <td>3.158795</td>\n",
       "      <td>2.252595</td>\n",
       "      <td>0.765978</td>\n",
       "      <td>01:33</td>\n",
       "    </tr>\n",
       "  </tbody>\n",
       "</table>"
      ],
      "text/plain": [
       "<IPython.core.display.HTML object>"
      ]
     },
     "metadata": {},
     "output_type": "display_data"
    },
    {
     "data": {
      "text/html": [
       "\n",
       "<style>\n",
       "    /* Turns off some styling */\n",
       "    progress {\n",
       "        /* gets rid of default border in Firefox and Opera. */\n",
       "        border: none;\n",
       "        /* Needs to be in here for Safari polyfill so background images work as expected. */\n",
       "        background-size: auto;\n",
       "    }\n",
       "    .progress-bar-interrupted, .progress-bar-interrupted::-webkit-progress-bar {\n",
       "        background: #F44336;\n",
       "    }\n",
       "</style>\n"
      ],
      "text/plain": [
       "<IPython.core.display.HTML object>"
      ]
     },
     "metadata": {},
     "output_type": "display_data"
    },
    {
     "data": {
      "text/html": [
       "<table border=\"1\" class=\"dataframe\">\n",
       "  <thead>\n",
       "    <tr style=\"text-align: left;\">\n",
       "      <th>epoch</th>\n",
       "      <th>train_loss</th>\n",
       "      <th>valid_loss</th>\n",
       "      <th>error_rate</th>\n",
       "      <th>time</th>\n",
       "    </tr>\n",
       "  </thead>\n",
       "  <tbody>\n",
       "    <tr>\n",
       "      <td>0</td>\n",
       "      <td>2.623206</td>\n",
       "      <td>2.098186</td>\n",
       "      <td>0.728976</td>\n",
       "      <td>01:26</td>\n",
       "    </tr>\n",
       "    <tr>\n",
       "      <td>1</td>\n",
       "      <td>2.454458</td>\n",
       "      <td>2.040464</td>\n",
       "      <td>0.709755</td>\n",
       "      <td>01:24</td>\n",
       "    </tr>\n",
       "  </tbody>\n",
       "</table>"
      ],
      "text/plain": [
       "<IPython.core.display.HTML object>"
      ]
     },
     "metadata": {},
     "output_type": "display_data"
    }
   ],
   "source": [
    "learn = train(\n",
    "    'resnet34',\n",
    "    lr=0.01,\n",
    "    epochs=2,\n",
    ")"
   ]
  },
  {
   "cell_type": "markdown",
   "id": "f9f8977e",
   "metadata": {},
   "source": [
    "### Create a learner and train"
   ]
  },
  {
   "cell_type": "code",
   "execution_count": null,
   "id": "9a47fabe",
   "metadata": {},
   "outputs": [],
   "source": []
  },
  {
   "cell_type": "code",
   "execution_count": null,
   "id": "c2474cf7",
   "metadata": {},
   "outputs": [],
   "source": []
  },
  {
   "cell_type": "code",
   "execution_count": null,
   "id": "150ab0e7",
   "metadata": {},
   "outputs": [],
   "source": []
  },
  {
   "cell_type": "markdown",
   "id": "8555adf8",
   "metadata": {},
   "source": [
    "### Predictions and Test Time Augmentation"
   ]
  },
  {
   "cell_type": "markdown",
   "id": "f288ba08",
   "metadata": {},
   "source": [
    "Lets compare the error rate -on the validation set- that are obtained with the normal prediction function and with the predictions we can get applying a technique called Test Time Augmentation (TTA). As you'll see, TTA is easy with fastai."
   ]
  },
  {
   "cell_type": "code",
   "execution_count": 9,
   "id": "520df898",
   "metadata": {},
   "outputs": [
    {
     "data": {
      "text/html": [
       "\n",
       "<style>\n",
       "    /* Turns off some styling */\n",
       "    progress {\n",
       "        /* gets rid of default border in Firefox and Opera. */\n",
       "        border: none;\n",
       "        /* Needs to be in here for Safari polyfill so background images work as expected. */\n",
       "        background-size: auto;\n",
       "    }\n",
       "    .progress-bar-interrupted, .progress-bar-interrupted::-webkit-progress-bar {\n",
       "        background: #F44336;\n",
       "    }\n",
       "</style>\n"
      ],
      "text/plain": [
       "<IPython.core.display.HTML object>"
      ]
     },
     "metadata": {},
     "output_type": "display_data"
    },
    {
     "data": {
      "text/html": [],
      "text/plain": [
       "<IPython.core.display.HTML object>"
      ]
     },
     "metadata": {},
     "output_type": "display_data"
    },
    {
     "data": {
      "text/plain": [
       "TensorBase(0.0255)"
      ]
     },
     "execution_count": 9,
     "metadata": {},
     "output_type": "execute_result"
    }
   ],
   "source": [
    "# Get predictions on validation set\n",
    "probs, target = learn.get_preds(dl=dls.valid)\n",
    "error_rate(probs, target)"
   ]
  },
  {
   "cell_type": "code",
   "execution_count": 10,
   "id": "cbe631d1",
   "metadata": {},
   "outputs": [
    {
     "data": {
      "text/html": [
       "\n",
       "<style>\n",
       "    /* Turns off some styling */\n",
       "    progress {\n",
       "        /* gets rid of default border in Firefox and Opera. */\n",
       "        border: none;\n",
       "        /* Needs to be in here for Safari polyfill so background images work as expected. */\n",
       "        background-size: auto;\n",
       "    }\n",
       "    .progress-bar-interrupted, .progress-bar-interrupted::-webkit-progress-bar {\n",
       "        background: #F44336;\n",
       "    }\n",
       "</style>\n"
      ],
      "text/plain": [
       "<IPython.core.display.HTML object>"
      ]
     },
     "metadata": {},
     "output_type": "display_data"
    },
    {
     "data": {
      "text/html": [
       "\n",
       "    <div>\n",
       "      <progress value='0' class='' max='16' style='width:300px; height:20px; vertical-align: middle;'></progress>\n",
       "      \n",
       "    </div>\n",
       "    \n"
      ],
      "text/plain": [
       "<IPython.core.display.HTML object>"
      ]
     },
     "metadata": {},
     "output_type": "display_data"
    },
    {
     "data": {
      "text/html": [
       "\n",
       "<style>\n",
       "    /* Turns off some styling */\n",
       "    progress {\n",
       "        /* gets rid of default border in Firefox and Opera. */\n",
       "        border: none;\n",
       "        /* Needs to be in here for Safari polyfill so background images work as expected. */\n",
       "        background-size: auto;\n",
       "    }\n",
       "    .progress-bar-interrupted, .progress-bar-interrupted::-webkit-progress-bar {\n",
       "        background: #F44336;\n",
       "    }\n",
       "</style>\n"
      ],
      "text/plain": [
       "<IPython.core.display.HTML object>"
      ]
     },
     "metadata": {},
     "output_type": "display_data"
    },
    {
     "data": {
      "text/html": [],
      "text/plain": [
       "<IPython.core.display.HTML object>"
      ]
     },
     "metadata": {},
     "output_type": "display_data"
    },
    {
     "data": {
      "text/plain": [
       "TensorBase(0.0231)"
      ]
     },
     "execution_count": 10,
     "metadata": {},
     "output_type": "execute_result"
    }
   ],
   "source": [
    "# Get TTA predictions on validation set\n",
    "probs, target = learn.tta(dl=dls.valid)\n",
    "error_rate(probs, target)"
   ]
  },
  {
   "cell_type": "markdown",
   "id": "a20ec9bd",
   "metadata": {},
   "source": [
    "So you can see a boost with TTA."
   ]
  },
  {
   "cell_type": "markdown",
   "id": "9bac8a73",
   "metadata": {},
   "source": [
    "### Predictions on test set"
   ]
  },
  {
   "cell_type": "code",
   "execution_count": 11,
   "id": "5f8ded9b",
   "metadata": {},
   "outputs": [
    {
     "data": {
      "text/html": [
       "\n",
       "<style>\n",
       "    /* Turns off some styling */\n",
       "    progress {\n",
       "        /* gets rid of default border in Firefox and Opera. */\n",
       "        border: none;\n",
       "        /* Needs to be in here for Safari polyfill so background images work as expected. */\n",
       "        background-size: auto;\n",
       "    }\n",
       "    .progress-bar-interrupted, .progress-bar-interrupted::-webkit-progress-bar {\n",
       "        background: #F44336;\n",
       "    }\n",
       "</style>\n"
      ],
      "text/plain": [
       "<IPython.core.display.HTML object>"
      ]
     },
     "metadata": {},
     "output_type": "display_data"
    },
    {
     "data": {
      "text/html": [
       "\n",
       "    <div>\n",
       "      <progress value='0' class='' max='16' style='width:300px; height:20px; vertical-align: middle;'></progress>\n",
       "      \n",
       "    </div>\n",
       "    \n"
      ],
      "text/plain": [
       "<IPython.core.display.HTML object>"
      ]
     },
     "metadata": {},
     "output_type": "display_data"
    },
    {
     "data": {
      "text/html": [
       "\n",
       "<style>\n",
       "    /* Turns off some styling */\n",
       "    progress {\n",
       "        /* gets rid of default border in Firefox and Opera. */\n",
       "        border: none;\n",
       "        /* Needs to be in here for Safari polyfill so background images work as expected. */\n",
       "        background-size: auto;\n",
       "    }\n",
       "    .progress-bar-interrupted, .progress-bar-interrupted::-webkit-progress-bar {\n",
       "        background: #F44336;\n",
       "    }\n",
       "</style>\n"
      ],
      "text/plain": [
       "<IPython.core.display.HTML object>"
      ]
     },
     "metadata": {},
     "output_type": "display_data"
    },
    {
     "data": {
      "text/html": [],
      "text/plain": [
       "<IPython.core.display.HTML object>"
      ]
     },
     "metadata": {},
     "output_type": "display_data"
    }
   ],
   "source": [
    "# TTA predictions from test images\n",
    "probs, _ = learn.tta(dl=dls.test_dl(test_files))"
   ]
  },
  {
   "cell_type": "code",
   "execution_count": 12,
   "id": "5b24511b",
   "metadata": {},
   "outputs": [],
   "source": [
    "# get the index with the greater probability\n",
    "preds = probs.argmax(dim=1)"
   ]
  },
  {
   "cell_type": "code",
   "execution_count": 13,
   "id": "818b6d43",
   "metadata": {},
   "outputs": [
    {
     "data": {
      "text/plain": [
       "(#3469) ['hispa','normal','blast','blast','blast','brown_spot','dead_heart','brown_spot','hispa','normal'...]"
      ]
     },
     "execution_count": 13,
     "metadata": {},
     "output_type": "execute_result"
    }
   ],
   "source": [
    "dls.vocab[preds]"
   ]
  },
  {
   "cell_type": "markdown",
   "id": "09cbebf0",
   "metadata": {},
   "source": [
    "### Submission"
   ]
  },
  {
   "cell_type": "code",
   "execution_count": 14,
   "id": "2759a832",
   "metadata": {},
   "outputs": [],
   "source": [
    "sample_submission.label = dls.vocab[preds]\n",
    "sample_submission.to_csv('submission.csv', index=False)"
   ]
  },
  {
   "cell_type": "markdown",
   "id": "eec89c09",
   "metadata": {},
   "source": [
    "### Conclusions"
   ]
  },
  {
   "cell_type": "markdown",
   "id": "e3c783be",
   "metadata": {},
   "source": [
    "* I found this model being a good baseline, with a good accuracy for its speed and cost.\n",
    "* You can try different epochs, learning rates, or even a different seed and see what happens when submitting the results.\n",
    "* Then you can apply some of the techniques that Jeremy applied in his series.\n",
    "* And keep trying.\n",
    "\n"
   ]
  },
  {
   "cell_type": "code",
   "execution_count": 15,
   "id": "7706778c",
   "metadata": {},
   "outputs": [
    {
     "name": "stdout",
     "output_type": "stream",
     "text": [
      "Kernel version 1 successfully pushed.  Please check progress at https://www.kaggle.com/code/fmussari/fast-resnet34-with-fastai\n"
     ]
    }
   ],
   "source": [
    "# Pushing the notebook from my home PC to Kaggle\n",
    "\n",
    "if not iskaggle:\n",
    "    push_notebook(\n",
    "        'fmussari', \n",
    "        'fast-resnet34-with-fastai',\n",
    "        title='Fast Resnet34 with Fastai',\n",
    "        file='2022-07. Fast and Agile Resnet34 with Fastai.ipynb',\n",
    "        competition=competition, \n",
    "        private=True, \n",
    "        gpu=True\n",
    "    )"
   ]
  },
  {
   "cell_type": "markdown",
   "id": "e78d00a8",
   "metadata": {},
   "source": [
    "## Cross Entropy"
   ]
  },
  {
   "cell_type": "code",
   "execution_count": 1,
   "id": "5c5533b7",
   "metadata": {},
   "outputs": [
    {
     "name": "stdout",
     "output_type": "stream",
     "text": [
      "Object `F.CrossEntropyLoss` not found.\n"
     ]
    }
   ],
   "source": [
    "F.CrossEntropyLoss?"
   ]
  },
  {
   "cell_type": "code",
   "execution_count": 59,
   "id": "4a257991",
   "metadata": {},
   "outputs": [
    {
     "data": {
      "text/plain": [
       "tensor([[ 4.2000, -2.4000],\n",
       "        [ 1.6000, -0.6000],\n",
       "        [ 3.6000,  1.2000],\n",
       "        [-0.5000,  0.5000],\n",
       "        [-0.2500,  1.7000]])"
      ]
     },
     "execution_count": 59,
     "metadata": {},
     "output_type": "execute_result"
    }
   ],
   "source": [
    "X = torch.tensor([\n",
    "    [4.2, -2.4], \n",
    "    [1.6, -0.6], \n",
    "    [3.6, 1.2], \n",
    "    [-0.5, 0.5], \n",
    "    [-0.25, 1.7]\n",
    "])\n",
    "X"
   ]
  },
  {
   "cell_type": "code",
   "execution_count": 60,
   "id": "1e6e312a",
   "metadata": {},
   "outputs": [
    {
     "data": {
      "text/plain": [
       "tensor([0, 1, 1, 0, 0])"
      ]
     },
     "execution_count": 60,
     "metadata": {},
     "output_type": "execute_result"
    }
   ],
   "source": [
    "target = torch.tensor([0,1,1,0,0])\n",
    "target"
   ]
  },
  {
   "cell_type": "code",
   "execution_count": 61,
   "id": "defb803c",
   "metadata": {},
   "outputs": [
    {
     "data": {
      "text/plain": [
       "tensor(1.6379)"
      ]
     },
     "execution_count": 61,
     "metadata": {},
     "output_type": "execute_result"
    }
   ],
   "source": [
    "F.cross_entropy(X, target)"
   ]
  },
  {
   "cell_type": "code",
   "execution_count": 19,
   "id": "192f5917",
   "metadata": {},
   "outputs": [
    {
     "data": {
      "text/plain": [
       "tensor([[0.9986, 0.0014],\n",
       "        [0.9002, 0.0998],\n",
       "        [0.9168, 0.0832],\n",
       "        [0.2689, 0.7311],\n",
       "        [0.1246, 0.8754]])"
      ]
     },
     "execution_count": 19,
     "metadata": {},
     "output_type": "execute_result"
    }
   ],
   "source": [
    "softmax(X, axis=1)"
   ]
  },
  {
   "cell_type": "code",
   "execution_count": 21,
   "id": "9c99208b",
   "metadata": {},
   "outputs": [
    {
     "data": {
      "text/plain": [
       "tensor(1.6379)"
      ]
     },
     "execution_count": 21,
     "metadata": {},
     "output_type": "execute_result"
    }
   ],
   "source": [
    "F.cross_entropy(X, target)"
   ]
  },
  {
   "cell_type": "code",
   "execution_count": 104,
   "id": "ed187f5b",
   "metadata": {},
   "outputs": [
    {
     "data": {
      "text/plain": [
       "tensor([[-4.8852,  2.5975,  0.5917, -2.0689, -4.5687]])"
      ]
     },
     "execution_count": 104,
     "metadata": {},
     "output_type": "execute_result"
    }
   ],
   "source": [
    "X = torch.tensor(\n",
    "    [[-4.88522478044709, 2.59747282063147, 0.591664975702642, -2.06894452227226, -4.56867917386799]]\n",
    ")\n",
    "X"
   ]
  },
  {
   "cell_type": "code",
   "execution_count": 105,
   "id": "7b2bfd86",
   "metadata": {},
   "outputs": [
    {
     "data": {
      "text/plain": [
       "tensor([1])"
      ]
     },
     "execution_count": 105,
     "metadata": {},
     "output_type": "execute_result"
    }
   ],
   "source": [
    "target = torch.tensor([1])\n",
    "target"
   ]
  },
  {
   "cell_type": "code",
   "execution_count": 106,
   "id": "e97fe9fa",
   "metadata": {},
   "outputs": [
    {
     "data": {
      "text/plain": [
       "tensor([[4.9135e-04, 8.7314e-01, 1.1748e-01, 8.2127e-03, 6.7432e-04]])"
      ]
     },
     "execution_count": 106,
     "metadata": {},
     "output_type": "execute_result"
    }
   ],
   "source": [
    "softmax(X)"
   ]
  },
  {
   "cell_type": "code",
   "execution_count": 107,
   "id": "c1cf62ed",
   "metadata": {},
   "outputs": [
    {
     "data": {
      "text/plain": [
       "tensor(0.1357)"
      ]
     },
     "execution_count": 107,
     "metadata": {},
     "output_type": "execute_result"
    }
   ],
   "source": [
    "F.cross_entropy(X, target)"
   ]
  },
  {
   "cell_type": "code",
   "execution_count": 108,
   "id": "1708ce7e",
   "metadata": {},
   "outputs": [
    {
     "data": {
      "text/plain": [
       "tensor(-2.5975)"
      ]
     },
     "execution_count": 108,
     "metadata": {},
     "output_type": "execute_result"
    }
   ],
   "source": [
    "F.nll_loss(X, target)"
   ]
  },
  {
   "cell_type": "code",
   "execution_count": 75,
   "id": "4a2acd59",
   "metadata": {},
   "outputs": [
    {
     "data": {
      "text/plain": [
       "tensor([[ 4.2000, -2.4000],\n",
       "        [ 1.6000, -0.6000],\n",
       "        [ 3.6000,  1.2000],\n",
       "        [-0.5000,  0.5000],\n",
       "        [-0.2500,  1.7000]])"
      ]
     },
     "execution_count": 75,
     "metadata": {},
     "output_type": "execute_result"
    }
   ],
   "source": [
    "X = torch.tensor([\n",
    "    [4.2, -2.4], \n",
    "    [1.6, -0.6], \n",
    "    [3.6, 1.2], \n",
    "    [-0.5, 0.5], \n",
    "    [-0.25, 1.7]\n",
    "])\n",
    "X"
   ]
  },
  {
   "cell_type": "code",
   "execution_count": 76,
   "id": "46c3a0e6",
   "metadata": {},
   "outputs": [
    {
     "data": {
      "text/plain": [
       "tensor([0, 1, 1, 0, 0])"
      ]
     },
     "execution_count": 76,
     "metadata": {},
     "output_type": "execute_result"
    }
   ],
   "source": [
    "y = torch.tensor([0,1,1,0,0])\n",
    "y"
   ]
  },
  {
   "cell_type": "code",
   "execution_count": 80,
   "id": "93f3dfa4",
   "metadata": {},
   "outputs": [
    {
     "data": {
      "text/plain": [
       "tensor(1.6370)"
      ]
     },
     "execution_count": 80,
     "metadata": {},
     "output_type": "execute_result"
    }
   ],
   "source": [
    "F.cross_entropy(X, y, label_smoothing=0.01)"
   ]
  },
  {
   "cell_type": "code",
   "execution_count": 109,
   "id": "a011fcda",
   "metadata": {},
   "outputs": [],
   "source": [
    "F.cross_entropy??"
   ]
  },
  {
   "cell_type": "markdown",
   "id": "2cdd88a1",
   "metadata": {},
   "source": [
    "https://amaarora.github.io/2020/07/18/label-smoothing.html"
   ]
  },
  {
   "cell_type": "code",
   "execution_count": 93,
   "id": "1a6710e0",
   "metadata": {},
   "outputs": [],
   "source": [
    "# Helper functions from fastai\n",
    "def reduce_loss(loss, reduction='mean'):\n",
    "    return loss.mean() if reduction=='mean' else loss.sum() if reduction=='sum' else loss"
   ]
  },
  {
   "cell_type": "code",
   "execution_count": 115,
   "id": "361ed2c0",
   "metadata": {},
   "outputs": [],
   "source": [
    "# Implementation from fastai https://github.com/fastai/fastai2/blob/master/fastai2/layers.py#L338\n",
    "class LabelSmoothingCrossEntropy(nn.Module):\n",
    "    def __init__(self, ε:float=0.1, reduction='mean'):\n",
    "        super().__init__()\n",
    "        self.ε,self.reduction = ε,reduction\n",
    "    \n",
    "    def forward(self, output, target):\n",
    "        # number of classes\n",
    "        c = output.size()[-1]\n",
    "        print(f\"output: {output}\")\n",
    "        log_preds = F.log_softmax(output, dim=-1)\n",
    "        \n",
    "        print(f\"log_preds: {log_preds}\")\n",
    "        \n",
    "        loss = reduce_loss(-log_preds.sum(dim=-1), self.reduction)\n",
    "        nll = F.nll_loss(log_preds, target, reduction=self.reduction)\n",
    "        # (1-ε)* H(q,p) + ε*H(u,p)\n",
    "        return (1-self.ε)*nll + self.ε*(loss/c) "
   ]
  },
  {
   "cell_type": "code",
   "execution_count": 112,
   "id": "935e285a",
   "metadata": {},
   "outputs": [
    {
     "data": {
      "text/plain": [
       "tensor([[ 4.2000, -2.4000],\n",
       "        [ 1.6000, -0.6000],\n",
       "        [ 3.6000,  1.2000],\n",
       "        [-0.5000,  0.5000],\n",
       "        [-0.2500,  1.7000]])"
      ]
     },
     "execution_count": 112,
     "metadata": {},
     "output_type": "execute_result"
    }
   ],
   "source": [
    "# X: model logits or outputs, y: true labels\n",
    "X = torch.tensor([\n",
    "    [4.2, -2.4], \n",
    "    [1.6, -0.6], \n",
    "    [3.6, 1.2], \n",
    "    [-0.5, 0.5], \n",
    "    [-0.25, 1.7]\n",
    "])\n",
    "y = torch.tensor([0,1,1,0,0])\n",
    "\n",
    "#out\n",
    "tensor([[ 4.2000, -2.4000],\n",
    "        [ 1.6000, -0.6000],\n",
    "        [ 3.6000,  1.2000],\n",
    "        [-0.5000,  0.5000],\n",
    "        [-0.2500,  1.7000]]) "
   ]
  },
  {
   "cell_type": "code",
   "execution_count": 113,
   "id": "8d4bd175",
   "metadata": {},
   "outputs": [
    {
     "name": "stdout",
     "output_type": "stream",
     "text": [
      "log_preds: tensor([[-1.3595e-03, -6.6014e+00],\n",
      "        [-1.0508e-01, -2.3051e+00],\n",
      "        [-8.6836e-02, -2.4868e+00],\n",
      "        [-1.3133e+00, -3.1326e-01],\n",
      "        [-2.0830e+00, -1.3302e-01]])\n"
     ]
    },
    {
     "data": {
      "text/plain": [
       "tensor([0.3314, 2.1951, 2.3668, 1.2633, 1.9855])"
      ]
     },
     "execution_count": 113,
     "metadata": {},
     "output_type": "execute_result"
    }
   ],
   "source": [
    "LabelSmoothingCrossEntropy(ε=0.1, reduction='none')(X,y)"
   ]
  },
  {
   "cell_type": "code",
   "execution_count": 123,
   "id": "8060718f",
   "metadata": {},
   "outputs": [
    {
     "data": {
      "text/plain": [
       "tensor([[-4.8852,  2.5975,  0.5917, -2.0689, -4.5687]])"
      ]
     },
     "execution_count": 123,
     "metadata": {},
     "output_type": "execute_result"
    }
   ],
   "source": [
    "X = torch.tensor(\n",
    "    [[-4.88522478044709, 2.59747282063147, 0.591664975702642, -2.06894452227226, -4.56867917386799]]\n",
    ")\n",
    "target = torch.tensor([1])\n",
    "X"
   ]
  },
  {
   "cell_type": "code",
   "execution_count": 146,
   "id": "38d1f401",
   "metadata": {},
   "outputs": [
    {
     "data": {
      "text/plain": [
       "[-7.618357767044846,\n",
       " -0.13566004174882512,\n",
       " -2.141467977940384,\n",
       " -4.802077402054611,\n",
       " -7.301812280594651]"
      ]
     },
     "execution_count": 146,
     "metadata": {},
     "output_type": "execute_result"
    }
   ],
   "source": [
    "total = sum([math.exp(xi) for xi in X[0]])\n",
    "[math.log(math.exp(xi)/total) for xi in X[0]]"
   ]
  },
  {
   "cell_type": "code",
   "execution_count": 147,
   "id": "12e620d5",
   "metadata": {},
   "outputs": [],
   "source": []
  },
  {
   "cell_type": "code",
   "execution_count": 127,
   "id": "59026576",
   "metadata": {},
   "outputs": [
    {
     "data": {
      "text/plain": [
       "tensor([[-7.6184, -0.1357, -2.1415, -4.8021, -7.3018]])"
      ]
     },
     "execution_count": 127,
     "metadata": {},
     "output_type": "execute_result"
    }
   ],
   "source": [
    "F.log_softmax(X, dim=-1)"
   ]
  },
  {
   "cell_type": "code",
   "execution_count": 119,
   "id": "c811da49",
   "metadata": {},
   "outputs": [
    {
     "name": "stdout",
     "output_type": "stream",
     "text": [
      "output: tensor([[-4.8852,  2.5975,  0.5917, -2.0689, -4.5687]])\n",
      "log_preds: tensor([[-7.6184, -0.1357, -2.1415, -4.8021, -7.3018]])\n"
     ]
    },
    {
     "data": {
      "text/plain": [
       "tensor([0.1357])"
      ]
     },
     "execution_count": 119,
     "metadata": {},
     "output_type": "execute_result"
    }
   ],
   "source": [
    "LabelSmoothingCrossEntropy(ε=0, reduction='none')(X,target)"
   ]
  },
  {
   "cell_type": "code",
   "execution_count": 122,
   "id": "9223f4b7",
   "metadata": {},
   "outputs": [],
   "source": [
    "F.log_softmax??"
   ]
  },
  {
   "cell_type": "code",
   "execution_count": null,
   "id": "6e1c33eb",
   "metadata": {},
   "outputs": [],
   "source": []
  }
 ],
 "metadata": {
  "kernelspec": {
   "display_name": "Python 3 (ipykernel)",
   "language": "python",
   "name": "python3"
  },
  "language_info": {
   "codemirror_mode": {
    "name": "ipython",
    "version": 3
   },
   "file_extension": ".py",
   "mimetype": "text/x-python",
   "name": "python",
   "nbconvert_exporter": "python",
   "pygments_lexer": "ipython3",
   "version": "3.9.12"
  }
 },
 "nbformat": 4,
 "nbformat_minor": 5
}
